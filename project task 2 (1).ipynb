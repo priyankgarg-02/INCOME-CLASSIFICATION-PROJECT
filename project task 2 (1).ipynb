{
 "cells": [
  {
   "cell_type": "markdown",
   "metadata": {},
   "source": [
    "# Income Classification using ML and Python"
   ]
  },
  {
   "cell_type": "markdown",
   "metadata": {},
   "source": [
    "## Data Importing"
   ]
  },
  {
   "cell_type": "code",
   "execution_count": 1,
   "metadata": {},
   "outputs": [],
   "source": [
    "import numpy as np\n",
    "import pandas as pd\n",
    "import matplotlib as mpl\n",
    "import matplotlib.pyplot as plt\n",
    "%matplotlib inline\n",
    "from sklearn.model_selection import train_test_split\n",
    "from sklearn import metrics\n",
    "from sklearn.tree import DecisionTreeClassifier\n",
    "from sklearn.linear_model import LogisticRegression"
   ]
  },
  {
   "cell_type": "code",
   "execution_count": 2,
   "metadata": {},
   "outputs": [],
   "source": [
    "start=pd.read_csv('Income Classification.csv')"
   ]
  },
  {
   "cell_type": "code",
   "execution_count": 3,
   "metadata": {},
   "outputs": [],
   "source": [
    "income_ds=pd.DataFrame(start)"
   ]
  },
  {
   "cell_type": "code",
   "execution_count": 4,
   "metadata": {},
   "outputs": [],
   "source": [
    "## replacing ? with NaN value\n",
    "income_ds.replace(to_replace=' ?',value=np.nan,inplace=True)"
   ]
  },
  {
   "cell_type": "code",
   "execution_count": 5,
   "metadata": {},
   "outputs": [
    {
     "data": {
      "text/html": [
       "<div>\n",
       "<style scoped>\n",
       "    .dataframe tbody tr th:only-of-type {\n",
       "        vertical-align: middle;\n",
       "    }\n",
       "\n",
       "    .dataframe tbody tr th {\n",
       "        vertical-align: top;\n",
       "    }\n",
       "\n",
       "    .dataframe thead th {\n",
       "        text-align: right;\n",
       "    }\n",
       "</style>\n",
       "<table border=\"1\" class=\"dataframe\">\n",
       "  <thead>\n",
       "    <tr style=\"text-align: right;\">\n",
       "      <th></th>\n",
       "      <th>age</th>\n",
       "      <th>workclass</th>\n",
       "      <th>fnlwgt</th>\n",
       "      <th>education</th>\n",
       "      <th>education-num</th>\n",
       "      <th>marital-status</th>\n",
       "      <th>occupation</th>\n",
       "      <th>relationship</th>\n",
       "      <th>race</th>\n",
       "      <th>sex</th>\n",
       "      <th>capital-gain</th>\n",
       "      <th>capital-loss</th>\n",
       "      <th>hours-per-week</th>\n",
       "      <th>native-country</th>\n",
       "      <th>income</th>\n",
       "    </tr>\n",
       "  </thead>\n",
       "  <tbody>\n",
       "    <tr>\n",
       "      <th>0</th>\n",
       "      <td>39</td>\n",
       "      <td>State-gov</td>\n",
       "      <td>77516</td>\n",
       "      <td>Bachelors</td>\n",
       "      <td>13</td>\n",
       "      <td>Never-married</td>\n",
       "      <td>Adm-clerical</td>\n",
       "      <td>Not-in-family</td>\n",
       "      <td>White</td>\n",
       "      <td>Male</td>\n",
       "      <td>2174</td>\n",
       "      <td>0</td>\n",
       "      <td>40</td>\n",
       "      <td>United-States</td>\n",
       "      <td>&lt;=50K</td>\n",
       "    </tr>\n",
       "    <tr>\n",
       "      <th>1</th>\n",
       "      <td>50</td>\n",
       "      <td>Self-emp-not-inc</td>\n",
       "      <td>83311</td>\n",
       "      <td>Bachelors</td>\n",
       "      <td>13</td>\n",
       "      <td>Married-civ-spouse</td>\n",
       "      <td>Exec-managerial</td>\n",
       "      <td>Husband</td>\n",
       "      <td>White</td>\n",
       "      <td>Male</td>\n",
       "      <td>0</td>\n",
       "      <td>0</td>\n",
       "      <td>13</td>\n",
       "      <td>United-States</td>\n",
       "      <td>&lt;=50K</td>\n",
       "    </tr>\n",
       "    <tr>\n",
       "      <th>2</th>\n",
       "      <td>38</td>\n",
       "      <td>Private</td>\n",
       "      <td>215646</td>\n",
       "      <td>HS-grad</td>\n",
       "      <td>9</td>\n",
       "      <td>Divorced</td>\n",
       "      <td>Handlers-cleaners</td>\n",
       "      <td>Not-in-family</td>\n",
       "      <td>White</td>\n",
       "      <td>Male</td>\n",
       "      <td>0</td>\n",
       "      <td>0</td>\n",
       "      <td>40</td>\n",
       "      <td>United-States</td>\n",
       "      <td>&lt;=50K</td>\n",
       "    </tr>\n",
       "    <tr>\n",
       "      <th>3</th>\n",
       "      <td>53</td>\n",
       "      <td>Private</td>\n",
       "      <td>234721</td>\n",
       "      <td>11th</td>\n",
       "      <td>7</td>\n",
       "      <td>Married-civ-spouse</td>\n",
       "      <td>Handlers-cleaners</td>\n",
       "      <td>Husband</td>\n",
       "      <td>Black</td>\n",
       "      <td>Male</td>\n",
       "      <td>0</td>\n",
       "      <td>0</td>\n",
       "      <td>40</td>\n",
       "      <td>United-States</td>\n",
       "      <td>&lt;=50K</td>\n",
       "    </tr>\n",
       "    <tr>\n",
       "      <th>4</th>\n",
       "      <td>28</td>\n",
       "      <td>Private</td>\n",
       "      <td>338409</td>\n",
       "      <td>Bachelors</td>\n",
       "      <td>13</td>\n",
       "      <td>Married-civ-spouse</td>\n",
       "      <td>Prof-specialty</td>\n",
       "      <td>Wife</td>\n",
       "      <td>Black</td>\n",
       "      <td>Female</td>\n",
       "      <td>0</td>\n",
       "      <td>0</td>\n",
       "      <td>40</td>\n",
       "      <td>Cuba</td>\n",
       "      <td>&lt;=50K</td>\n",
       "    </tr>\n",
       "    <tr>\n",
       "      <th>5</th>\n",
       "      <td>37</td>\n",
       "      <td>Private</td>\n",
       "      <td>284582</td>\n",
       "      <td>Masters</td>\n",
       "      <td>14</td>\n",
       "      <td>Married-civ-spouse</td>\n",
       "      <td>Exec-managerial</td>\n",
       "      <td>Wife</td>\n",
       "      <td>White</td>\n",
       "      <td>Female</td>\n",
       "      <td>0</td>\n",
       "      <td>0</td>\n",
       "      <td>40</td>\n",
       "      <td>United-States</td>\n",
       "      <td>&lt;=50K</td>\n",
       "    </tr>\n",
       "    <tr>\n",
       "      <th>6</th>\n",
       "      <td>49</td>\n",
       "      <td>Private</td>\n",
       "      <td>160187</td>\n",
       "      <td>9th</td>\n",
       "      <td>5</td>\n",
       "      <td>Married-spouse-absent</td>\n",
       "      <td>Other-service</td>\n",
       "      <td>Not-in-family</td>\n",
       "      <td>Black</td>\n",
       "      <td>Female</td>\n",
       "      <td>0</td>\n",
       "      <td>0</td>\n",
       "      <td>16</td>\n",
       "      <td>Jamaica</td>\n",
       "      <td>&lt;=50K</td>\n",
       "    </tr>\n",
       "    <tr>\n",
       "      <th>7</th>\n",
       "      <td>52</td>\n",
       "      <td>Self-emp-not-inc</td>\n",
       "      <td>209642</td>\n",
       "      <td>HS-grad</td>\n",
       "      <td>9</td>\n",
       "      <td>Married-civ-spouse</td>\n",
       "      <td>Exec-managerial</td>\n",
       "      <td>Husband</td>\n",
       "      <td>White</td>\n",
       "      <td>Male</td>\n",
       "      <td>0</td>\n",
       "      <td>0</td>\n",
       "      <td>45</td>\n",
       "      <td>United-States</td>\n",
       "      <td>&gt;50K</td>\n",
       "    </tr>\n",
       "    <tr>\n",
       "      <th>8</th>\n",
       "      <td>31</td>\n",
       "      <td>Private</td>\n",
       "      <td>45781</td>\n",
       "      <td>Masters</td>\n",
       "      <td>14</td>\n",
       "      <td>Never-married</td>\n",
       "      <td>Prof-specialty</td>\n",
       "      <td>Not-in-family</td>\n",
       "      <td>White</td>\n",
       "      <td>Female</td>\n",
       "      <td>14084</td>\n",
       "      <td>0</td>\n",
       "      <td>50</td>\n",
       "      <td>United-States</td>\n",
       "      <td>&gt;50K</td>\n",
       "    </tr>\n",
       "    <tr>\n",
       "      <th>9</th>\n",
       "      <td>42</td>\n",
       "      <td>Private</td>\n",
       "      <td>159449</td>\n",
       "      <td>Bachelors</td>\n",
       "      <td>13</td>\n",
       "      <td>Married-civ-spouse</td>\n",
       "      <td>Exec-managerial</td>\n",
       "      <td>Husband</td>\n",
       "      <td>White</td>\n",
       "      <td>Male</td>\n",
       "      <td>5178</td>\n",
       "      <td>0</td>\n",
       "      <td>40</td>\n",
       "      <td>United-States</td>\n",
       "      <td>&gt;50K</td>\n",
       "    </tr>\n",
       "    <tr>\n",
       "      <th>10</th>\n",
       "      <td>37</td>\n",
       "      <td>Private</td>\n",
       "      <td>280464</td>\n",
       "      <td>Some-college</td>\n",
       "      <td>10</td>\n",
       "      <td>Married-civ-spouse</td>\n",
       "      <td>Exec-managerial</td>\n",
       "      <td>Husband</td>\n",
       "      <td>Black</td>\n",
       "      <td>Male</td>\n",
       "      <td>0</td>\n",
       "      <td>0</td>\n",
       "      <td>80</td>\n",
       "      <td>United-States</td>\n",
       "      <td>&gt;50K</td>\n",
       "    </tr>\n",
       "    <tr>\n",
       "      <th>11</th>\n",
       "      <td>30</td>\n",
       "      <td>State-gov</td>\n",
       "      <td>141297</td>\n",
       "      <td>Bachelors</td>\n",
       "      <td>13</td>\n",
       "      <td>Married-civ-spouse</td>\n",
       "      <td>Prof-specialty</td>\n",
       "      <td>Husband</td>\n",
       "      <td>Asian-Pac-Islander</td>\n",
       "      <td>Male</td>\n",
       "      <td>0</td>\n",
       "      <td>0</td>\n",
       "      <td>40</td>\n",
       "      <td>India</td>\n",
       "      <td>&gt;50K</td>\n",
       "    </tr>\n",
       "    <tr>\n",
       "      <th>12</th>\n",
       "      <td>23</td>\n",
       "      <td>Private</td>\n",
       "      <td>122272</td>\n",
       "      <td>Bachelors</td>\n",
       "      <td>13</td>\n",
       "      <td>Never-married</td>\n",
       "      <td>Adm-clerical</td>\n",
       "      <td>Own-child</td>\n",
       "      <td>White</td>\n",
       "      <td>Female</td>\n",
       "      <td>0</td>\n",
       "      <td>0</td>\n",
       "      <td>30</td>\n",
       "      <td>United-States</td>\n",
       "      <td>&lt;=50K</td>\n",
       "    </tr>\n",
       "    <tr>\n",
       "      <th>13</th>\n",
       "      <td>32</td>\n",
       "      <td>Private</td>\n",
       "      <td>205019</td>\n",
       "      <td>Assoc-acdm</td>\n",
       "      <td>12</td>\n",
       "      <td>Never-married</td>\n",
       "      <td>Sales</td>\n",
       "      <td>Not-in-family</td>\n",
       "      <td>Black</td>\n",
       "      <td>Male</td>\n",
       "      <td>0</td>\n",
       "      <td>0</td>\n",
       "      <td>50</td>\n",
       "      <td>United-States</td>\n",
       "      <td>&lt;=50K</td>\n",
       "    </tr>\n",
       "    <tr>\n",
       "      <th>14</th>\n",
       "      <td>40</td>\n",
       "      <td>Private</td>\n",
       "      <td>121772</td>\n",
       "      <td>Assoc-voc</td>\n",
       "      <td>11</td>\n",
       "      <td>Married-civ-spouse</td>\n",
       "      <td>Craft-repair</td>\n",
       "      <td>Husband</td>\n",
       "      <td>Asian-Pac-Islander</td>\n",
       "      <td>Male</td>\n",
       "      <td>0</td>\n",
       "      <td>0</td>\n",
       "      <td>40</td>\n",
       "      <td>NaN</td>\n",
       "      <td>&gt;50K</td>\n",
       "    </tr>\n",
       "    <tr>\n",
       "      <th>15</th>\n",
       "      <td>34</td>\n",
       "      <td>Private</td>\n",
       "      <td>245487</td>\n",
       "      <td>7th-8th</td>\n",
       "      <td>4</td>\n",
       "      <td>Married-civ-spouse</td>\n",
       "      <td>Transport-moving</td>\n",
       "      <td>Husband</td>\n",
       "      <td>Amer-Indian-Eskimo</td>\n",
       "      <td>Male</td>\n",
       "      <td>0</td>\n",
       "      <td>0</td>\n",
       "      <td>45</td>\n",
       "      <td>Mexico</td>\n",
       "      <td>&lt;=50K</td>\n",
       "    </tr>\n",
       "    <tr>\n",
       "      <th>16</th>\n",
       "      <td>25</td>\n",
       "      <td>Self-emp-not-inc</td>\n",
       "      <td>176756</td>\n",
       "      <td>HS-grad</td>\n",
       "      <td>9</td>\n",
       "      <td>Never-married</td>\n",
       "      <td>Farming-fishing</td>\n",
       "      <td>Own-child</td>\n",
       "      <td>White</td>\n",
       "      <td>Male</td>\n",
       "      <td>0</td>\n",
       "      <td>0</td>\n",
       "      <td>35</td>\n",
       "      <td>United-States</td>\n",
       "      <td>&lt;=50K</td>\n",
       "    </tr>\n",
       "    <tr>\n",
       "      <th>17</th>\n",
       "      <td>32</td>\n",
       "      <td>Private</td>\n",
       "      <td>186824</td>\n",
       "      <td>HS-grad</td>\n",
       "      <td>9</td>\n",
       "      <td>Never-married</td>\n",
       "      <td>Machine-op-inspct</td>\n",
       "      <td>Unmarried</td>\n",
       "      <td>White</td>\n",
       "      <td>Male</td>\n",
       "      <td>0</td>\n",
       "      <td>0</td>\n",
       "      <td>40</td>\n",
       "      <td>United-States</td>\n",
       "      <td>&lt;=50K</td>\n",
       "    </tr>\n",
       "    <tr>\n",
       "      <th>18</th>\n",
       "      <td>38</td>\n",
       "      <td>Private</td>\n",
       "      <td>28887</td>\n",
       "      <td>11th</td>\n",
       "      <td>7</td>\n",
       "      <td>Married-civ-spouse</td>\n",
       "      <td>Sales</td>\n",
       "      <td>Husband</td>\n",
       "      <td>White</td>\n",
       "      <td>Male</td>\n",
       "      <td>0</td>\n",
       "      <td>0</td>\n",
       "      <td>50</td>\n",
       "      <td>United-States</td>\n",
       "      <td>&lt;=50K</td>\n",
       "    </tr>\n",
       "    <tr>\n",
       "      <th>19</th>\n",
       "      <td>43</td>\n",
       "      <td>Self-emp-not-inc</td>\n",
       "      <td>292175</td>\n",
       "      <td>Masters</td>\n",
       "      <td>14</td>\n",
       "      <td>Divorced</td>\n",
       "      <td>Exec-managerial</td>\n",
       "      <td>Unmarried</td>\n",
       "      <td>White</td>\n",
       "      <td>Female</td>\n",
       "      <td>0</td>\n",
       "      <td>0</td>\n",
       "      <td>45</td>\n",
       "      <td>United-States</td>\n",
       "      <td>&gt;50K</td>\n",
       "    </tr>\n",
       "    <tr>\n",
       "      <th>20</th>\n",
       "      <td>40</td>\n",
       "      <td>Private</td>\n",
       "      <td>193524</td>\n",
       "      <td>Doctorate</td>\n",
       "      <td>16</td>\n",
       "      <td>Married-civ-spouse</td>\n",
       "      <td>Prof-specialty</td>\n",
       "      <td>Husband</td>\n",
       "      <td>White</td>\n",
       "      <td>Male</td>\n",
       "      <td>0</td>\n",
       "      <td>0</td>\n",
       "      <td>60</td>\n",
       "      <td>United-States</td>\n",
       "      <td>&gt;50K</td>\n",
       "    </tr>\n",
       "    <tr>\n",
       "      <th>21</th>\n",
       "      <td>54</td>\n",
       "      <td>Private</td>\n",
       "      <td>302146</td>\n",
       "      <td>HS-grad</td>\n",
       "      <td>9</td>\n",
       "      <td>Separated</td>\n",
       "      <td>Other-service</td>\n",
       "      <td>Unmarried</td>\n",
       "      <td>Black</td>\n",
       "      <td>Female</td>\n",
       "      <td>0</td>\n",
       "      <td>0</td>\n",
       "      <td>20</td>\n",
       "      <td>United-States</td>\n",
       "      <td>&lt;=50K</td>\n",
       "    </tr>\n",
       "    <tr>\n",
       "      <th>22</th>\n",
       "      <td>35</td>\n",
       "      <td>Federal-gov</td>\n",
       "      <td>76845</td>\n",
       "      <td>9th</td>\n",
       "      <td>5</td>\n",
       "      <td>Married-civ-spouse</td>\n",
       "      <td>Farming-fishing</td>\n",
       "      <td>Husband</td>\n",
       "      <td>Black</td>\n",
       "      <td>Male</td>\n",
       "      <td>0</td>\n",
       "      <td>0</td>\n",
       "      <td>40</td>\n",
       "      <td>United-States</td>\n",
       "      <td>&lt;=50K</td>\n",
       "    </tr>\n",
       "    <tr>\n",
       "      <th>23</th>\n",
       "      <td>43</td>\n",
       "      <td>Private</td>\n",
       "      <td>117037</td>\n",
       "      <td>11th</td>\n",
       "      <td>7</td>\n",
       "      <td>Married-civ-spouse</td>\n",
       "      <td>Transport-moving</td>\n",
       "      <td>Husband</td>\n",
       "      <td>White</td>\n",
       "      <td>Male</td>\n",
       "      <td>0</td>\n",
       "      <td>2042</td>\n",
       "      <td>40</td>\n",
       "      <td>United-States</td>\n",
       "      <td>&lt;=50K</td>\n",
       "    </tr>\n",
       "    <tr>\n",
       "      <th>24</th>\n",
       "      <td>59</td>\n",
       "      <td>Private</td>\n",
       "      <td>109015</td>\n",
       "      <td>HS-grad</td>\n",
       "      <td>9</td>\n",
       "      <td>Divorced</td>\n",
       "      <td>Tech-support</td>\n",
       "      <td>Unmarried</td>\n",
       "      <td>White</td>\n",
       "      <td>Female</td>\n",
       "      <td>0</td>\n",
       "      <td>0</td>\n",
       "      <td>40</td>\n",
       "      <td>United-States</td>\n",
       "      <td>&lt;=50K</td>\n",
       "    </tr>\n",
       "    <tr>\n",
       "      <th>25</th>\n",
       "      <td>56</td>\n",
       "      <td>Local-gov</td>\n",
       "      <td>216851</td>\n",
       "      <td>Bachelors</td>\n",
       "      <td>13</td>\n",
       "      <td>Married-civ-spouse</td>\n",
       "      <td>Tech-support</td>\n",
       "      <td>Husband</td>\n",
       "      <td>White</td>\n",
       "      <td>Male</td>\n",
       "      <td>0</td>\n",
       "      <td>0</td>\n",
       "      <td>40</td>\n",
       "      <td>United-States</td>\n",
       "      <td>&gt;50K</td>\n",
       "    </tr>\n",
       "    <tr>\n",
       "      <th>26</th>\n",
       "      <td>19</td>\n",
       "      <td>Private</td>\n",
       "      <td>168294</td>\n",
       "      <td>HS-grad</td>\n",
       "      <td>9</td>\n",
       "      <td>Never-married</td>\n",
       "      <td>Craft-repair</td>\n",
       "      <td>Own-child</td>\n",
       "      <td>White</td>\n",
       "      <td>Male</td>\n",
       "      <td>0</td>\n",
       "      <td>0</td>\n",
       "      <td>40</td>\n",
       "      <td>United-States</td>\n",
       "      <td>&lt;=50K</td>\n",
       "    </tr>\n",
       "    <tr>\n",
       "      <th>27</th>\n",
       "      <td>54</td>\n",
       "      <td>NaN</td>\n",
       "      <td>180211</td>\n",
       "      <td>Some-college</td>\n",
       "      <td>10</td>\n",
       "      <td>Married-civ-spouse</td>\n",
       "      <td>NaN</td>\n",
       "      <td>Husband</td>\n",
       "      <td>Asian-Pac-Islander</td>\n",
       "      <td>Male</td>\n",
       "      <td>0</td>\n",
       "      <td>0</td>\n",
       "      <td>60</td>\n",
       "      <td>South</td>\n",
       "      <td>&gt;50K</td>\n",
       "    </tr>\n",
       "    <tr>\n",
       "      <th>28</th>\n",
       "      <td>39</td>\n",
       "      <td>Private</td>\n",
       "      <td>367260</td>\n",
       "      <td>HS-grad</td>\n",
       "      <td>9</td>\n",
       "      <td>Divorced</td>\n",
       "      <td>Exec-managerial</td>\n",
       "      <td>Not-in-family</td>\n",
       "      <td>White</td>\n",
       "      <td>Male</td>\n",
       "      <td>0</td>\n",
       "      <td>0</td>\n",
       "      <td>80</td>\n",
       "      <td>United-States</td>\n",
       "      <td>&lt;=50K</td>\n",
       "    </tr>\n",
       "    <tr>\n",
       "      <th>29</th>\n",
       "      <td>49</td>\n",
       "      <td>Private</td>\n",
       "      <td>193366</td>\n",
       "      <td>HS-grad</td>\n",
       "      <td>9</td>\n",
       "      <td>Married-civ-spouse</td>\n",
       "      <td>Craft-repair</td>\n",
       "      <td>Husband</td>\n",
       "      <td>White</td>\n",
       "      <td>Male</td>\n",
       "      <td>0</td>\n",
       "      <td>0</td>\n",
       "      <td>40</td>\n",
       "      <td>United-States</td>\n",
       "      <td>&lt;=50K</td>\n",
       "    </tr>\n",
       "  </tbody>\n",
       "</table>\n",
       "</div>"
      ],
      "text/plain": [
       "    age          workclass   fnlwgt      education   education-num  \\\n",
       "0    39          State-gov    77516      Bachelors              13   \n",
       "1    50   Self-emp-not-inc    83311      Bachelors              13   \n",
       "2    38            Private   215646        HS-grad               9   \n",
       "3    53            Private   234721           11th               7   \n",
       "4    28            Private   338409      Bachelors              13   \n",
       "5    37            Private   284582        Masters              14   \n",
       "6    49            Private   160187            9th               5   \n",
       "7    52   Self-emp-not-inc   209642        HS-grad               9   \n",
       "8    31            Private    45781        Masters              14   \n",
       "9    42            Private   159449      Bachelors              13   \n",
       "10   37            Private   280464   Some-college              10   \n",
       "11   30          State-gov   141297      Bachelors              13   \n",
       "12   23            Private   122272      Bachelors              13   \n",
       "13   32            Private   205019     Assoc-acdm              12   \n",
       "14   40            Private   121772      Assoc-voc              11   \n",
       "15   34            Private   245487        7th-8th               4   \n",
       "16   25   Self-emp-not-inc   176756        HS-grad               9   \n",
       "17   32            Private   186824        HS-grad               9   \n",
       "18   38            Private    28887           11th               7   \n",
       "19   43   Self-emp-not-inc   292175        Masters              14   \n",
       "20   40            Private   193524      Doctorate              16   \n",
       "21   54            Private   302146        HS-grad               9   \n",
       "22   35        Federal-gov    76845            9th               5   \n",
       "23   43            Private   117037           11th               7   \n",
       "24   59            Private   109015        HS-grad               9   \n",
       "25   56          Local-gov   216851      Bachelors              13   \n",
       "26   19            Private   168294        HS-grad               9   \n",
       "27   54                NaN   180211   Some-college              10   \n",
       "28   39            Private   367260        HS-grad               9   \n",
       "29   49            Private   193366        HS-grad               9   \n",
       "\n",
       "            marital-status          occupation    relationship  \\\n",
       "0            Never-married        Adm-clerical   Not-in-family   \n",
       "1       Married-civ-spouse     Exec-managerial         Husband   \n",
       "2                 Divorced   Handlers-cleaners   Not-in-family   \n",
       "3       Married-civ-spouse   Handlers-cleaners         Husband   \n",
       "4       Married-civ-spouse      Prof-specialty            Wife   \n",
       "5       Married-civ-spouse     Exec-managerial            Wife   \n",
       "6    Married-spouse-absent       Other-service   Not-in-family   \n",
       "7       Married-civ-spouse     Exec-managerial         Husband   \n",
       "8            Never-married      Prof-specialty   Not-in-family   \n",
       "9       Married-civ-spouse     Exec-managerial         Husband   \n",
       "10      Married-civ-spouse     Exec-managerial         Husband   \n",
       "11      Married-civ-spouse      Prof-specialty         Husband   \n",
       "12           Never-married        Adm-clerical       Own-child   \n",
       "13           Never-married               Sales   Not-in-family   \n",
       "14      Married-civ-spouse        Craft-repair         Husband   \n",
       "15      Married-civ-spouse    Transport-moving         Husband   \n",
       "16           Never-married     Farming-fishing       Own-child   \n",
       "17           Never-married   Machine-op-inspct       Unmarried   \n",
       "18      Married-civ-spouse               Sales         Husband   \n",
       "19                Divorced     Exec-managerial       Unmarried   \n",
       "20      Married-civ-spouse      Prof-specialty         Husband   \n",
       "21               Separated       Other-service       Unmarried   \n",
       "22      Married-civ-spouse     Farming-fishing         Husband   \n",
       "23      Married-civ-spouse    Transport-moving         Husband   \n",
       "24                Divorced        Tech-support       Unmarried   \n",
       "25      Married-civ-spouse        Tech-support         Husband   \n",
       "26           Never-married        Craft-repair       Own-child   \n",
       "27      Married-civ-spouse                 NaN         Husband   \n",
       "28                Divorced     Exec-managerial   Not-in-family   \n",
       "29      Married-civ-spouse        Craft-repair         Husband   \n",
       "\n",
       "                   race      sex   capital-gain   capital-loss  \\\n",
       "0                 White     Male           2174              0   \n",
       "1                 White     Male              0              0   \n",
       "2                 White     Male              0              0   \n",
       "3                 Black     Male              0              0   \n",
       "4                 Black   Female              0              0   \n",
       "5                 White   Female              0              0   \n",
       "6                 Black   Female              0              0   \n",
       "7                 White     Male              0              0   \n",
       "8                 White   Female          14084              0   \n",
       "9                 White     Male           5178              0   \n",
       "10                Black     Male              0              0   \n",
       "11   Asian-Pac-Islander     Male              0              0   \n",
       "12                White   Female              0              0   \n",
       "13                Black     Male              0              0   \n",
       "14   Asian-Pac-Islander     Male              0              0   \n",
       "15   Amer-Indian-Eskimo     Male              0              0   \n",
       "16                White     Male              0              0   \n",
       "17                White     Male              0              0   \n",
       "18                White     Male              0              0   \n",
       "19                White   Female              0              0   \n",
       "20                White     Male              0              0   \n",
       "21                Black   Female              0              0   \n",
       "22                Black     Male              0              0   \n",
       "23                White     Male              0           2042   \n",
       "24                White   Female              0              0   \n",
       "25                White     Male              0              0   \n",
       "26                White     Male              0              0   \n",
       "27   Asian-Pac-Islander     Male              0              0   \n",
       "28                White     Male              0              0   \n",
       "29                White     Male              0              0   \n",
       "\n",
       "     hours-per-week  native-country  income  \n",
       "0                40   United-States   <=50K  \n",
       "1                13   United-States   <=50K  \n",
       "2                40   United-States   <=50K  \n",
       "3                40   United-States   <=50K  \n",
       "4                40            Cuba   <=50K  \n",
       "5                40   United-States   <=50K  \n",
       "6                16         Jamaica   <=50K  \n",
       "7                45   United-States    >50K  \n",
       "8                50   United-States    >50K  \n",
       "9                40   United-States    >50K  \n",
       "10               80   United-States    >50K  \n",
       "11               40           India    >50K  \n",
       "12               30   United-States   <=50K  \n",
       "13               50   United-States   <=50K  \n",
       "14               40             NaN    >50K  \n",
       "15               45          Mexico   <=50K  \n",
       "16               35   United-States   <=50K  \n",
       "17               40   United-States   <=50K  \n",
       "18               50   United-States   <=50K  \n",
       "19               45   United-States    >50K  \n",
       "20               60   United-States    >50K  \n",
       "21               20   United-States   <=50K  \n",
       "22               40   United-States   <=50K  \n",
       "23               40   United-States   <=50K  \n",
       "24               40   United-States   <=50K  \n",
       "25               40   United-States    >50K  \n",
       "26               40   United-States   <=50K  \n",
       "27               60           South    >50K  \n",
       "28               80   United-States   <=50K  \n",
       "29               40   United-States   <=50K  "
      ]
     },
     "execution_count": 5,
     "metadata": {},
     "output_type": "execute_result"
    }
   ],
   "source": [
    "##displaying first 30 rows of dataset\n",
    "income_ds.head(30)"
   ]
  },
  {
   "cell_type": "code",
   "execution_count": 6,
   "metadata": {},
   "outputs": [
    {
     "data": {
      "text/plain": [
       "(32561, 15)"
      ]
     },
     "execution_count": 6,
     "metadata": {},
     "output_type": "execute_result"
    }
   ],
   "source": [
    "#finding the shape i.e. no. of rows and columns of dataset\n",
    "income_ds.shape"
   ]
  },
  {
   "cell_type": "markdown",
   "metadata": {},
   "source": [
    "* There are 32561 rows and 15 attributes in the dataset."
   ]
  },
  {
   "cell_type": "code",
   "execution_count": 7,
   "metadata": {},
   "outputs": [
    {
     "data": {
      "text/plain": [
       "Index(['age', ' workclass', ' fnlwgt', ' education', ' education-num',\n",
       "       ' marital-status', ' occupation', ' relationship', ' race', ' sex',\n",
       "       ' capital-gain', ' capital-loss', ' hours-per-week', ' native-country',\n",
       "       ' income'],\n",
       "      dtype='object')"
      ]
     },
     "execution_count": 7,
     "metadata": {},
     "output_type": "execute_result"
    }
   ],
   "source": [
    "#finding columns of the dataset\n",
    "income_ds.columns"
   ]
  },
  {
   "cell_type": "code",
   "execution_count": 8,
   "metadata": {},
   "outputs": [
    {
     "name": "stdout",
     "output_type": "stream",
     "text": [
      "<class 'pandas.core.frame.DataFrame'>\n",
      "RangeIndex: 32561 entries, 0 to 32560\n",
      "Data columns (total 15 columns):\n",
      " #   Column           Non-Null Count  Dtype \n",
      "---  ------           --------------  ----- \n",
      " 0   age              32561 non-null  int64 \n",
      " 1    workclass       30725 non-null  object\n",
      " 2    fnlwgt          32561 non-null  int64 \n",
      " 3    education       32561 non-null  object\n",
      " 4    education-num   32561 non-null  int64 \n",
      " 5    marital-status  32561 non-null  object\n",
      " 6    occupation      30718 non-null  object\n",
      " 7    relationship    32561 non-null  object\n",
      " 8    race            32561 non-null  object\n",
      " 9    sex             32561 non-null  object\n",
      " 10   capital-gain    32561 non-null  int64 \n",
      " 11   capital-loss    32561 non-null  int64 \n",
      " 12   hours-per-week  32561 non-null  int64 \n",
      " 13   native-country  31978 non-null  object\n",
      " 14   income          32561 non-null  object\n",
      "dtypes: int64(6), object(9)\n",
      "memory usage: 2.6+ MB\n"
     ]
    }
   ],
   "source": [
    "#info about the dataset\n",
    "income_ds.info()"
   ]
  },
  {
   "cell_type": "code",
   "execution_count": 9,
   "metadata": {},
   "outputs": [
    {
     "data": {
      "text/html": [
       "<div>\n",
       "<style scoped>\n",
       "    .dataframe tbody tr th:only-of-type {\n",
       "        vertical-align: middle;\n",
       "    }\n",
       "\n",
       "    .dataframe tbody tr th {\n",
       "        vertical-align: top;\n",
       "    }\n",
       "\n",
       "    .dataframe thead th {\n",
       "        text-align: right;\n",
       "    }\n",
       "</style>\n",
       "<table border=\"1\" class=\"dataframe\">\n",
       "  <thead>\n",
       "    <tr style=\"text-align: right;\">\n",
       "      <th></th>\n",
       "      <th>age</th>\n",
       "      <th>fnlwgt</th>\n",
       "      <th>education-num</th>\n",
       "      <th>capital-gain</th>\n",
       "      <th>capital-loss</th>\n",
       "      <th>hours-per-week</th>\n",
       "    </tr>\n",
       "  </thead>\n",
       "  <tbody>\n",
       "    <tr>\n",
       "      <th>count</th>\n",
       "      <td>32561.000000</td>\n",
       "      <td>3.256100e+04</td>\n",
       "      <td>32561.000000</td>\n",
       "      <td>32561.000000</td>\n",
       "      <td>32561.000000</td>\n",
       "      <td>32561.000000</td>\n",
       "    </tr>\n",
       "    <tr>\n",
       "      <th>mean</th>\n",
       "      <td>38.581647</td>\n",
       "      <td>1.897784e+05</td>\n",
       "      <td>10.080679</td>\n",
       "      <td>1077.648844</td>\n",
       "      <td>87.303830</td>\n",
       "      <td>40.437456</td>\n",
       "    </tr>\n",
       "    <tr>\n",
       "      <th>std</th>\n",
       "      <td>13.640433</td>\n",
       "      <td>1.055500e+05</td>\n",
       "      <td>2.572720</td>\n",
       "      <td>7385.292085</td>\n",
       "      <td>402.960219</td>\n",
       "      <td>12.347429</td>\n",
       "    </tr>\n",
       "    <tr>\n",
       "      <th>min</th>\n",
       "      <td>17.000000</td>\n",
       "      <td>1.228500e+04</td>\n",
       "      <td>1.000000</td>\n",
       "      <td>0.000000</td>\n",
       "      <td>0.000000</td>\n",
       "      <td>1.000000</td>\n",
       "    </tr>\n",
       "    <tr>\n",
       "      <th>25%</th>\n",
       "      <td>28.000000</td>\n",
       "      <td>1.178270e+05</td>\n",
       "      <td>9.000000</td>\n",
       "      <td>0.000000</td>\n",
       "      <td>0.000000</td>\n",
       "      <td>40.000000</td>\n",
       "    </tr>\n",
       "    <tr>\n",
       "      <th>50%</th>\n",
       "      <td>37.000000</td>\n",
       "      <td>1.783560e+05</td>\n",
       "      <td>10.000000</td>\n",
       "      <td>0.000000</td>\n",
       "      <td>0.000000</td>\n",
       "      <td>40.000000</td>\n",
       "    </tr>\n",
       "    <tr>\n",
       "      <th>75%</th>\n",
       "      <td>48.000000</td>\n",
       "      <td>2.370510e+05</td>\n",
       "      <td>12.000000</td>\n",
       "      <td>0.000000</td>\n",
       "      <td>0.000000</td>\n",
       "      <td>45.000000</td>\n",
       "    </tr>\n",
       "    <tr>\n",
       "      <th>max</th>\n",
       "      <td>90.000000</td>\n",
       "      <td>1.484705e+06</td>\n",
       "      <td>16.000000</td>\n",
       "      <td>99999.000000</td>\n",
       "      <td>4356.000000</td>\n",
       "      <td>99.000000</td>\n",
       "    </tr>\n",
       "  </tbody>\n",
       "</table>\n",
       "</div>"
      ],
      "text/plain": [
       "                age        fnlwgt   education-num   capital-gain  \\\n",
       "count  32561.000000  3.256100e+04    32561.000000   32561.000000   \n",
       "mean      38.581647  1.897784e+05       10.080679    1077.648844   \n",
       "std       13.640433  1.055500e+05        2.572720    7385.292085   \n",
       "min       17.000000  1.228500e+04        1.000000       0.000000   \n",
       "25%       28.000000  1.178270e+05        9.000000       0.000000   \n",
       "50%       37.000000  1.783560e+05       10.000000       0.000000   \n",
       "75%       48.000000  2.370510e+05       12.000000       0.000000   \n",
       "max       90.000000  1.484705e+06       16.000000   99999.000000   \n",
       "\n",
       "        capital-loss   hours-per-week  \n",
       "count   32561.000000     32561.000000  \n",
       "mean       87.303830        40.437456  \n",
       "std       402.960219        12.347429  \n",
       "min         0.000000         1.000000  \n",
       "25%         0.000000        40.000000  \n",
       "50%         0.000000        40.000000  \n",
       "75%         0.000000        45.000000  \n",
       "max      4356.000000        99.000000  "
      ]
     },
     "execution_count": 9,
     "metadata": {},
     "output_type": "execute_result"
    }
   ],
   "source": [
    "#descriptive analysis of data\n",
    "income_ds.describe()"
   ]
  },
  {
   "cell_type": "code",
   "execution_count": 10,
   "metadata": {},
   "outputs": [
    {
     "data": {
      "text/plain": [
       "age                   0\n",
       " workclass         1836\n",
       " fnlwgt               0\n",
       " education            0\n",
       " education-num        0\n",
       " marital-status       0\n",
       " occupation        1843\n",
       " relationship         0\n",
       " race                 0\n",
       " sex                  0\n",
       " capital-gain         0\n",
       " capital-loss         0\n",
       " hours-per-week       0\n",
       " native-country     583\n",
       " income               0\n",
       "dtype: int64"
      ]
     },
     "execution_count": 10,
     "metadata": {},
     "output_type": "execute_result"
    }
   ],
   "source": [
    "income_ds.isnull().sum()"
   ]
  },
  {
   "cell_type": "markdown",
   "metadata": {},
   "source": [
    "* There are 3 attributes having Null values : workclass, occupation and native-country."
   ]
  },
  {
   "cell_type": "markdown",
   "metadata": {},
   "source": [
    "* workclass has 1836 null values,occupation has 1843 null values and native-country has 583 null values."
   ]
  },
  {
   "cell_type": "code",
   "execution_count": 11,
   "metadata": {},
   "outputs": [
    {
     "data": {
      "text/plain": [
       "488415"
      ]
     },
     "execution_count": 11,
     "metadata": {},
     "output_type": "execute_result"
    }
   ],
   "source": [
    "#Size of the Dataset\n",
    "income_ds.size"
   ]
  },
  {
   "cell_type": "markdown",
   "metadata": {},
   "source": [
    "* There are 488415 data items in the Dataset."
   ]
  },
  {
   "cell_type": "code",
   "execution_count": 12,
   "metadata": {},
   "outputs": [
    {
     "data": {
      "text/plain": [
       "age                 int64\n",
       " workclass         object\n",
       " fnlwgt             int64\n",
       " education         object\n",
       " education-num      int64\n",
       " marital-status    object\n",
       " occupation        object\n",
       " relationship      object\n",
       " race              object\n",
       " sex               object\n",
       " capital-gain       int64\n",
       " capital-loss       int64\n",
       " hours-per-week     int64\n",
       " native-country    object\n",
       " income            object\n",
       "dtype: object"
      ]
     },
     "execution_count": 12,
     "metadata": {},
     "output_type": "execute_result"
    }
   ],
   "source": [
    "#Datatypes of each attribute in the dataset\n",
    "income_ds.dtypes"
   ]
  },
  {
   "cell_type": "markdown",
   "metadata": {},
   "source": [
    "* There are 6 attributes with int64 datatype and 9 attributes with object datatype."
   ]
  },
  {
   "cell_type": "code",
   "execution_count": 13,
   "metadata": {},
   "outputs": [
    {
     "data": {
      "text/plain": [
       "age                32561\n",
       " workclass         30725\n",
       " fnlwgt            32561\n",
       " education         32561\n",
       " education-num     32561\n",
       " marital-status    32561\n",
       " occupation        30718\n",
       " relationship      32561\n",
       " race              32561\n",
       " sex               32561\n",
       " capital-gain      32561\n",
       " capital-loss      32561\n",
       " hours-per-week    32561\n",
       " native-country    31978\n",
       " income            32561\n",
       "dtype: int64"
      ]
     },
     "execution_count": 13,
     "metadata": {},
     "output_type": "execute_result"
    }
   ],
   "source": [
    "#total non null values of each attribute\n",
    "income_ds.count()"
   ]
  },
  {
   "cell_type": "markdown",
   "metadata": {},
   "source": [
    "### Removing rows with Null values"
   ]
  },
  {
   "cell_type": "code",
   "execution_count": 14,
   "metadata": {},
   "outputs": [],
   "source": [
    "income_ds.dropna(inplace=True)"
   ]
  },
  {
   "cell_type": "markdown",
   "metadata": {},
   "source": [
    "### Removing insignificant columns"
   ]
  },
  {
   "cell_type": "code",
   "execution_count": 15,
   "metadata": {},
   "outputs": [
    {
     "name": "stdout",
     "output_type": "stream",
     "text": [
      "age\n",
      "36    2.824746\n",
      "31    2.821431\n",
      "33    2.775015\n",
      "34    2.771699\n",
      "35    2.745176\n",
      "        ...   \n",
      "82    0.023208\n",
      "83    0.016577\n",
      "88    0.009946\n",
      "85    0.009946\n",
      "86    0.003315\n",
      "Name: age, Length: 72, dtype: float64\n",
      " workclass\n",
      " Private             73.887673\n",
      " Self-emp-not-inc     8.285260\n",
      " Local-gov            6.852994\n",
      " State-gov            4.240435\n",
      " Self-emp-inc         3.560772\n",
      " Federal-gov          3.126451\n",
      " Without-pay          0.046416\n",
      "Name:  workclass, dtype: float64\n",
      " fnlwgt\n",
      "203488    0.043101\n",
      "113364    0.039785\n",
      "164190    0.039785\n",
      "123011    0.039785\n",
      "148995    0.039785\n",
      "            ...   \n",
      "34393     0.003315\n",
      "288341    0.003315\n",
      "239415    0.003315\n",
      "118352    0.003315\n",
      "229376    0.003315\n",
      "Name:  fnlwgt, Length: 20263, dtype: float64\n",
      " education\n",
      " HS-grad         32.623831\n",
      " Some-college    22.140442\n",
      " Bachelors       16.723029\n",
      " Masters          5.394205\n",
      " Assoc-voc        4.333267\n",
      " 11th             3.474571\n",
      " Assoc-acdm       3.341953\n",
      " 10th             2.718653\n",
      " 7th-8th          1.846695\n",
      " Prof-school      1.796963\n",
      " 9th              1.508521\n",
      " 12th             1.249917\n",
      " Doctorate        1.243286\n",
      " 5th-6th          0.954844\n",
      " 1st-4th          0.500630\n",
      " Preschool        0.149194\n",
      "Name:  education, dtype: float64\n",
      " education-num\n",
      "9     32.623831\n",
      "10    22.140442\n",
      "13    16.723029\n",
      "14     5.394205\n",
      "11     4.333267\n",
      "7      3.474571\n",
      "12     3.341953\n",
      "6      2.718653\n",
      "4      1.846695\n",
      "15     1.796963\n",
      "5      1.508521\n",
      "8      1.249917\n",
      "16     1.243286\n",
      "3      0.954844\n",
      "2      0.500630\n",
      "1      0.149194\n",
      "Name:  education-num, dtype: float64\n",
      " marital-status\n",
      " Married-civ-spouse       46.631523\n",
      " Never-married            32.245872\n",
      " Divorced                 13.971222\n",
      " Separated                 3.113189\n",
      " Widowed                   2.741861\n",
      " Married-spouse-absent     1.226709\n",
      " Married-AF-spouse         0.069624\n",
      "Name:  marital-status, dtype: float64\n",
      " occupation\n",
      " Prof-specialty       13.387706\n",
      " Craft-repair         13.361183\n",
      " Exec-managerial      13.235197\n",
      " Adm-clerical         12.336715\n",
      " Sales                11.882501\n",
      " Other-service        10.649161\n",
      " Machine-op-inspct     6.518135\n",
      " Transport-moving      5.211856\n",
      " Handlers-cleaners     4.475831\n",
      " Farming-fishing       3.278960\n",
      " Tech-support          3.023672\n",
      " Protective-serv       2.135137\n",
      " Priv-house-serv       0.474106\n",
      " Armed-Forces          0.029839\n",
      "Name:  occupation, dtype: float64\n",
      " relationship\n",
      " Husband           41.320204\n",
      " Not-in-family     25.615012\n",
      " Own-child         14.806710\n",
      " Unmarried         10.649161\n",
      " Wife               4.661495\n",
      " Other-relative     2.947417\n",
      "Name:  relationship, dtype: float64\n",
      " race\n",
      " White                 85.979046\n",
      " Black                  9.339566\n",
      " Asian-Pac-Islander     2.967310\n",
      " Amer-Indian-Eskimo     0.948213\n",
      " Other                  0.765864\n",
      "Name:  race, dtype: float64\n",
      " sex\n",
      " Male      67.568464\n",
      " Female    32.431536\n",
      "Name:  sex, dtype: float64\n",
      " capital-gain\n",
      "0        91.585439\n",
      "15024     1.117300\n",
      "7688      0.895166\n",
      "7298      0.795703\n",
      "99999     0.490684\n",
      "           ...    \n",
      "401       0.003315\n",
      "22040     0.003315\n",
      "4931      0.003315\n",
      "1455      0.003315\n",
      "1639      0.003315\n",
      "Name:  capital-gain, Length: 118, dtype: float64\n",
      " capital-loss\n",
      "0       95.268881\n",
      "1902     0.643193\n",
      "1977     0.537100\n",
      "1887     0.513892\n",
      "1848     0.165772\n",
      "          ...    \n",
      "419      0.003315\n",
      "1411     0.003315\n",
      "1539     0.003315\n",
      "2472     0.003315\n",
      "2467     0.003315\n",
      "Name:  capital-loss, Length: 90, dtype: float64\n",
      " hours-per-week\n",
      "40    47.248193\n",
      "50     9.011339\n",
      "45     5.811949\n",
      "60     4.658179\n",
      "35     3.925469\n",
      "        ...    \n",
      "94     0.003315\n",
      "87     0.003315\n",
      "74     0.003315\n",
      "82     0.003315\n",
      "92     0.003315\n",
      "Name:  hours-per-week, Length: 94, dtype: float64\n",
      " native-country\n",
      " United-States                 91.187587\n",
      " Mexico                         2.022412\n",
      " Philippines                    0.623301\n",
      " Germany                        0.424375\n",
      " Puerto-Rico                    0.361382\n",
      " Canada                         0.354751\n",
      " El-Salvador                    0.331543\n",
      " India                          0.331543\n",
      " Cuba                           0.305020\n",
      " England                        0.285127\n",
      " Jamaica                        0.265234\n",
      " South                          0.235396\n",
      " Italy                          0.225449\n",
      " China                          0.225449\n",
      " Dominican-Republic             0.222134\n",
      " Vietnam                        0.212188\n",
      " Guatemala                      0.208872\n",
      " Japan                          0.195610\n",
      " Poland                         0.185664\n",
      " Columbia                       0.185664\n",
      " Iran                           0.139248\n",
      " Taiwan                         0.139248\n",
      " Haiti                          0.139248\n",
      " Portugal                       0.112725\n",
      " Nicaragua                      0.109409\n",
      " Peru                           0.099463\n",
      " Greece                         0.096147\n",
      " Ecuador                        0.089517\n",
      " France                         0.089517\n",
      " Ireland                        0.079570\n",
      " Hong                           0.062993\n",
      " Trinadad&Tobago                0.059678\n",
      " Cambodia                       0.059678\n",
      " Thailand                       0.056362\n",
      " Laos                           0.056362\n",
      " Yugoslavia                     0.053047\n",
      " Outlying-US(Guam-USVI-etc)     0.046416\n",
      " Hungary                        0.043101\n",
      " Honduras                       0.039785\n",
      " Scotland                       0.036470\n",
      " Holand-Netherlands             0.003315\n",
      "Name:  native-country, dtype: float64\n",
      " income\n",
      " <=50K    75.107751\n",
      " >50K     24.892249\n",
      "Name:  income, dtype: float64\n"
     ]
    }
   ],
   "source": [
    "# finding percentage of each unique value for each attribute\n",
    "for c in income_ds.columns:\n",
    "    print(c)\n",
    "    print(income_ds[c].value_counts()/income_ds[c].shape[0]*100)"
   ]
  },
  {
   "cell_type": "markdown",
   "metadata": {},
   "source": [
    "* Capital gain and loss each have close to 100 unique values, although majority of their instances have zero values.\n",
    "* Capital Gain has 91.58% instances with zero values.\n",
    "* Capital loss has 95.26% instances with zero values.\n",
    "* This implies that capital gain or loss will not make significant predictors either.\n"
   ]
  },
  {
   "cell_type": "markdown",
   "metadata": {},
   "source": [
    "* Education and education number are indicators of the same attribute, education and are fully correlated with direct mapping, it might be useful to remove either during feature selection."
   ]
  },
  {
   "cell_type": "markdown",
   "metadata": {},
   "source": [
    "* final weight, which has more than 20,000 unique values .\n",
    " This indicates it might not be a significant predictor."
   ]
  },
  {
   "cell_type": "code",
   "execution_count": 16,
   "metadata": {},
   "outputs": [],
   "source": [
    "#Replacing associating values \n",
    "income_ds[' marital-status'].replace(' Never-married', 'NotMarried',inplace=True)\n",
    "income_ds[' marital-status'].replace([' Married-AF-spouse'], 'Married',inplace=True)\n",
    "income_ds[' marital-status'].replace([' Married-civ-spouse'], 'Married',inplace=True)\n",
    "income_ds[' marital-status'].replace([' Married-spouse-absent'], 'NotMarried',inplace=True)\n",
    "income_ds[' marital-status'].replace([' Separated'], 'Separated',inplace=True)\n",
    "income_ds[' marital-status'].replace([' Divorced'], 'Separated',inplace=True)\n",
    "income_ds[' marital-status'].replace([' Widowed'], 'Widowed',inplace=True)"
   ]
  },
  {
   "cell_type": "code",
   "execution_count": 17,
   "metadata": {},
   "outputs": [
    {
     "data": {
      "text/plain": [
       "array(['NotMarried', 'Married', 'Separated', 'Widowed'], dtype=object)"
      ]
     },
     "execution_count": 17,
     "metadata": {},
     "output_type": "execute_result"
    }
   ],
   "source": [
    "# Final unique value of marital status\n",
    "income_ds[' marital-status'].unique()"
   ]
  },
  {
   "cell_type": "code",
   "execution_count": 18,
   "metadata": {},
   "outputs": [
    {
     "data": {
      "text/plain": [
       "array([' Not-in-family', ' Husband', ' Wife', ' Own-child', ' Unmarried',\n",
       "       ' Other-relative'], dtype=object)"
      ]
     },
     "execution_count": 18,
     "metadata": {},
     "output_type": "execute_result"
    }
   ],
   "source": [
    "#Unique values of relationship\n",
    "income_ds[' relationship'].unique()"
   ]
  },
  {
   "cell_type": "markdown",
   "metadata": {},
   "source": [
    "* There is a significant association between relationship and marital-status.\n",
    "* so it is better to drop relationship to improve models accuracy."
   ]
  },
  {
   "cell_type": "code",
   "execution_count": 19,
   "metadata": {},
   "outputs": [],
   "source": [
    "cols_to_remove=[' fnlwgt',' education',' capital-gain',' capital-loss',' relationship']\n",
    "income_ds.drop(cols_to_remove,inplace=True,axis=1)"
   ]
  },
  {
   "cell_type": "code",
   "execution_count": 20,
   "metadata": {},
   "outputs": [
    {
     "data": {
      "text/plain": [
       "(30162, 10)"
      ]
     },
     "execution_count": 20,
     "metadata": {},
     "output_type": "execute_result"
    }
   ],
   "source": [
    "income_ds.shape"
   ]
  },
  {
   "cell_type": "markdown",
   "metadata": {},
   "source": [
    "* Now,there are 30162 rows ,so 2399 rows with missing values have been removed.\n",
    "* There are 10 attributes now, so 5 attributes have been dropped."
   ]
  },
  {
   "cell_type": "code",
   "execution_count": 21,
   "metadata": {},
   "outputs": [
    {
     "name": "stdout",
     "output_type": "stream",
     "text": [
      "<class 'pandas.core.frame.DataFrame'>\n",
      "Int64Index: 30162 entries, 0 to 32560\n",
      "Data columns (total 10 columns):\n",
      " #   Column           Non-Null Count  Dtype \n",
      "---  ------           --------------  ----- \n",
      " 0   age              30162 non-null  int64 \n",
      " 1    workclass       30162 non-null  object\n",
      " 2    education-num   30162 non-null  int64 \n",
      " 3    marital-status  30162 non-null  object\n",
      " 4    occupation      30162 non-null  object\n",
      " 5    race            30162 non-null  object\n",
      " 6    sex             30162 non-null  object\n",
      " 7    hours-per-week  30162 non-null  int64 \n",
      " 8    native-country  30162 non-null  object\n",
      " 9    income          30162 non-null  object\n",
      "dtypes: int64(3), object(7)\n",
      "memory usage: 1.7+ MB\n"
     ]
    }
   ],
   "source": [
    "income_ds.info()"
   ]
  },
  {
   "cell_type": "code",
   "execution_count": 22,
   "metadata": {},
   "outputs": [
    {
     "data": {
      "text/plain": [
       "age                0\n",
       " workclass         0\n",
       " education-num     0\n",
       " marital-status    0\n",
       " occupation        0\n",
       " race              0\n",
       " sex               0\n",
       " hours-per-week    0\n",
       " native-country    0\n",
       " income            0\n",
       "dtype: int64"
      ]
     },
     "execution_count": 22,
     "metadata": {},
     "output_type": "execute_result"
    }
   ],
   "source": [
    "income_ds.isnull().sum()"
   ]
  },
  {
   "cell_type": "markdown",
   "metadata": {},
   "source": [
    "* Now, There are not any null values in any of the attributes."
   ]
  },
  {
   "cell_type": "markdown",
   "metadata": {},
   "source": [
    "## Data Formatting"
   ]
  },
  {
   "cell_type": "code",
   "execution_count": 23,
   "metadata": {},
   "outputs": [],
   "source": [
    "income_ds[[\"age\",\" education-num\",\" hours-per-week\"]]=income_ds[[\"age\",\" education-num\",\" hours-per-week\"]].apply(pd.to_numeric)"
   ]
  },
  {
   "cell_type": "code",
   "execution_count": 24,
   "metadata": {},
   "outputs": [
    {
     "data": {
      "text/html": [
       "<div>\n",
       "<style scoped>\n",
       "    .dataframe tbody tr th:only-of-type {\n",
       "        vertical-align: middle;\n",
       "    }\n",
       "\n",
       "    .dataframe tbody tr th {\n",
       "        vertical-align: top;\n",
       "    }\n",
       "\n",
       "    .dataframe thead th {\n",
       "        text-align: right;\n",
       "    }\n",
       "</style>\n",
       "<table border=\"1\" class=\"dataframe\">\n",
       "  <thead>\n",
       "    <tr style=\"text-align: right;\">\n",
       "      <th></th>\n",
       "      <th>age</th>\n",
       "      <th>workclass</th>\n",
       "      <th>education-num</th>\n",
       "      <th>marital-status</th>\n",
       "      <th>occupation</th>\n",
       "      <th>race</th>\n",
       "      <th>sex</th>\n",
       "      <th>hours-per-week</th>\n",
       "      <th>native-country</th>\n",
       "      <th>income</th>\n",
       "    </tr>\n",
       "  </thead>\n",
       "  <tbody>\n",
       "    <tr>\n",
       "      <th>0</th>\n",
       "      <td>39</td>\n",
       "      <td>State-gov</td>\n",
       "      <td>13</td>\n",
       "      <td>NotMarried</td>\n",
       "      <td>Adm-clerical</td>\n",
       "      <td>White</td>\n",
       "      <td>Male</td>\n",
       "      <td>40</td>\n",
       "      <td>United-States</td>\n",
       "      <td>&lt;=50K</td>\n",
       "    </tr>\n",
       "    <tr>\n",
       "      <th>1</th>\n",
       "      <td>50</td>\n",
       "      <td>Self-emp-not-inc</td>\n",
       "      <td>13</td>\n",
       "      <td>Married</td>\n",
       "      <td>Exec-managerial</td>\n",
       "      <td>White</td>\n",
       "      <td>Male</td>\n",
       "      <td>13</td>\n",
       "      <td>United-States</td>\n",
       "      <td>&lt;=50K</td>\n",
       "    </tr>\n",
       "    <tr>\n",
       "      <th>2</th>\n",
       "      <td>38</td>\n",
       "      <td>Private</td>\n",
       "      <td>9</td>\n",
       "      <td>Separated</td>\n",
       "      <td>Handlers-cleaners</td>\n",
       "      <td>White</td>\n",
       "      <td>Male</td>\n",
       "      <td>40</td>\n",
       "      <td>United-States</td>\n",
       "      <td>&lt;=50K</td>\n",
       "    </tr>\n",
       "    <tr>\n",
       "      <th>3</th>\n",
       "      <td>53</td>\n",
       "      <td>Private</td>\n",
       "      <td>7</td>\n",
       "      <td>Married</td>\n",
       "      <td>Handlers-cleaners</td>\n",
       "      <td>Black</td>\n",
       "      <td>Male</td>\n",
       "      <td>40</td>\n",
       "      <td>United-States</td>\n",
       "      <td>&lt;=50K</td>\n",
       "    </tr>\n",
       "    <tr>\n",
       "      <th>4</th>\n",
       "      <td>28</td>\n",
       "      <td>Private</td>\n",
       "      <td>13</td>\n",
       "      <td>Married</td>\n",
       "      <td>Prof-specialty</td>\n",
       "      <td>Black</td>\n",
       "      <td>Female</td>\n",
       "      <td>40</td>\n",
       "      <td>Cuba</td>\n",
       "      <td>&lt;=50K</td>\n",
       "    </tr>\n",
       "  </tbody>\n",
       "</table>\n",
       "</div>"
      ],
      "text/plain": [
       "   age          workclass   education-num  marital-status          occupation  \\\n",
       "0   39          State-gov              13      NotMarried        Adm-clerical   \n",
       "1   50   Self-emp-not-inc              13         Married     Exec-managerial   \n",
       "2   38            Private               9       Separated   Handlers-cleaners   \n",
       "3   53            Private               7         Married   Handlers-cleaners   \n",
       "4   28            Private              13         Married      Prof-specialty   \n",
       "\n",
       "     race      sex   hours-per-week  native-country  income  \n",
       "0   White     Male               40   United-States   <=50K  \n",
       "1   White     Male               13   United-States   <=50K  \n",
       "2   White     Male               40   United-States   <=50K  \n",
       "3   Black     Male               40   United-States   <=50K  \n",
       "4   Black   Female               40            Cuba   <=50K  "
      ]
     },
     "execution_count": 24,
     "metadata": {},
     "output_type": "execute_result"
    }
   ],
   "source": [
    "income_ds.head()"
   ]
  },
  {
   "cell_type": "markdown",
   "metadata": {},
   "source": [
    "# Data Visulalization / Exploratory Data Analysis"
   ]
  },
  {
   "cell_type": "markdown",
   "metadata": {},
   "source": [
    "\n",
    "\n",
    "## Classification of Variables"
   ]
  },
  {
   "cell_type": "code",
   "execution_count": 25,
   "metadata": {},
   "outputs": [
    {
     "data": {
      "text/plain": [
       "age                 int64\n",
       " workclass         object\n",
       " education-num      int64\n",
       " marital-status    object\n",
       " occupation        object\n",
       " race              object\n",
       " sex               object\n",
       " hours-per-week     int64\n",
       " native-country    object\n",
       " income            object\n",
       "dtype: object"
      ]
     },
     "execution_count": 25,
     "metadata": {},
     "output_type": "execute_result"
    }
   ],
   "source": [
    "income_ds.dtypes"
   ]
  },
  {
   "cell_type": "markdown",
   "metadata": {},
   "source": [
    "### Quantitative Variables\n",
    "* age is a Continuous Quantitative variable : Age of an Individual\n",
    "* fnlwgt is a continuous quantitive variable.\n",
    "* education-num is a quantitave variable : individual's year of recieving education.\n",
    "* capital-gain is a quantitave variable.\n",
    "* capital-loss is a quantitave variable.\n",
    "* hours-per-week is a quantitave variable : Individual Working hours per week."
   ]
  },
  {
   "cell_type": "markdown",
   "metadata": {},
   "source": [
    "### Qualitative Variables\n",
    "* #### workclass : \n",
    "Private, Self-emp-not-inc, Self-emp-inc, Federal-gov, Local-gov, State-gov, Without-pay, Never-worked.\n",
    "* #### education :\n",
    "Bachelors, Some-college, 11th, HS-grad, Prof-school, Assoc-acdm, Assoc-voc, 9th, 7th-8th, 12th, Masters, 1st-4th, 10th, Doctorate, 5th-6th, Preschool.\n",
    "* #### marital-status:\n",
    "Married-civ-spouse, Divorced, Never-married, Separated, Widowed, Married-spouse-absent, Married-AF-spouse.\n",
    "* #### occupation:\n",
    "Tech-support, Craft-repair, Other-service, Sales, Exec-managerial, Prof-specialty, Handlers-cleaners, Machine-op-inspct, Adm-clerical, Farming-fishing, Transport-moving, Priv-house-serv, Protective-serv, Armed-Forces.\n",
    "* #### relationship:\n",
    "Wife, Own-child, Husband, Not-in-family, Other-relative, Unmarried.\n",
    "* #### race :\n",
    " White, Asian-Pac-Islander, Amer-Indian-Eskimo, Other, Black.\n",
    "* #### sex :\n",
    " Female, Male.\n",
    "* #### native-country:\n",
    "United-States, Cambodia, England, Puerto-Rico, Canada, Germany, Outlying-US(Guam-USVI-etc), India, Japan, Greece, South, China, Cuba, Iran, Honduras, Philippines, Italy, Poland, Jamaica, Vietnam, Mexico, Portugal, Ireland, France, Dominican-Republic, Laos, Ecuador, Taiwan, Haiti, Columbia, Hungary, Guatemala, Nicaragua, Scotland, Thailand, Yugoslavia, El-Salvador, Trinadad&Tobago, Peru, Hong, Holand-Netherlands.\n",
    "* #### income: TARGET VARIABLE \n",
    ">50K, <=50K"
   ]
  },
  {
   "cell_type": "markdown",
   "metadata": {},
   "source": [
    "# Handle categorical variables with numerically coded values"
   ]
  },
  {
   "cell_type": "code",
   "execution_count": 26,
   "metadata": {},
   "outputs": [],
   "source": [
    "income_ds['target']=income_ds[' income']\n",
    "income_ds.drop(\" income\",inplace=True,axis=1)"
   ]
  },
  {
   "cell_type": "code",
   "execution_count": 27,
   "metadata": {},
   "outputs": [],
   "source": [
    "def my_target(string):\n",
    "    if string==' <=50K':\n",
    "        return 0\n",
    "    else:\n",
    "        return 1\n",
    "income_ds['target']=income_ds.target.map(my_target)"
   ]
  },
  {
   "cell_type": "code",
   "execution_count": 28,
   "metadata": {},
   "outputs": [
    {
     "data": {
      "text/plain": [
       "array([0, 1], dtype=int64)"
      ]
     },
     "execution_count": 28,
     "metadata": {},
     "output_type": "execute_result"
    }
   ],
   "source": [
    "income_ds.target.unique()"
   ]
  },
  {
   "cell_type": "code",
   "execution_count": 29,
   "metadata": {},
   "outputs": [
    {
     "name": "stdout",
     "output_type": "stream",
     "text": [
      "77 total attributes after applying encoding\n"
     ]
    },
    {
     "data": {
      "text/plain": [
       "['age',\n",
       " ' education-num',\n",
       " ' hours-per-week',\n",
       " 'target',\n",
       " ' workclass_ Federal-gov',\n",
       " ' workclass_ Local-gov',\n",
       " ' workclass_ Private',\n",
       " ' workclass_ Self-emp-inc',\n",
       " ' workclass_ Self-emp-not-inc',\n",
       " ' workclass_ State-gov',\n",
       " ' workclass_ Without-pay',\n",
       " ' marital-status_Married',\n",
       " ' marital-status_NotMarried',\n",
       " ' marital-status_Separated',\n",
       " ' marital-status_Widowed',\n",
       " ' occupation_ Adm-clerical',\n",
       " ' occupation_ Armed-Forces',\n",
       " ' occupation_ Craft-repair',\n",
       " ' occupation_ Exec-managerial',\n",
       " ' occupation_ Farming-fishing',\n",
       " ' occupation_ Handlers-cleaners',\n",
       " ' occupation_ Machine-op-inspct',\n",
       " ' occupation_ Other-service',\n",
       " ' occupation_ Priv-house-serv',\n",
       " ' occupation_ Prof-specialty',\n",
       " ' occupation_ Protective-serv',\n",
       " ' occupation_ Sales',\n",
       " ' occupation_ Tech-support',\n",
       " ' occupation_ Transport-moving',\n",
       " ' race_ Amer-Indian-Eskimo',\n",
       " ' race_ Asian-Pac-Islander',\n",
       " ' race_ Black',\n",
       " ' race_ Other',\n",
       " ' race_ White',\n",
       " ' sex_ Female',\n",
       " ' sex_ Male',\n",
       " ' native-country_ Cambodia',\n",
       " ' native-country_ Canada',\n",
       " ' native-country_ China',\n",
       " ' native-country_ Columbia',\n",
       " ' native-country_ Cuba',\n",
       " ' native-country_ Dominican-Republic',\n",
       " ' native-country_ Ecuador',\n",
       " ' native-country_ El-Salvador',\n",
       " ' native-country_ England',\n",
       " ' native-country_ France',\n",
       " ' native-country_ Germany',\n",
       " ' native-country_ Greece',\n",
       " ' native-country_ Guatemala',\n",
       " ' native-country_ Haiti',\n",
       " ' native-country_ Holand-Netherlands',\n",
       " ' native-country_ Honduras',\n",
       " ' native-country_ Hong',\n",
       " ' native-country_ Hungary',\n",
       " ' native-country_ India',\n",
       " ' native-country_ Iran',\n",
       " ' native-country_ Ireland',\n",
       " ' native-country_ Italy',\n",
       " ' native-country_ Jamaica',\n",
       " ' native-country_ Japan',\n",
       " ' native-country_ Laos',\n",
       " ' native-country_ Mexico',\n",
       " ' native-country_ Nicaragua',\n",
       " ' native-country_ Outlying-US(Guam-USVI-etc)',\n",
       " ' native-country_ Peru',\n",
       " ' native-country_ Philippines',\n",
       " ' native-country_ Poland',\n",
       " ' native-country_ Portugal',\n",
       " ' native-country_ Puerto-Rico',\n",
       " ' native-country_ Scotland',\n",
       " ' native-country_ South',\n",
       " ' native-country_ Taiwan',\n",
       " ' native-country_ Thailand',\n",
       " ' native-country_ Trinadad&Tobago',\n",
       " ' native-country_ United-States',\n",
       " ' native-country_ Vietnam',\n",
       " ' native-country_ Yugoslavia']"
      ]
     },
     "execution_count": 29,
     "metadata": {},
     "output_type": "execute_result"
    }
   ],
   "source": [
    "# Apply One Hot Encoding\n",
    "final_attributes=pd.get_dummies(income_ds)\n",
    "#income_col=income_ds[' income'].map({'<=50K':0,'>50K':1})\n",
    "encoded_attributes=list(final_attributes.columns)\n",
    "print(\"{} total attributes after applying encoding\".format(len(encoded_attributes)))\n",
    "encoded_attributes"
   ]
  },
  {
   "cell_type": "code",
   "execution_count": 30,
   "metadata": {},
   "outputs": [
    {
     "data": {
      "text/html": [
       "<div>\n",
       "<style scoped>\n",
       "    .dataframe tbody tr th:only-of-type {\n",
       "        vertical-align: middle;\n",
       "    }\n",
       "\n",
       "    .dataframe tbody tr th {\n",
       "        vertical-align: top;\n",
       "    }\n",
       "\n",
       "    .dataframe thead th {\n",
       "        text-align: right;\n",
       "    }\n",
       "</style>\n",
       "<table border=\"1\" class=\"dataframe\">\n",
       "  <thead>\n",
       "    <tr style=\"text-align: right;\">\n",
       "      <th></th>\n",
       "      <th>age</th>\n",
       "      <th>education-num</th>\n",
       "      <th>hours-per-week</th>\n",
       "      <th>target</th>\n",
       "      <th>workclass_ Federal-gov</th>\n",
       "      <th>workclass_ Local-gov</th>\n",
       "      <th>workclass_ Private</th>\n",
       "      <th>workclass_ Self-emp-inc</th>\n",
       "      <th>workclass_ Self-emp-not-inc</th>\n",
       "      <th>workclass_ State-gov</th>\n",
       "      <th>...</th>\n",
       "      <th>native-country_ Portugal</th>\n",
       "      <th>native-country_ Puerto-Rico</th>\n",
       "      <th>native-country_ Scotland</th>\n",
       "      <th>native-country_ South</th>\n",
       "      <th>native-country_ Taiwan</th>\n",
       "      <th>native-country_ Thailand</th>\n",
       "      <th>native-country_ Trinadad&amp;Tobago</th>\n",
       "      <th>native-country_ United-States</th>\n",
       "      <th>native-country_ Vietnam</th>\n",
       "      <th>native-country_ Yugoslavia</th>\n",
       "    </tr>\n",
       "  </thead>\n",
       "  <tbody>\n",
       "    <tr>\n",
       "      <th>0</th>\n",
       "      <td>39</td>\n",
       "      <td>13</td>\n",
       "      <td>40</td>\n",
       "      <td>0</td>\n",
       "      <td>0</td>\n",
       "      <td>0</td>\n",
       "      <td>0</td>\n",
       "      <td>0</td>\n",
       "      <td>0</td>\n",
       "      <td>1</td>\n",
       "      <td>...</td>\n",
       "      <td>0</td>\n",
       "      <td>0</td>\n",
       "      <td>0</td>\n",
       "      <td>0</td>\n",
       "      <td>0</td>\n",
       "      <td>0</td>\n",
       "      <td>0</td>\n",
       "      <td>1</td>\n",
       "      <td>0</td>\n",
       "      <td>0</td>\n",
       "    </tr>\n",
       "    <tr>\n",
       "      <th>1</th>\n",
       "      <td>50</td>\n",
       "      <td>13</td>\n",
       "      <td>13</td>\n",
       "      <td>0</td>\n",
       "      <td>0</td>\n",
       "      <td>0</td>\n",
       "      <td>0</td>\n",
       "      <td>0</td>\n",
       "      <td>1</td>\n",
       "      <td>0</td>\n",
       "      <td>...</td>\n",
       "      <td>0</td>\n",
       "      <td>0</td>\n",
       "      <td>0</td>\n",
       "      <td>0</td>\n",
       "      <td>0</td>\n",
       "      <td>0</td>\n",
       "      <td>0</td>\n",
       "      <td>1</td>\n",
       "      <td>0</td>\n",
       "      <td>0</td>\n",
       "    </tr>\n",
       "    <tr>\n",
       "      <th>2</th>\n",
       "      <td>38</td>\n",
       "      <td>9</td>\n",
       "      <td>40</td>\n",
       "      <td>0</td>\n",
       "      <td>0</td>\n",
       "      <td>0</td>\n",
       "      <td>1</td>\n",
       "      <td>0</td>\n",
       "      <td>0</td>\n",
       "      <td>0</td>\n",
       "      <td>...</td>\n",
       "      <td>0</td>\n",
       "      <td>0</td>\n",
       "      <td>0</td>\n",
       "      <td>0</td>\n",
       "      <td>0</td>\n",
       "      <td>0</td>\n",
       "      <td>0</td>\n",
       "      <td>1</td>\n",
       "      <td>0</td>\n",
       "      <td>0</td>\n",
       "    </tr>\n",
       "    <tr>\n",
       "      <th>3</th>\n",
       "      <td>53</td>\n",
       "      <td>7</td>\n",
       "      <td>40</td>\n",
       "      <td>0</td>\n",
       "      <td>0</td>\n",
       "      <td>0</td>\n",
       "      <td>1</td>\n",
       "      <td>0</td>\n",
       "      <td>0</td>\n",
       "      <td>0</td>\n",
       "      <td>...</td>\n",
       "      <td>0</td>\n",
       "      <td>0</td>\n",
       "      <td>0</td>\n",
       "      <td>0</td>\n",
       "      <td>0</td>\n",
       "      <td>0</td>\n",
       "      <td>0</td>\n",
       "      <td>1</td>\n",
       "      <td>0</td>\n",
       "      <td>0</td>\n",
       "    </tr>\n",
       "    <tr>\n",
       "      <th>4</th>\n",
       "      <td>28</td>\n",
       "      <td>13</td>\n",
       "      <td>40</td>\n",
       "      <td>0</td>\n",
       "      <td>0</td>\n",
       "      <td>0</td>\n",
       "      <td>1</td>\n",
       "      <td>0</td>\n",
       "      <td>0</td>\n",
       "      <td>0</td>\n",
       "      <td>...</td>\n",
       "      <td>0</td>\n",
       "      <td>0</td>\n",
       "      <td>0</td>\n",
       "      <td>0</td>\n",
       "      <td>0</td>\n",
       "      <td>0</td>\n",
       "      <td>0</td>\n",
       "      <td>0</td>\n",
       "      <td>0</td>\n",
       "      <td>0</td>\n",
       "    </tr>\n",
       "    <tr>\n",
       "      <th>...</th>\n",
       "      <td>...</td>\n",
       "      <td>...</td>\n",
       "      <td>...</td>\n",
       "      <td>...</td>\n",
       "      <td>...</td>\n",
       "      <td>...</td>\n",
       "      <td>...</td>\n",
       "      <td>...</td>\n",
       "      <td>...</td>\n",
       "      <td>...</td>\n",
       "      <td>...</td>\n",
       "      <td>...</td>\n",
       "      <td>...</td>\n",
       "      <td>...</td>\n",
       "      <td>...</td>\n",
       "      <td>...</td>\n",
       "      <td>...</td>\n",
       "      <td>...</td>\n",
       "      <td>...</td>\n",
       "      <td>...</td>\n",
       "      <td>...</td>\n",
       "    </tr>\n",
       "    <tr>\n",
       "      <th>32556</th>\n",
       "      <td>27</td>\n",
       "      <td>12</td>\n",
       "      <td>38</td>\n",
       "      <td>0</td>\n",
       "      <td>0</td>\n",
       "      <td>0</td>\n",
       "      <td>1</td>\n",
       "      <td>0</td>\n",
       "      <td>0</td>\n",
       "      <td>0</td>\n",
       "      <td>...</td>\n",
       "      <td>0</td>\n",
       "      <td>0</td>\n",
       "      <td>0</td>\n",
       "      <td>0</td>\n",
       "      <td>0</td>\n",
       "      <td>0</td>\n",
       "      <td>0</td>\n",
       "      <td>1</td>\n",
       "      <td>0</td>\n",
       "      <td>0</td>\n",
       "    </tr>\n",
       "    <tr>\n",
       "      <th>32557</th>\n",
       "      <td>40</td>\n",
       "      <td>9</td>\n",
       "      <td>40</td>\n",
       "      <td>1</td>\n",
       "      <td>0</td>\n",
       "      <td>0</td>\n",
       "      <td>1</td>\n",
       "      <td>0</td>\n",
       "      <td>0</td>\n",
       "      <td>0</td>\n",
       "      <td>...</td>\n",
       "      <td>0</td>\n",
       "      <td>0</td>\n",
       "      <td>0</td>\n",
       "      <td>0</td>\n",
       "      <td>0</td>\n",
       "      <td>0</td>\n",
       "      <td>0</td>\n",
       "      <td>1</td>\n",
       "      <td>0</td>\n",
       "      <td>0</td>\n",
       "    </tr>\n",
       "    <tr>\n",
       "      <th>32558</th>\n",
       "      <td>58</td>\n",
       "      <td>9</td>\n",
       "      <td>40</td>\n",
       "      <td>0</td>\n",
       "      <td>0</td>\n",
       "      <td>0</td>\n",
       "      <td>1</td>\n",
       "      <td>0</td>\n",
       "      <td>0</td>\n",
       "      <td>0</td>\n",
       "      <td>...</td>\n",
       "      <td>0</td>\n",
       "      <td>0</td>\n",
       "      <td>0</td>\n",
       "      <td>0</td>\n",
       "      <td>0</td>\n",
       "      <td>0</td>\n",
       "      <td>0</td>\n",
       "      <td>1</td>\n",
       "      <td>0</td>\n",
       "      <td>0</td>\n",
       "    </tr>\n",
       "    <tr>\n",
       "      <th>32559</th>\n",
       "      <td>22</td>\n",
       "      <td>9</td>\n",
       "      <td>20</td>\n",
       "      <td>0</td>\n",
       "      <td>0</td>\n",
       "      <td>0</td>\n",
       "      <td>1</td>\n",
       "      <td>0</td>\n",
       "      <td>0</td>\n",
       "      <td>0</td>\n",
       "      <td>...</td>\n",
       "      <td>0</td>\n",
       "      <td>0</td>\n",
       "      <td>0</td>\n",
       "      <td>0</td>\n",
       "      <td>0</td>\n",
       "      <td>0</td>\n",
       "      <td>0</td>\n",
       "      <td>1</td>\n",
       "      <td>0</td>\n",
       "      <td>0</td>\n",
       "    </tr>\n",
       "    <tr>\n",
       "      <th>32560</th>\n",
       "      <td>52</td>\n",
       "      <td>9</td>\n",
       "      <td>40</td>\n",
       "      <td>1</td>\n",
       "      <td>0</td>\n",
       "      <td>0</td>\n",
       "      <td>0</td>\n",
       "      <td>1</td>\n",
       "      <td>0</td>\n",
       "      <td>0</td>\n",
       "      <td>...</td>\n",
       "      <td>0</td>\n",
       "      <td>0</td>\n",
       "      <td>0</td>\n",
       "      <td>0</td>\n",
       "      <td>0</td>\n",
       "      <td>0</td>\n",
       "      <td>0</td>\n",
       "      <td>1</td>\n",
       "      <td>0</td>\n",
       "      <td>0</td>\n",
       "    </tr>\n",
       "  </tbody>\n",
       "</table>\n",
       "<p>30162 rows × 77 columns</p>\n",
       "</div>"
      ],
      "text/plain": [
       "       age   education-num   hours-per-week  target   workclass_ Federal-gov  \\\n",
       "0       39              13               40       0                        0   \n",
       "1       50              13               13       0                        0   \n",
       "2       38               9               40       0                        0   \n",
       "3       53               7               40       0                        0   \n",
       "4       28              13               40       0                        0   \n",
       "...    ...             ...              ...     ...                      ...   \n",
       "32556   27              12               38       0                        0   \n",
       "32557   40               9               40       1                        0   \n",
       "32558   58               9               40       0                        0   \n",
       "32559   22               9               20       0                        0   \n",
       "32560   52               9               40       1                        0   \n",
       "\n",
       "        workclass_ Local-gov   workclass_ Private   workclass_ Self-emp-inc  \\\n",
       "0                          0                    0                         0   \n",
       "1                          0                    0                         0   \n",
       "2                          0                    1                         0   \n",
       "3                          0                    1                         0   \n",
       "4                          0                    1                         0   \n",
       "...                      ...                  ...                       ...   \n",
       "32556                      0                    1                         0   \n",
       "32557                      0                    1                         0   \n",
       "32558                      0                    1                         0   \n",
       "32559                      0                    1                         0   \n",
       "32560                      0                    0                         1   \n",
       "\n",
       "        workclass_ Self-emp-not-inc   workclass_ State-gov  ...  \\\n",
       "0                                 0                      1  ...   \n",
       "1                                 1                      0  ...   \n",
       "2                                 0                      0  ...   \n",
       "3                                 0                      0  ...   \n",
       "4                                 0                      0  ...   \n",
       "...                             ...                    ...  ...   \n",
       "32556                             0                      0  ...   \n",
       "32557                             0                      0  ...   \n",
       "32558                             0                      0  ...   \n",
       "32559                             0                      0  ...   \n",
       "32560                             0                      0  ...   \n",
       "\n",
       "        native-country_ Portugal   native-country_ Puerto-Rico  \\\n",
       "0                              0                             0   \n",
       "1                              0                             0   \n",
       "2                              0                             0   \n",
       "3                              0                             0   \n",
       "4                              0                             0   \n",
       "...                          ...                           ...   \n",
       "32556                          0                             0   \n",
       "32557                          0                             0   \n",
       "32558                          0                             0   \n",
       "32559                          0                             0   \n",
       "32560                          0                             0   \n",
       "\n",
       "        native-country_ Scotland   native-country_ South  \\\n",
       "0                              0                       0   \n",
       "1                              0                       0   \n",
       "2                              0                       0   \n",
       "3                              0                       0   \n",
       "4                              0                       0   \n",
       "...                          ...                     ...   \n",
       "32556                          0                       0   \n",
       "32557                          0                       0   \n",
       "32558                          0                       0   \n",
       "32559                          0                       0   \n",
       "32560                          0                       0   \n",
       "\n",
       "        native-country_ Taiwan   native-country_ Thailand  \\\n",
       "0                            0                          0   \n",
       "1                            0                          0   \n",
       "2                            0                          0   \n",
       "3                            0                          0   \n",
       "4                            0                          0   \n",
       "...                        ...                        ...   \n",
       "32556                        0                          0   \n",
       "32557                        0                          0   \n",
       "32558                        0                          0   \n",
       "32559                        0                          0   \n",
       "32560                        0                          0   \n",
       "\n",
       "        native-country_ Trinadad&Tobago   native-country_ United-States  \\\n",
       "0                                     0                               1   \n",
       "1                                     0                               1   \n",
       "2                                     0                               1   \n",
       "3                                     0                               1   \n",
       "4                                     0                               0   \n",
       "...                                 ...                             ...   \n",
       "32556                                 0                               1   \n",
       "32557                                 0                               1   \n",
       "32558                                 0                               1   \n",
       "32559                                 0                               1   \n",
       "32560                                 0                               1   \n",
       "\n",
       "        native-country_ Vietnam   native-country_ Yugoslavia  \n",
       "0                             0                            0  \n",
       "1                             0                            0  \n",
       "2                             0                            0  \n",
       "3                             0                            0  \n",
       "4                             0                            0  \n",
       "...                         ...                          ...  \n",
       "32556                         0                            0  \n",
       "32557                         0                            0  \n",
       "32558                         0                            0  \n",
       "32559                         0                            0  \n",
       "32560                         0                            0  \n",
       "\n",
       "[30162 rows x 77 columns]"
      ]
     },
     "execution_count": 30,
     "metadata": {},
     "output_type": "execute_result"
    }
   ],
   "source": [
    "\n",
    "income=final_attributes\n",
    "income"
   ]
  },
  {
   "cell_type": "code",
   "execution_count": 31,
   "metadata": {},
   "outputs": [],
   "source": [
    "def oneHot(df, df_cols):\n",
    "    \n",
    "    df_1 = df.drop(columns = df_cols, axis = 1)\n",
    "    df_2 = pd.get_dummies(df[df_cols])\n",
    "    \n",
    "    return (pd.concat([df_1, df_2], axis=1, join='inner'))"
   ]
  },
  {
   "cell_type": "code",
   "execution_count": 32,
   "metadata": {},
   "outputs": [],
   "source": [
    "income_df=oneHot(income_ds,income_ds.select_dtypes('object').columns)"
   ]
  },
  {
   "cell_type": "code",
   "execution_count": 33,
   "metadata": {},
   "outputs": [
    {
     "data": {
      "text/html": [
       "<div>\n",
       "<style scoped>\n",
       "    .dataframe tbody tr th:only-of-type {\n",
       "        vertical-align: middle;\n",
       "    }\n",
       "\n",
       "    .dataframe tbody tr th {\n",
       "        vertical-align: top;\n",
       "    }\n",
       "\n",
       "    .dataframe thead th {\n",
       "        text-align: right;\n",
       "    }\n",
       "</style>\n",
       "<table border=\"1\" class=\"dataframe\">\n",
       "  <thead>\n",
       "    <tr style=\"text-align: right;\">\n",
       "      <th></th>\n",
       "      <th>age</th>\n",
       "      <th>education-num</th>\n",
       "      <th>hours-per-week</th>\n",
       "      <th>target</th>\n",
       "      <th>workclass_ Federal-gov</th>\n",
       "      <th>workclass_ Local-gov</th>\n",
       "      <th>workclass_ Private</th>\n",
       "      <th>workclass_ Self-emp-inc</th>\n",
       "      <th>workclass_ Self-emp-not-inc</th>\n",
       "      <th>workclass_ State-gov</th>\n",
       "      <th>...</th>\n",
       "      <th>native-country_ Portugal</th>\n",
       "      <th>native-country_ Puerto-Rico</th>\n",
       "      <th>native-country_ Scotland</th>\n",
       "      <th>native-country_ South</th>\n",
       "      <th>native-country_ Taiwan</th>\n",
       "      <th>native-country_ Thailand</th>\n",
       "      <th>native-country_ Trinadad&amp;Tobago</th>\n",
       "      <th>native-country_ United-States</th>\n",
       "      <th>native-country_ Vietnam</th>\n",
       "      <th>native-country_ Yugoslavia</th>\n",
       "    </tr>\n",
       "  </thead>\n",
       "  <tbody>\n",
       "    <tr>\n",
       "      <th>0</th>\n",
       "      <td>39</td>\n",
       "      <td>13</td>\n",
       "      <td>40</td>\n",
       "      <td>0</td>\n",
       "      <td>0</td>\n",
       "      <td>0</td>\n",
       "      <td>0</td>\n",
       "      <td>0</td>\n",
       "      <td>0</td>\n",
       "      <td>1</td>\n",
       "      <td>...</td>\n",
       "      <td>0</td>\n",
       "      <td>0</td>\n",
       "      <td>0</td>\n",
       "      <td>0</td>\n",
       "      <td>0</td>\n",
       "      <td>0</td>\n",
       "      <td>0</td>\n",
       "      <td>1</td>\n",
       "      <td>0</td>\n",
       "      <td>0</td>\n",
       "    </tr>\n",
       "    <tr>\n",
       "      <th>1</th>\n",
       "      <td>50</td>\n",
       "      <td>13</td>\n",
       "      <td>13</td>\n",
       "      <td>0</td>\n",
       "      <td>0</td>\n",
       "      <td>0</td>\n",
       "      <td>0</td>\n",
       "      <td>0</td>\n",
       "      <td>1</td>\n",
       "      <td>0</td>\n",
       "      <td>...</td>\n",
       "      <td>0</td>\n",
       "      <td>0</td>\n",
       "      <td>0</td>\n",
       "      <td>0</td>\n",
       "      <td>0</td>\n",
       "      <td>0</td>\n",
       "      <td>0</td>\n",
       "      <td>1</td>\n",
       "      <td>0</td>\n",
       "      <td>0</td>\n",
       "    </tr>\n",
       "    <tr>\n",
       "      <th>2</th>\n",
       "      <td>38</td>\n",
       "      <td>9</td>\n",
       "      <td>40</td>\n",
       "      <td>0</td>\n",
       "      <td>0</td>\n",
       "      <td>0</td>\n",
       "      <td>1</td>\n",
       "      <td>0</td>\n",
       "      <td>0</td>\n",
       "      <td>0</td>\n",
       "      <td>...</td>\n",
       "      <td>0</td>\n",
       "      <td>0</td>\n",
       "      <td>0</td>\n",
       "      <td>0</td>\n",
       "      <td>0</td>\n",
       "      <td>0</td>\n",
       "      <td>0</td>\n",
       "      <td>1</td>\n",
       "      <td>0</td>\n",
       "      <td>0</td>\n",
       "    </tr>\n",
       "    <tr>\n",
       "      <th>3</th>\n",
       "      <td>53</td>\n",
       "      <td>7</td>\n",
       "      <td>40</td>\n",
       "      <td>0</td>\n",
       "      <td>0</td>\n",
       "      <td>0</td>\n",
       "      <td>1</td>\n",
       "      <td>0</td>\n",
       "      <td>0</td>\n",
       "      <td>0</td>\n",
       "      <td>...</td>\n",
       "      <td>0</td>\n",
       "      <td>0</td>\n",
       "      <td>0</td>\n",
       "      <td>0</td>\n",
       "      <td>0</td>\n",
       "      <td>0</td>\n",
       "      <td>0</td>\n",
       "      <td>1</td>\n",
       "      <td>0</td>\n",
       "      <td>0</td>\n",
       "    </tr>\n",
       "    <tr>\n",
       "      <th>4</th>\n",
       "      <td>28</td>\n",
       "      <td>13</td>\n",
       "      <td>40</td>\n",
       "      <td>0</td>\n",
       "      <td>0</td>\n",
       "      <td>0</td>\n",
       "      <td>1</td>\n",
       "      <td>0</td>\n",
       "      <td>0</td>\n",
       "      <td>0</td>\n",
       "      <td>...</td>\n",
       "      <td>0</td>\n",
       "      <td>0</td>\n",
       "      <td>0</td>\n",
       "      <td>0</td>\n",
       "      <td>0</td>\n",
       "      <td>0</td>\n",
       "      <td>0</td>\n",
       "      <td>0</td>\n",
       "      <td>0</td>\n",
       "      <td>0</td>\n",
       "    </tr>\n",
       "    <tr>\n",
       "      <th>5</th>\n",
       "      <td>37</td>\n",
       "      <td>14</td>\n",
       "      <td>40</td>\n",
       "      <td>0</td>\n",
       "      <td>0</td>\n",
       "      <td>0</td>\n",
       "      <td>1</td>\n",
       "      <td>0</td>\n",
       "      <td>0</td>\n",
       "      <td>0</td>\n",
       "      <td>...</td>\n",
       "      <td>0</td>\n",
       "      <td>0</td>\n",
       "      <td>0</td>\n",
       "      <td>0</td>\n",
       "      <td>0</td>\n",
       "      <td>0</td>\n",
       "      <td>0</td>\n",
       "      <td>1</td>\n",
       "      <td>0</td>\n",
       "      <td>0</td>\n",
       "    </tr>\n",
       "    <tr>\n",
       "      <th>6</th>\n",
       "      <td>49</td>\n",
       "      <td>5</td>\n",
       "      <td>16</td>\n",
       "      <td>0</td>\n",
       "      <td>0</td>\n",
       "      <td>0</td>\n",
       "      <td>1</td>\n",
       "      <td>0</td>\n",
       "      <td>0</td>\n",
       "      <td>0</td>\n",
       "      <td>...</td>\n",
       "      <td>0</td>\n",
       "      <td>0</td>\n",
       "      <td>0</td>\n",
       "      <td>0</td>\n",
       "      <td>0</td>\n",
       "      <td>0</td>\n",
       "      <td>0</td>\n",
       "      <td>0</td>\n",
       "      <td>0</td>\n",
       "      <td>0</td>\n",
       "    </tr>\n",
       "    <tr>\n",
       "      <th>7</th>\n",
       "      <td>52</td>\n",
       "      <td>9</td>\n",
       "      <td>45</td>\n",
       "      <td>1</td>\n",
       "      <td>0</td>\n",
       "      <td>0</td>\n",
       "      <td>0</td>\n",
       "      <td>0</td>\n",
       "      <td>1</td>\n",
       "      <td>0</td>\n",
       "      <td>...</td>\n",
       "      <td>0</td>\n",
       "      <td>0</td>\n",
       "      <td>0</td>\n",
       "      <td>0</td>\n",
       "      <td>0</td>\n",
       "      <td>0</td>\n",
       "      <td>0</td>\n",
       "      <td>1</td>\n",
       "      <td>0</td>\n",
       "      <td>0</td>\n",
       "    </tr>\n",
       "    <tr>\n",
       "      <th>8</th>\n",
       "      <td>31</td>\n",
       "      <td>14</td>\n",
       "      <td>50</td>\n",
       "      <td>1</td>\n",
       "      <td>0</td>\n",
       "      <td>0</td>\n",
       "      <td>1</td>\n",
       "      <td>0</td>\n",
       "      <td>0</td>\n",
       "      <td>0</td>\n",
       "      <td>...</td>\n",
       "      <td>0</td>\n",
       "      <td>0</td>\n",
       "      <td>0</td>\n",
       "      <td>0</td>\n",
       "      <td>0</td>\n",
       "      <td>0</td>\n",
       "      <td>0</td>\n",
       "      <td>1</td>\n",
       "      <td>0</td>\n",
       "      <td>0</td>\n",
       "    </tr>\n",
       "    <tr>\n",
       "      <th>9</th>\n",
       "      <td>42</td>\n",
       "      <td>13</td>\n",
       "      <td>40</td>\n",
       "      <td>1</td>\n",
       "      <td>0</td>\n",
       "      <td>0</td>\n",
       "      <td>1</td>\n",
       "      <td>0</td>\n",
       "      <td>0</td>\n",
       "      <td>0</td>\n",
       "      <td>...</td>\n",
       "      <td>0</td>\n",
       "      <td>0</td>\n",
       "      <td>0</td>\n",
       "      <td>0</td>\n",
       "      <td>0</td>\n",
       "      <td>0</td>\n",
       "      <td>0</td>\n",
       "      <td>1</td>\n",
       "      <td>0</td>\n",
       "      <td>0</td>\n",
       "    </tr>\n",
       "  </tbody>\n",
       "</table>\n",
       "<p>10 rows × 77 columns</p>\n",
       "</div>"
      ],
      "text/plain": [
       "   age   education-num   hours-per-week  target   workclass_ Federal-gov  \\\n",
       "0   39              13               40       0                        0   \n",
       "1   50              13               13       0                        0   \n",
       "2   38               9               40       0                        0   \n",
       "3   53               7               40       0                        0   \n",
       "4   28              13               40       0                        0   \n",
       "5   37              14               40       0                        0   \n",
       "6   49               5               16       0                        0   \n",
       "7   52               9               45       1                        0   \n",
       "8   31              14               50       1                        0   \n",
       "9   42              13               40       1                        0   \n",
       "\n",
       "    workclass_ Local-gov   workclass_ Private   workclass_ Self-emp-inc  \\\n",
       "0                      0                    0                         0   \n",
       "1                      0                    0                         0   \n",
       "2                      0                    1                         0   \n",
       "3                      0                    1                         0   \n",
       "4                      0                    1                         0   \n",
       "5                      0                    1                         0   \n",
       "6                      0                    1                         0   \n",
       "7                      0                    0                         0   \n",
       "8                      0                    1                         0   \n",
       "9                      0                    1                         0   \n",
       "\n",
       "    workclass_ Self-emp-not-inc   workclass_ State-gov  ...  \\\n",
       "0                             0                      1  ...   \n",
       "1                             1                      0  ...   \n",
       "2                             0                      0  ...   \n",
       "3                             0                      0  ...   \n",
       "4                             0                      0  ...   \n",
       "5                             0                      0  ...   \n",
       "6                             0                      0  ...   \n",
       "7                             1                      0  ...   \n",
       "8                             0                      0  ...   \n",
       "9                             0                      0  ...   \n",
       "\n",
       "    native-country_ Portugal   native-country_ Puerto-Rico  \\\n",
       "0                          0                             0   \n",
       "1                          0                             0   \n",
       "2                          0                             0   \n",
       "3                          0                             0   \n",
       "4                          0                             0   \n",
       "5                          0                             0   \n",
       "6                          0                             0   \n",
       "7                          0                             0   \n",
       "8                          0                             0   \n",
       "9                          0                             0   \n",
       "\n",
       "    native-country_ Scotland   native-country_ South   native-country_ Taiwan  \\\n",
       "0                          0                       0                        0   \n",
       "1                          0                       0                        0   \n",
       "2                          0                       0                        0   \n",
       "3                          0                       0                        0   \n",
       "4                          0                       0                        0   \n",
       "5                          0                       0                        0   \n",
       "6                          0                       0                        0   \n",
       "7                          0                       0                        0   \n",
       "8                          0                       0                        0   \n",
       "9                          0                       0                        0   \n",
       "\n",
       "    native-country_ Thailand   native-country_ Trinadad&Tobago  \\\n",
       "0                          0                                 0   \n",
       "1                          0                                 0   \n",
       "2                          0                                 0   \n",
       "3                          0                                 0   \n",
       "4                          0                                 0   \n",
       "5                          0                                 0   \n",
       "6                          0                                 0   \n",
       "7                          0                                 0   \n",
       "8                          0                                 0   \n",
       "9                          0                                 0   \n",
       "\n",
       "    native-country_ United-States   native-country_ Vietnam  \\\n",
       "0                               1                         0   \n",
       "1                               1                         0   \n",
       "2                               1                         0   \n",
       "3                               1                         0   \n",
       "4                               0                         0   \n",
       "5                               1                         0   \n",
       "6                               0                         0   \n",
       "7                               1                         0   \n",
       "8                               1                         0   \n",
       "9                               1                         0   \n",
       "\n",
       "    native-country_ Yugoslavia  \n",
       "0                            0  \n",
       "1                            0  \n",
       "2                            0  \n",
       "3                            0  \n",
       "4                            0  \n",
       "5                            0  \n",
       "6                            0  \n",
       "7                            0  \n",
       "8                            0  \n",
       "9                            0  \n",
       "\n",
       "[10 rows x 77 columns]"
      ]
     },
     "execution_count": 33,
     "metadata": {},
     "output_type": "execute_result"
    }
   ],
   "source": [
    "income_df.head(10)"
   ]
  },
  {
   "cell_type": "markdown",
   "metadata": {},
   "source": [
    "# Perform univariate and bivariate analysis and derive meaningful insights about the dataset"
   ]
  },
  {
   "cell_type": "markdown",
   "metadata": {},
   "source": [
    "### Univariate Analysis"
   ]
  },
  {
   "cell_type": "code",
   "execution_count": 34,
   "metadata": {},
   "outputs": [
    {
     "name": "stdout",
     "output_type": "stream",
     "text": [
      "age\n",
      "36    852\n",
      "31    851\n",
      "33    837\n",
      "34    836\n",
      "35    828\n",
      "     ... \n",
      "82      7\n",
      "83      5\n",
      "88      3\n",
      "85      3\n",
      "86      1\n",
      "Name: age, Length: 72, dtype: int64\n",
      " workclass\n",
      " Private             22286\n",
      " Self-emp-not-inc     2499\n",
      " Local-gov            2067\n",
      " State-gov            1279\n",
      " Self-emp-inc         1074\n",
      " Federal-gov           943\n",
      " Without-pay            14\n",
      "Name:  workclass, dtype: int64\n",
      " education-num\n",
      "9     9840\n",
      "10    6678\n",
      "13    5044\n",
      "14    1627\n",
      "11    1307\n",
      "7     1048\n",
      "12    1008\n",
      "6      820\n",
      "4      557\n",
      "15     542\n",
      "5      455\n",
      "8      377\n",
      "16     375\n",
      "3      288\n",
      "2      151\n",
      "1       45\n",
      "Name:  education-num, dtype: int64\n",
      " marital-status\n",
      "Married       14086\n",
      "NotMarried    10096\n",
      "Separated      5153\n",
      "Widowed         827\n",
      "Name:  marital-status, dtype: int64\n",
      " occupation\n",
      " Prof-specialty       4038\n",
      " Craft-repair         4030\n",
      " Exec-managerial      3992\n",
      " Adm-clerical         3721\n",
      " Sales                3584\n",
      " Other-service        3212\n",
      " Machine-op-inspct    1966\n",
      " Transport-moving     1572\n",
      " Handlers-cleaners    1350\n",
      " Farming-fishing       989\n",
      " Tech-support          912\n",
      " Protective-serv       644\n",
      " Priv-house-serv       143\n",
      " Armed-Forces            9\n",
      "Name:  occupation, dtype: int64\n",
      " race\n",
      " White                 25933\n",
      " Black                  2817\n",
      " Asian-Pac-Islander      895\n",
      " Amer-Indian-Eskimo      286\n",
      " Other                   231\n",
      "Name:  race, dtype: int64\n",
      " sex\n",
      " Male      20380\n",
      " Female     9782\n",
      "Name:  sex, dtype: int64\n",
      " hours-per-week\n",
      "40    14251\n",
      "50     2718\n",
      "45     1753\n",
      "60     1405\n",
      "35     1184\n",
      "      ...  \n",
      "94        1\n",
      "87        1\n",
      "74        1\n",
      "82        1\n",
      "92        1\n",
      "Name:  hours-per-week, Length: 94, dtype: int64\n",
      " native-country\n",
      " United-States                 27504\n",
      " Mexico                          610\n",
      " Philippines                     188\n",
      " Germany                         128\n",
      " Puerto-Rico                     109\n",
      " Canada                          107\n",
      " El-Salvador                     100\n",
      " India                           100\n",
      " Cuba                             92\n",
      " England                          86\n",
      " Jamaica                          80\n",
      " South                            71\n",
      " Italy                            68\n",
      " China                            68\n",
      " Dominican-Republic               67\n",
      " Vietnam                          64\n",
      " Guatemala                        63\n",
      " Japan                            59\n",
      " Poland                           56\n",
      " Columbia                         56\n",
      " Iran                             42\n",
      " Taiwan                           42\n",
      " Haiti                            42\n",
      " Portugal                         34\n",
      " Nicaragua                        33\n",
      " Peru                             30\n",
      " Greece                           29\n",
      " Ecuador                          27\n",
      " France                           27\n",
      " Ireland                          24\n",
      " Hong                             19\n",
      " Trinadad&Tobago                  18\n",
      " Cambodia                         18\n",
      " Thailand                         17\n",
      " Laos                             17\n",
      " Yugoslavia                       16\n",
      " Outlying-US(Guam-USVI-etc)       14\n",
      " Hungary                          13\n",
      " Honduras                         12\n",
      " Scotland                         11\n",
      " Holand-Netherlands                1\n",
      "Name:  native-country, dtype: int64\n",
      "target\n",
      "0    22654\n",
      "1     7508\n",
      "Name: target, dtype: int64\n"
     ]
    }
   ],
   "source": [
    "import seaborn as sns\n",
    "# Showing count of each value of each attribute\n",
    "for c in income_ds.columns:\n",
    "    print(c)\n",
    "    print(income_ds[c].value_counts())"
   ]
  },
  {
   "cell_type": "markdown",
   "metadata": {},
   "source": [
    "#### Income/ target"
   ]
  },
  {
   "cell_type": "code",
   "execution_count": 35,
   "metadata": {},
   "outputs": [
    {
     "data": {
      "image/png": "[encoded data removed]",
      "text/plain": [
       "<Figure size 432x288 with 1 Axes>"
      ]
     },
     "metadata": {
      "needs_background": "light"
     },
     "output_type": "display_data"
    }
   ],
   "source": [
    "sns.countplot(y=\"target\",data=income_ds)\n",
    "plt.show()"
   ]
  },
  {
   "cell_type": "markdown",
   "metadata": {},
   "source": [
    "* Income level <=50K is almost 3 times as of income level >50K.\n",
    "* So, income <=50K is almost 75%\n",
    "* income >50K  is almost 25%.\n",
    "* Data is somewhat skewed."
   ]
  },
  {
   "cell_type": "markdown",
   "metadata": {},
   "source": [
    "#### Education Column Column\n"
   ]
  },
  {
   "cell_type": "code",
   "execution_count": 36,
   "metadata": {},
   "outputs": [
    {
     "data": {
      "image/png": "[encoded data removed]",
      "text/plain": [
       "<Figure size 432x288 with 1 Axes>"
      ]
     },
     "metadata": {
      "needs_background": "light"
     },
     "output_type": "display_data"
    }
   ],
   "source": [
    "sns.countplot(y=' education-num',data=income_ds)\n",
    "plt.show()"
   ]
  },
  {
   "cell_type": "markdown",
   "metadata": {},
   "source": [
    "* Very high number of persons are High-grad(HS-Grad)\n",
    "* followed by Some-college and Bachelors"
   ]
  },
  {
   "cell_type": "code",
   "execution_count": 37,
   "metadata": {},
   "outputs": [
    {
     "data": {
      "text/plain": [
       "<matplotlib.axes._subplots.AxesSubplot at 0xb9e9b70>"
      ]
     },
     "execution_count": 37,
     "metadata": {},
     "output_type": "execute_result"
    },
    {
     "data": {
      "image/png": "[encoded data removed]",
      "text/plain": [
       "<Figure size 432x288 with 1 Axes>"
      ]
     },
     "metadata": {
      "needs_background": "light"
     },
     "output_type": "display_data"
    }
   ],
   "source": [
    "sns.distplot(income_ds[' education-num'])"
   ]
  },
  {
   "cell_type": "code",
   "execution_count": 38,
   "metadata": {},
   "outputs": [
    {
     "data": {
      "text/plain": [
       "<matplotlib.axes._subplots.AxesSubplot at 0xbefa310>"
      ]
     },
     "execution_count": 38,
     "metadata": {},
     "output_type": "execute_result"
    },
    {
     "data": {
      "image/png": "[encoded data removed]",
      "text/plain": [
       "<Figure size 432x288 with 1 Axes>"
      ]
     },
     "metadata": {
      "needs_background": "light"
     },
     "output_type": "display_data"
    }
   ],
   "source": [
    "sns.boxplot(income_ds[' education-num'])"
   ]
  },
  {
   "cell_type": "markdown",
   "metadata": {},
   "source": [
    "#### Marital Status Column"
   ]
  },
  {
   "cell_type": "code",
   "execution_count": 39,
   "metadata": {},
   "outputs": [
    {
     "data": {
      "image/png": "[encoded data removed]",
      "text/plain": [
       "<Figure size 432x288 with 1 Axes>"
      ]
     },
     "metadata": {
      "needs_background": "light"
     },
     "output_type": "display_data"
    }
   ],
   "source": [
    "sns.countplot(y=' marital-status',data=income_ds)\n",
    "plt.show()"
   ]
  },
  {
   "cell_type": "markdown",
   "metadata": {},
   "source": [
    "* Maximum people are married.\n",
    "* followed by not-married and seperated."
   ]
  },
  {
   "cell_type": "markdown",
   "metadata": {},
   "source": [
    "#### Occupation"
   ]
  },
  {
   "cell_type": "code",
   "execution_count": 40,
   "metadata": {},
   "outputs": [
    {
     "data": {
      "image/png": "[encoded data removed]",
      "text/plain": [
       "<Figure size 432x288 with 1 Axes>"
      ]
     },
     "metadata": {
      "needs_background": "light"
     },
     "output_type": "display_data"
    }
   ],
   "source": [
    "sns.countplot(y=\" occupation\", data=income_ds)\n",
    "plt.show()"
   ]
  },
  {
   "cell_type": "markdown",
   "metadata": {},
   "source": [
    "* Occupation Data is nearly uniform. with maximum number of people in Craft-repair and prof-speciality occupation\n",
    "* no person is in armed-forces."
   ]
  },
  {
   "cell_type": "markdown",
   "metadata": {},
   "source": [
    "#### Workclass"
   ]
  },
  {
   "cell_type": "code",
   "execution_count": 41,
   "metadata": {},
   "outputs": [
    {
     "data": {
      "image/png": "[encoded data removed]",
      "text/plain": [
       "<Figure size 432x288 with 1 Axes>"
      ]
     },
     "metadata": {
      "needs_background": "light"
     },
     "output_type": "display_data"
    }
   ],
   "source": [
    "sns.countplot(y=\" workclass\", data=income_ds)\n",
    "plt.show()"
   ]
  },
  {
   "cell_type": "markdown",
   "metadata": {},
   "source": [
    "* Majority of people are working in private sector"
   ]
  },
  {
   "cell_type": "markdown",
   "metadata": {},
   "source": [
    "#### Age"
   ]
  },
  {
   "cell_type": "code",
   "execution_count": 42,
   "metadata": {},
   "outputs": [
    {
     "data": {
      "image/png": "[encoded data removed]",
      "text/plain": [
       "<Figure size 432x288 with 1 Axes>"
      ]
     },
     "metadata": {
      "needs_background": "light"
     },
     "output_type": "display_data"
    }
   ],
   "source": [
    "income_ds['age_bin']=pd.cut(income_ds['age'],20)\n",
    "sns.countplot(y='age_bin',data=income_ds)\n",
    "plt.show()"
   ]
  },
  {
   "cell_type": "code",
   "execution_count": 43,
   "metadata": {},
   "outputs": [
    {
     "data": {
      "text/plain": [
       "<matplotlib.axes._subplots.AxesSubplot at 0xc017830>"
      ]
     },
     "execution_count": 43,
     "metadata": {},
     "output_type": "execute_result"
    },
    {
     "data": {
      "image/png": "[encoded data removed]",
      "text/plain": [
       "<Figure size 432x288 with 1 Axes>"
      ]
     },
     "metadata": {
      "needs_background": "light"
     },
     "output_type": "display_data"
    }
   ],
   "source": [
    "sns.distplot(income_ds['age'])"
   ]
  },
  {
   "cell_type": "code",
   "execution_count": 44,
   "metadata": {},
   "outputs": [
    {
     "data": {
      "text/plain": [
       "(array([4869., 5579., 5761., 5925., 3810., 2412., 1278.,  359.,  114.,\n",
       "          55.]),\n",
       " array([17. , 24.3, 31.6, 38.9, 46.2, 53.5, 60.8, 68.1, 75.4, 82.7, 90. ]),\n",
       " <a list of 10 Patch objects>)"
      ]
     },
     "execution_count": 44,
     "metadata": {},
     "output_type": "execute_result"
    },
    {
     "data": {
      "image/png": "[encoded data removed]",
      "text/plain": [
       "<Figure size 432x288 with 1 Axes>"
      ]
     },
     "metadata": {
      "needs_background": "light"
     },
     "output_type": "display_data"
    }
   ],
   "source": [
    "plt.hist(income_ds['age'],color='orange')"
   ]
  },
  {
   "cell_type": "code",
   "execution_count": 45,
   "metadata": {},
   "outputs": [
    {
     "data": {
      "text/plain": [
       "<matplotlib.axes._subplots.AxesSubplot at 0xd14d430>"
      ]
     },
     "execution_count": 45,
     "metadata": {},
     "output_type": "execute_result"
    },
    {
     "data": {
      "image/png": "[encoded data removed]",
      "text/plain": [
       "<Figure size 432x288 with 1 Axes>"
      ]
     },
     "metadata": {
      "needs_background": "light"
     },
     "output_type": "display_data"
    }
   ],
   "source": [
    "sns.boxplot(y=income_ds['age'],x=income_ds['target'])"
   ]
  },
  {
   "cell_type": "markdown",
   "metadata": {},
   "source": [
    "#### here all the diamonds are outliers\n",
    "#### people of higehr age are having more proportion in >50K group"
   ]
  },
  {
   "cell_type": "code",
   "execution_count": 46,
   "metadata": {},
   "outputs": [
    {
     "data": {
      "text/html": [
       "<div>\n",
       "<style scoped>\n",
       "    .dataframe tbody tr th:only-of-type {\n",
       "        vertical-align: middle;\n",
       "    }\n",
       "\n",
       "    .dataframe tbody tr th {\n",
       "        vertical-align: top;\n",
       "    }\n",
       "\n",
       "    .dataframe thead th {\n",
       "        text-align: right;\n",
       "    }\n",
       "</style>\n",
       "<table border=\"1\" class=\"dataframe\">\n",
       "  <thead>\n",
       "    <tr style=\"text-align: right;\">\n",
       "      <th></th>\n",
       "      <th>target</th>\n",
       "      <th>age</th>\n",
       "    </tr>\n",
       "  </thead>\n",
       "  <tbody>\n",
       "    <tr>\n",
       "      <th>0</th>\n",
       "      <td>0</td>\n",
       "      <td>36.60806</td>\n",
       "    </tr>\n",
       "    <tr>\n",
       "      <th>1</th>\n",
       "      <td>1</td>\n",
       "      <td>43.95911</td>\n",
       "    </tr>\n",
       "  </tbody>\n",
       "</table>\n",
       "</div>"
      ],
      "text/plain": [
       "   target       age\n",
       "0       0  36.60806\n",
       "1       1  43.95911"
      ]
     },
     "execution_count": 46,
     "metadata": {},
     "output_type": "execute_result"
    }
   ],
   "source": [
    "inc=income_ds[['target','age']].groupby(['target'],as_index=False).mean().sort_values(by='age',ascending='False')\n",
    "inc"
   ]
  },
  {
   "cell_type": "code",
   "execution_count": 47,
   "metadata": {},
   "outputs": [
    {
     "data": {
      "text/plain": [
       "<BarContainer object of 2 artists>"
      ]
     },
     "execution_count": 47,
     "metadata": {},
     "output_type": "execute_result"
    },
    {
     "data": {
      "image/png": "[encoded data removed]",
      "text/plain": [
       "<Figure size 432x288 with 1 Axes>"
      ]
     },
     "metadata": {
      "needs_background": "light"
     },
     "output_type": "display_data"
    }
   ],
   "source": [
    "plt.bar(inc['target'],inc['age'],color='magenta')"
   ]
  },
  {
   "cell_type": "markdown",
   "metadata": {},
   "source": [
    "#### Race and Gender"
   ]
  },
  {
   "cell_type": "code",
   "execution_count": 48,
   "metadata": {},
   "outputs": [
    {
     "data": {
      "text/plain": [
       "<matplotlib.legend.Legend at 0xc073450>"
      ]
     },
     "execution_count": 48,
     "metadata": {},
     "output_type": "execute_result"
    },
    {
     "data": {
      "image/png": "[encoded data removed]",
      "text/plain": [
       "<Figure size 432x288 with 1 Axes>"
      ]
     },
     "metadata": {
      "needs_background": "light"
     },
     "output_type": "display_data"
    }
   ],
   "source": [
    "sns.countplot(y=' race',hue=' sex',data=income_ds)\n",
    "plt.legend(loc='lower right')\n"
   ]
  },
  {
   "cell_type": "markdown",
   "metadata": {},
   "source": [
    "* Most people are whites\n",
    "* Huge gender gap in Whites with male proportion almost twice as that of females.\n",
    "* Almost no gender gap in Blacks."
   ]
  },
  {
   "cell_type": "markdown",
   "metadata": {},
   "source": [
    "#### hours per week"
   ]
  },
  {
   "cell_type": "code",
   "execution_count": 49,
   "metadata": {},
   "outputs": [
    {
     "data": {
      "image/png": "[encoded data removed]",
      "text/plain": [
       "<Figure size 432x288 with 1 Axes>"
      ]
     },
     "metadata": {
      "needs_background": "light"
     },
     "output_type": "display_data"
    }
   ],
   "source": [
    "income_ds['hours-per-week-bins']=pd.cut(income_ds[' hours-per-week'],20)\n",
    "sns.countplot(y='hours-per-week-bins',data=income_ds)\n",
    "plt.show()"
   ]
  },
  {
   "cell_type": "code",
   "execution_count": 50,
   "metadata": {},
   "outputs": [
    {
     "data": {
      "image/png": "[encoded data removed]",
      "text/plain": [
       "<Figure size 432x288 with 1 Axes>"
      ]
     },
     "metadata": {
      "needs_background": "light"
     },
     "output_type": "display_data"
    }
   ],
   "source": [
    "sns.boxplot(y=income_ds[' hours-per-week'],x=income_ds['target'])\n",
    "plt.show()"
   ]
  },
  {
   "cell_type": "code",
   "execution_count": 51,
   "metadata": {},
   "outputs": [
    {
     "data": {
      "text/plain": [
       "<matplotlib.axes._subplots.AxesSubplot at 0xb963350>"
      ]
     },
     "execution_count": 51,
     "metadata": {},
     "output_type": "execute_result"
    },
    {
     "data": {
      "image/png": "[encoded data removed]",
      "text/plain": [
       "<Figure size 432x288 with 1 Axes>"
      ]
     },
     "metadata": {
      "needs_background": "light"
     },
     "output_type": "display_data"
    }
   ],
   "source": [
    "sns.distplot(income_ds[' hours-per-week'])"
   ]
  },
  {
   "cell_type": "markdown",
   "metadata": {},
   "source": [
    "## Bivariate analysis"
   ]
  },
  {
   "cell_type": "markdown",
   "metadata": {},
   "source": [
    "####  1. Age vs Income"
   ]
  },
  {
   "cell_type": "code",
   "execution_count": 52,
   "metadata": {},
   "outputs": [
    {
     "data": {
      "image/png": "[encoded data removed]",
      "text/plain": [
       "<Figure size 432x288 with 1 Axes>"
      ]
     },
     "metadata": {
      "needs_background": "light"
     },
     "output_type": "display_data"
    }
   ],
   "source": [
    "sns.boxplot(x='target',y='age',data=income_ds)\n",
    "plt.show()"
   ]
  },
  {
   "cell_type": "code",
   "execution_count": 53,
   "metadata": {},
   "outputs": [
    {
     "data": {
      "image/png": "[encoded data removed]",
      "text/plain": [
       "<Figure size 432x288 with 1 Axes>"
      ]
     },
     "metadata": {
      "needs_background": "light"
     },
     "output_type": "display_data"
    }
   ],
   "source": [
    "sns.violinplot(x=' race',y='age',hue='target',data=income_ds,gridsize=100)\n",
    "plt.grid(True)\n",
    "plt.show()"
   ]
  },
  {
   "cell_type": "code",
   "execution_count": 54,
   "metadata": {},
   "outputs": [
    {
     "data": {
      "image/png": "[encoded data removed]",
      "text/plain": [
       "<Figure size 1440x432 with 1 Axes>"
      ]
     },
     "metadata": {
      "needs_background": "light"
     },
     "output_type": "display_data"
    }
   ],
   "source": [
    "pd.crosstab(income_ds['age_bin'],income_ds['target']).plot(kind='bar',figsize=(20,6),color=['orange','lightblue'])\n",
    "plt.xticks(rotation=45)\n",
    "plt.xlabel('Age')\n",
    "plt.ylabel('proportion of people')\n",
    "plt.show()"
   ]
  },
  {
   "cell_type": "markdown",
   "metadata": {},
   "source": [
    "From the graphs above, it is clear that the older peoples have higher proportion in earning >50K.\n",
    "As the age increses the proportion of people earning <=50K decreases."
   ]
  },
  {
   "cell_type": "markdown",
   "metadata": {},
   "source": [
    "####  2. Eduvation-num vs Income"
   ]
  },
  {
   "cell_type": "code",
   "execution_count": 55,
   "metadata": {},
   "outputs": [
    {
     "data": {
      "image/png": "[encoded data removed]",
      "text/plain": [
       "<Figure size 720x432 with 1 Axes>"
      ]
     },
     "metadata": {
      "needs_background": "light"
     },
     "output_type": "display_data"
    }
   ],
   "source": [
    "pd.crosstab(income_ds[' education-num'],income_ds['target']).plot(kind='bar',figsize=(10,6),color=['orange','lightblue'])\n",
    "plt.xticks(rotation=45)\n",
    "plt.xlabel('education')\n",
    "plt.ylabel('proportion of people')\n",
    "plt.show()"
   ]
  },
  {
   "cell_type": "markdown",
   "metadata": {},
   "source": [
    "* we see from the bar graph above that as the education level increase, the proportion of people who earn more than 50k a year also increase. \n",
    "* It is interesting to note that only after a master's degree/education-num=13, the proportion of people earning more than 50k a year, is a majority."
   ]
  },
  {
   "cell_type": "markdown",
   "metadata": {},
   "source": [
    "#### 3. Race vs Income"
   ]
  },
  {
   "cell_type": "code",
   "execution_count": 56,
   "metadata": {},
   "outputs": [
    {
     "data": {
      "image/png": "[encoded data removed]",
      "text/plain": [
       "<Figure size 720x432 with 1 Axes>"
      ]
     },
     "metadata": {
      "needs_background": "light"
     },
     "output_type": "display_data"
    }
   ],
   "source": [
    "pd.crosstab(income_ds[' race'],income_ds['target']).plot(kind='bar',figsize=(10,6),color=['orange','lightblue'])\n",
    "plt.xticks(rotation=45)\n",
    "plt.xlabel('Race')\n",
    "plt.ylabel('proportion of people')\n",
    "plt.show()"
   ]
  },
  {
   "cell_type": "markdown",
   "metadata": {},
   "source": [
    "From the graph, it is clear that whites have larger proportion earning 50K.\n",
    "all the other races have huge differences between proportion of both income categories"
   ]
  },
  {
   "cell_type": "markdown",
   "metadata": {},
   "source": [
    "#### Sex vs Income"
   ]
  },
  {
   "cell_type": "code",
   "execution_count": 57,
   "metadata": {},
   "outputs": [
    {
     "data": {
      "image/png": "[encoded data removed]",
      "text/plain": [
       "<Figure size 720x432 with 1 Axes>"
      ]
     },
     "metadata": {
      "needs_background": "light"
     },
     "output_type": "display_data"
    }
   ],
   "source": [
    "pd.crosstab(income_ds[' sex'],income_ds['target']).plot(kind='bar',figsize=(10,6),color=['red','blue'])\n",
    "plt.xticks(rotation=45)\n",
    "plt.xlabel('sex')\n",
    "plt.ylabel('proportion of people')\n",
    "plt.show()"
   ]
  },
  {
   "cell_type": "markdown",
   "metadata": {},
   "source": [
    "* From the graph, at an overall view, there exists a wage gap between females and males.\n",
    "* Proportion of males earning more than 50k a year is more than double of their female counterparts."
   ]
  },
  {
   "cell_type": "markdown",
   "metadata": {},
   "source": [
    "#### Workclass vs Income"
   ]
  },
  {
   "cell_type": "code",
   "execution_count": 58,
   "metadata": {},
   "outputs": [
    {
     "data": {
      "image/png": "[encoded data removed]",
      "text/plain": [
       "<Figure size 720x432 with 1 Axes>"
      ]
     },
     "metadata": {
      "needs_background": "light"
     },
     "output_type": "display_data"
    }
   ],
   "source": [
    "pd.crosstab(income_ds[' workclass'],income_ds['target']).plot(kind='bar',figsize=(10,6),color=['red','blue'])\n",
    "plt.xticks(rotation=45)\n",
    "plt.xlabel('workclass')\n",
    "plt.ylabel('proportion of people')\n",
    "plt.show()"
   ]
  },
  {
   "cell_type": "markdown",
   "metadata": {},
   "source": [
    "From the Graph, it is clear that there is a huge difference in the proportion of people earning <=50K and >50K in Private workclass. But in Govt. workclass the difference is not that much.  Self employed persons have higher proportion of >50K."
   ]
  },
  {
   "cell_type": "markdown",
   "metadata": {},
   "source": [
    "#### Occupation vs Income"
   ]
  },
  {
   "cell_type": "code",
   "execution_count": 59,
   "metadata": {},
   "outputs": [
    {
     "data": {
      "image/png": "[encoded data removed]",
      "text/plain": [
       "<Figure size 720x432 with 1 Axes>"
      ]
     },
     "metadata": {
      "needs_background": "light"
     },
     "output_type": "display_data"
    }
   ],
   "source": [
    "pd.crosstab(income_ds[' occupation'],income_ds['target']).plot(kind='bar',figsize=(10,6),color=['red','blue'])\n",
    "plt.xticks(rotation=80)\n",
    "plt.xlabel('occupation')\n",
    "plt.ylabel('proportion of people')\n",
    "plt.show()"
   ]
  },
  {
   "cell_type": "markdown",
   "metadata": {},
   "source": [
    "People in Exec-managerial and Prof-speciality have almost equal proportions of both the income categories viz. <=50K and >50K.\n",
    "Rest all the occupations have high differences."
   ]
  },
  {
   "cell_type": "markdown",
   "metadata": {},
   "source": [
    "#### Native country vs income"
   ]
  },
  {
   "cell_type": "code",
   "execution_count": 60,
   "metadata": {},
   "outputs": [
    {
     "data": {
      "image/png": "[encoded data removed]",
      "text/plain": [
       "<Figure size 1440x864 with 1 Axes>"
      ]
     },
     "metadata": {
      "needs_background": "light"
     },
     "output_type": "display_data"
    }
   ],
   "source": [
    "pd.crosstab(income_ds[' native-country'],income_ds['target']).plot(kind='bar',figsize=(20,12),color=['orange','lightblue'])\n",
    "plt.xticks(rotation=90)\n",
    "plt.xlabel('native-country')\n",
    "plt.ylabel('proportion of people')\n",
    "plt.show()"
   ]
  },
  {
   "cell_type": "code",
   "execution_count": 61,
   "metadata": {},
   "outputs": [
    {
     "data": {
      "text/plain": [
       "Text(0, 0.5, 'Proportion of population')"
      ]
     },
     "execution_count": 61,
     "metadata": {},
     "output_type": "execute_result"
    },
    {
     "data": {
      "image/png": "[encoded data removed]",
      "text/plain": [
       "<Figure size 1440x864 with 1 Axes>"
      ]
     },
     "metadata": {
      "needs_background": "light"
     },
     "output_type": "display_data"
    }
   ],
   "source": [
    "native_country = round(pd.crosstab(income_ds[' native-country'], income_ds['target']).div(pd.crosstab(income_ds[' native-country'], income_ds['target']).apply(sum,1),0),2)\n",
    "native_country.sort_values(by = 1, inplace = True)\n",
    "ax = native_country.plot(kind ='bar', title = 'Proportion distribution across Native Country levels', figsize = (20,12))\n",
    "ax.set_xlabel('Native country')\n",
    "ax.set_ylabel('Proportion of population')"
   ]
  },
  {
   "cell_type": "markdown",
   "metadata": {},
   "source": [
    "From the graph, we notice a trend in positioning of the country. South American country are         at the left end of the plot, with low proportion of population that make more than 50k a year. The         United States is located somewhat centrally, and at the right are countries from Europe and Asia,         with higher proportion of population that make more than 50k a year"
   ]
  },
  {
   "cell_type": "markdown",
   "metadata": {},
   "source": [
    "#### Hours per week vs Income"
   ]
  },
  {
   "cell_type": "code",
   "execution_count": 62,
   "metadata": {},
   "outputs": [
    {
     "data": {
      "image/png": "[encoded data removed]",
      "text/plain": [
       "<Figure size 1440x864 with 1 Axes>"
      ]
     },
     "metadata": {
      "needs_background": "light"
     },
     "output_type": "display_data"
    }
   ],
   "source": [
    "pd.crosstab(income_ds[' hours-per-week'],income_ds['target']).plot(kind='bar',figsize=(20,12),color=['orange','lightblue'])\n",
    "plt.xticks(rotation=45)\n",
    "plt.xlabel('Hours Per Week')\n",
    "plt.ylabel('proportion of people')\n",
    "plt.show()"
   ]
  },
  {
   "cell_type": "code",
   "execution_count": 63,
   "metadata": {},
   "outputs": [
    {
     "data": {
      "text/plain": [
       "Text(0, 0.5, 'Proportion of population')"
      ]
     },
     "execution_count": 63,
     "metadata": {},
     "output_type": "execute_result"
    },
    {
     "data": {
      "image/png": "[encoded data removed]",
      "text/plain": [
       "<Figure size 2160x864 with 1 Axes>"
      ]
     },
     "metadata": {
      "needs_background": "light"
     },
     "output_type": "display_data"
    }
   ],
   "source": [
    "\n",
    "hours_per_week = round(pd.crosstab(income_ds[' hours-per-week'], income_ds.target).div(pd.crosstab(income_ds[' hours-per-week'], income_ds.target).apply(sum,1),0),2)\n",
    "# hours_per_week.sort_values(by = '>50K', inplace = True)\n",
    "ax = hours_per_week.plot(kind ='bar', title = 'Proportion distribution across Hours per week', figsize = (30,12))\n",
    "ax.set_xlabel('Hours per week')\n",
    "ax.set_ylabel('Proportion of population')"
   ]
  },
  {
   "cell_type": "markdown",
   "metadata": {},
   "source": [
    " We would expected to notice a trend that higher the hours worked per week, the higher the proportion         of population making more than 50k a year. However, this was not necessarily true from the graph.         For several hours instance (for example, where hours worked was 77, 79, 81, 82, 87, 88 and so on) no one earned more than 50k a year. ')\n",
    "\n"
   ]
  },
  {
   "cell_type": "markdown",
   "metadata": {},
   "source": [
    "#### Marital status vs Income"
   ]
  },
  {
   "cell_type": "code",
   "execution_count": 64,
   "metadata": {},
   "outputs": [
    {
     "data": {
      "image/png": "[encoded data removed]",
      "text/plain": [
       "<Figure size 720x432 with 1 Axes>"
      ]
     },
     "metadata": {
      "needs_background": "light"
     },
     "output_type": "display_data"
    }
   ],
   "source": [
    "pd.crosstab(income_ds[' marital-status'],income_ds['target']).plot(kind='bar',figsize=(10,6),color=['red','blue'])\n",
    "plt.xticks(rotation=45)\n",
    "plt.xlabel('marital status')\n",
    "plt.ylabel('proportion of people')\n",
    "plt.show()"
   ]
  },
  {
   "cell_type": "markdown",
   "metadata": {},
   "source": [
    "Majority of Non married people earn <=50K."
   ]
  },
  {
   "cell_type": "markdown",
   "metadata": {},
   "source": [
    "# remove dataset outliers"
   ]
  },
  {
   "cell_type": "code",
   "execution_count": 65,
   "metadata": {},
   "outputs": [
    {
     "name": "stdout",
     "output_type": "stream",
     "text": [
      "<class 'pandas.core.frame.DataFrame'>\n",
      "Int64Index: 30162 entries, 0 to 32560\n",
      "Data columns (total 12 columns):\n",
      " #   Column               Non-Null Count  Dtype   \n",
      "---  ------               --------------  -----   \n",
      " 0   age                  30162 non-null  int64   \n",
      " 1    workclass           30162 non-null  object  \n",
      " 2    education-num       30162 non-null  int64   \n",
      " 3    marital-status      30162 non-null  object  \n",
      " 4    occupation          30162 non-null  object  \n",
      " 5    race                30162 non-null  object  \n",
      " 6    sex                 30162 non-null  object  \n",
      " 7    hours-per-week      30162 non-null  int64   \n",
      " 8    native-country      30162 non-null  object  \n",
      " 9   target               30162 non-null  int64   \n",
      " 10  age_bin              30162 non-null  category\n",
      " 11  hours-per-week-bins  30162 non-null  category\n",
      "dtypes: category(2), int64(4), object(6)\n",
      "memory usage: 2.9+ MB\n"
     ]
    }
   ],
   "source": [
    "income_ds.info()"
   ]
  },
  {
   "cell_type": "code",
   "execution_count": 66,
   "metadata": {},
   "outputs": [
    {
     "name": "stdout",
     "output_type": "stream",
     "text": [
      "[0.04279571 0.88028814 0.03333996 ... 1.48937355 1.25151078 1.0325595 ]\n"
     ]
    }
   ],
   "source": [
    "from scipy import stats\n",
    "import numpy as np\n",
    "z = np.abs(stats.zscore(income_ds['age']))\n",
    "print(z)"
   ]
  },
  {
   "cell_type": "code",
   "execution_count": 67,
   "metadata": {},
   "outputs": [],
   "source": [
    "income_ds=income_ds[z<=3]"
   ]
  },
  {
   "cell_type": "code",
   "execution_count": 68,
   "metadata": {},
   "outputs": [
    {
     "data": {
      "text/html": [
       "<div>\n",
       "<style scoped>\n",
       "    .dataframe tbody tr th:only-of-type {\n",
       "        vertical-align: middle;\n",
       "    }\n",
       "\n",
       "    .dataframe tbody tr th {\n",
       "        vertical-align: top;\n",
       "    }\n",
       "\n",
       "    .dataframe thead th {\n",
       "        text-align: right;\n",
       "    }\n",
       "</style>\n",
       "<table border=\"1\" class=\"dataframe\">\n",
       "  <thead>\n",
       "    <tr style=\"text-align: right;\">\n",
       "      <th></th>\n",
       "      <th>age</th>\n",
       "      <th>workclass</th>\n",
       "      <th>education-num</th>\n",
       "      <th>marital-status</th>\n",
       "      <th>occupation</th>\n",
       "      <th>race</th>\n",
       "      <th>sex</th>\n",
       "      <th>hours-per-week</th>\n",
       "      <th>native-country</th>\n",
       "      <th>target</th>\n",
       "      <th>age_bin</th>\n",
       "      <th>hours-per-week-bins</th>\n",
       "    </tr>\n",
       "  </thead>\n",
       "  <tbody>\n",
       "    <tr>\n",
       "      <th>0</th>\n",
       "      <td>39</td>\n",
       "      <td>State-gov</td>\n",
       "      <td>13</td>\n",
       "      <td>NotMarried</td>\n",
       "      <td>Adm-clerical</td>\n",
       "      <td>White</td>\n",
       "      <td>Male</td>\n",
       "      <td>40</td>\n",
       "      <td>United-States</td>\n",
       "      <td>0</td>\n",
       "      <td>(38.9, 42.55]</td>\n",
       "      <td>(35.3, 40.2]</td>\n",
       "    </tr>\n",
       "    <tr>\n",
       "      <th>1</th>\n",
       "      <td>50</td>\n",
       "      <td>Self-emp-not-inc</td>\n",
       "      <td>13</td>\n",
       "      <td>Married</td>\n",
       "      <td>Exec-managerial</td>\n",
       "      <td>White</td>\n",
       "      <td>Male</td>\n",
       "      <td>13</td>\n",
       "      <td>United-States</td>\n",
       "      <td>0</td>\n",
       "      <td>(49.85, 53.5]</td>\n",
       "      <td>(10.8, 15.7]</td>\n",
       "    </tr>\n",
       "    <tr>\n",
       "      <th>2</th>\n",
       "      <td>38</td>\n",
       "      <td>Private</td>\n",
       "      <td>9</td>\n",
       "      <td>Separated</td>\n",
       "      <td>Handlers-cleaners</td>\n",
       "      <td>White</td>\n",
       "      <td>Male</td>\n",
       "      <td>40</td>\n",
       "      <td>United-States</td>\n",
       "      <td>0</td>\n",
       "      <td>(35.25, 38.9]</td>\n",
       "      <td>(35.3, 40.2]</td>\n",
       "    </tr>\n",
       "    <tr>\n",
       "      <th>3</th>\n",
       "      <td>53</td>\n",
       "      <td>Private</td>\n",
       "      <td>7</td>\n",
       "      <td>Married</td>\n",
       "      <td>Handlers-cleaners</td>\n",
       "      <td>Black</td>\n",
       "      <td>Male</td>\n",
       "      <td>40</td>\n",
       "      <td>United-States</td>\n",
       "      <td>0</td>\n",
       "      <td>(49.85, 53.5]</td>\n",
       "      <td>(35.3, 40.2]</td>\n",
       "    </tr>\n",
       "    <tr>\n",
       "      <th>4</th>\n",
       "      <td>28</td>\n",
       "      <td>Private</td>\n",
       "      <td>13</td>\n",
       "      <td>Married</td>\n",
       "      <td>Prof-specialty</td>\n",
       "      <td>Black</td>\n",
       "      <td>Female</td>\n",
       "      <td>40</td>\n",
       "      <td>Cuba</td>\n",
       "      <td>0</td>\n",
       "      <td>(27.95, 31.6]</td>\n",
       "      <td>(35.3, 40.2]</td>\n",
       "    </tr>\n",
       "  </tbody>\n",
       "</table>\n",
       "</div>"
      ],
      "text/plain": [
       "   age          workclass   education-num  marital-status          occupation  \\\n",
       "0   39          State-gov              13      NotMarried        Adm-clerical   \n",
       "1   50   Self-emp-not-inc              13         Married     Exec-managerial   \n",
       "2   38            Private               9       Separated   Handlers-cleaners   \n",
       "3   53            Private               7         Married   Handlers-cleaners   \n",
       "4   28            Private              13         Married      Prof-specialty   \n",
       "\n",
       "     race      sex   hours-per-week  native-country  target        age_bin  \\\n",
       "0   White     Male               40   United-States       0  (38.9, 42.55]   \n",
       "1   White     Male               13   United-States       0  (49.85, 53.5]   \n",
       "2   White     Male               40   United-States       0  (35.25, 38.9]   \n",
       "3   Black     Male               40   United-States       0  (49.85, 53.5]   \n",
       "4   Black   Female               40            Cuba       0  (27.95, 31.6]   \n",
       "\n",
       "  hours-per-week-bins  \n",
       "0        (35.3, 40.2]  \n",
       "1        (10.8, 15.7]  \n",
       "2        (35.3, 40.2]  \n",
       "3        (35.3, 40.2]  \n",
       "4        (35.3, 40.2]  "
      ]
     },
     "execution_count": 68,
     "metadata": {},
     "output_type": "execute_result"
    }
   ],
   "source": [
    "income_ds.head()"
   ]
  },
  {
   "cell_type": "code",
   "execution_count": 69,
   "metadata": {},
   "outputs": [
    {
     "name": "stdout",
     "output_type": "stream",
     "text": [
      "<class 'pandas.core.frame.DataFrame'>\n",
      "Int64Index: 30042 entries, 0 to 32560\n",
      "Data columns (total 12 columns):\n",
      " #   Column               Non-Null Count  Dtype   \n",
      "---  ------               --------------  -----   \n",
      " 0   age                  30042 non-null  int64   \n",
      " 1    workclass           30042 non-null  object  \n",
      " 2    education-num       30042 non-null  int64   \n",
      " 3    marital-status      30042 non-null  object  \n",
      " 4    occupation          30042 non-null  object  \n",
      " 5    race                30042 non-null  object  \n",
      " 6    sex                 30042 non-null  object  \n",
      " 7    hours-per-week      30042 non-null  int64   \n",
      " 8    native-country      30042 non-null  object  \n",
      " 9   target               30042 non-null  int64   \n",
      " 10  age_bin              30042 non-null  category\n",
      " 11  hours-per-week-bins  30042 non-null  category\n",
      "dtypes: category(2), int64(4), object(6)\n",
      "memory usage: 1.9+ MB\n"
     ]
    }
   ],
   "source": [
    "income_ds.info()"
   ]
  },
  {
   "cell_type": "code",
   "execution_count": 70,
   "metadata": {},
   "outputs": [
    {
     "name": "stdout",
     "output_type": "stream",
     "text": [
      "<class 'pandas.core.frame.DataFrame'>\n",
      "Int64Index: 29849 entries, 0 to 32560\n",
      "Data columns (total 12 columns):\n",
      " #   Column               Non-Null Count  Dtype   \n",
      "---  ------               --------------  -----   \n",
      " 0   age                  29849 non-null  int64   \n",
      " 1    workclass           29849 non-null  object  \n",
      " 2    education-num       29849 non-null  int64   \n",
      " 3    marital-status      29849 non-null  object  \n",
      " 4    occupation          29849 non-null  object  \n",
      " 5    race                29849 non-null  object  \n",
      " 6    sex                 29849 non-null  object  \n",
      " 7    hours-per-week      29849 non-null  int64   \n",
      " 8    native-country      29849 non-null  object  \n",
      " 9   target               29849 non-null  int64   \n",
      " 10  age_bin              29849 non-null  category\n",
      " 11  hours-per-week-bins  29849 non-null  category\n",
      "dtypes: category(2), int64(4), object(6)\n",
      "memory usage: 1.9+ MB\n"
     ]
    }
   ],
   "source": [
    "z = np.abs(stats.zscore(income_ds[' education-num']))\n",
    "income_ds=income_ds[z<=3]\n",
    "income_ds.info()"
   ]
  },
  {
   "cell_type": "code",
   "execution_count": 71,
   "metadata": {},
   "outputs": [
    {
     "name": "stdout",
     "output_type": "stream",
     "text": [
      "<class 'pandas.core.frame.DataFrame'>\n",
      "Int64Index: 29421 entries, 0 to 32560\n",
      "Data columns (total 12 columns):\n",
      " #   Column               Non-Null Count  Dtype   \n",
      "---  ------               --------------  -----   \n",
      " 0   age                  29421 non-null  int64   \n",
      " 1    workclass           29421 non-null  object  \n",
      " 2    education-num       29421 non-null  int64   \n",
      " 3    marital-status      29421 non-null  object  \n",
      " 4    occupation          29421 non-null  object  \n",
      " 5    race                29421 non-null  object  \n",
      " 6    sex                 29421 non-null  object  \n",
      " 7    hours-per-week      29421 non-null  int64   \n",
      " 8    native-country      29421 non-null  object  \n",
      " 9   target               29421 non-null  int64   \n",
      " 10  age_bin              29421 non-null  category\n",
      " 11  hours-per-week-bins  29421 non-null  category\n",
      "dtypes: category(2), int64(4), object(6)\n",
      "memory usage: 1.9+ MB\n"
     ]
    }
   ],
   "source": [
    "z = np.abs(stats.zscore(income_ds[' hours-per-week']))\n",
    "income_ds=income_ds[z<=3]\n",
    "income_ds.info()"
   ]
  },
  {
   "cell_type": "markdown",
   "metadata": {},
   "source": [
    "## Correletion matrix"
   ]
  },
  {
   "cell_type": "code",
   "execution_count": 72,
   "metadata": {},
   "outputs": [
    {
     "data": {
      "text/html": [
       "<div>\n",
       "<style scoped>\n",
       "    .dataframe tbody tr th:only-of-type {\n",
       "        vertical-align: middle;\n",
       "    }\n",
       "\n",
       "    .dataframe tbody tr th {\n",
       "        vertical-align: top;\n",
       "    }\n",
       "\n",
       "    .dataframe thead th {\n",
       "        text-align: right;\n",
       "    }\n",
       "</style>\n",
       "<table border=\"1\" class=\"dataframe\">\n",
       "  <thead>\n",
       "    <tr style=\"text-align: right;\">\n",
       "      <th></th>\n",
       "      <th>age</th>\n",
       "      <th>education-num</th>\n",
       "      <th>hours-per-week</th>\n",
       "      <th>target</th>\n",
       "    </tr>\n",
       "  </thead>\n",
       "  <tbody>\n",
       "    <tr>\n",
       "      <th>age</th>\n",
       "      <td>1.000000</td>\n",
       "      <td>0.058012</td>\n",
       "      <td>0.129084</td>\n",
       "      <td>0.255111</td>\n",
       "    </tr>\n",
       "    <tr>\n",
       "      <th>education-num</th>\n",
       "      <td>0.058012</td>\n",
       "      <td>1.000000</td>\n",
       "      <td>0.165749</td>\n",
       "      <td>0.338077</td>\n",
       "    </tr>\n",
       "    <tr>\n",
       "      <th>hours-per-week</th>\n",
       "      <td>0.129084</td>\n",
       "      <td>0.165749</td>\n",
       "      <td>1.000000</td>\n",
       "      <td>0.244162</td>\n",
       "    </tr>\n",
       "    <tr>\n",
       "      <th>target</th>\n",
       "      <td>0.255111</td>\n",
       "      <td>0.338077</td>\n",
       "      <td>0.244162</td>\n",
       "      <td>1.000000</td>\n",
       "    </tr>\n",
       "  </tbody>\n",
       "</table>\n",
       "</div>"
      ],
      "text/plain": [
       "                      age   education-num   hours-per-week    target\n",
       "age              1.000000        0.058012         0.129084  0.255111\n",
       " education-num   0.058012        1.000000         0.165749  0.338077\n",
       " hours-per-week  0.129084        0.165749         1.000000  0.244162\n",
       "target           0.255111        0.338077         0.244162  1.000000"
      ]
     },
     "execution_count": 72,
     "metadata": {},
     "output_type": "execute_result"
    }
   ],
   "source": [
    "income_ds.corr()"
   ]
  },
  {
   "cell_type": "markdown",
   "metadata": {},
   "source": [
    "#### We see that none of the columns are highly correlated.."
   ]
  },
  {
   "cell_type": "code",
   "execution_count": 73,
   "metadata": {},
   "outputs": [
    {
     "data": {
      "text/plain": [
       "<matplotlib.axes._subplots.AxesSubplot at 0xd19e7d0>"
      ]
     },
     "execution_count": 73,
     "metadata": {},
     "output_type": "execute_result"
    },
    {
     "data": {
      "image/png": "[encoded data removed]",
      "text/plain": [
       "<Figure size 432x288 with 2 Axes>"
      ]
     },
     "metadata": {
      "needs_background": "light"
     },
     "output_type": "display_data"
    }
   ],
   "source": [
    "sns.heatmap(income_ds.corr())"
   ]
  },
  {
   "cell_type": "code",
   "execution_count": 74,
   "metadata": {},
   "outputs": [],
   "source": [
    "#Income_ds dataset has been copied into dset and further dset has been one hot encoded to form a new dataset.\n",
    "dset=income_ds\n",
    "dataset=oneHot(dset,dset.select_dtypes('object').columns)"
   ]
  },
  {
   "cell_type": "code",
   "execution_count": 156,
   "metadata": {},
   "outputs": [
    {
     "data": {
      "text/html": [
       "<div>\n",
       "<style scoped>\n",
       "    .dataframe tbody tr th:only-of-type {\n",
       "        vertical-align: middle;\n",
       "    }\n",
       "\n",
       "    .dataframe tbody tr th {\n",
       "        vertical-align: top;\n",
       "    }\n",
       "\n",
       "    .dataframe thead th {\n",
       "        text-align: right;\n",
       "    }\n",
       "</style>\n",
       "<table border=\"1\" class=\"dataframe\">\n",
       "  <thead>\n",
       "    <tr style=\"text-align: right;\">\n",
       "      <th></th>\n",
       "      <th>age</th>\n",
       "      <th>workclass</th>\n",
       "      <th>education-num</th>\n",
       "      <th>marital-status</th>\n",
       "      <th>occupation</th>\n",
       "      <th>race</th>\n",
       "      <th>sex</th>\n",
       "      <th>hours-per-week</th>\n",
       "      <th>native-country</th>\n",
       "      <th>target</th>\n",
       "    </tr>\n",
       "  </thead>\n",
       "  <tbody>\n",
       "    <tr>\n",
       "      <th>0</th>\n",
       "      <td>39</td>\n",
       "      <td>State-gov</td>\n",
       "      <td>13</td>\n",
       "      <td>NotMarried</td>\n",
       "      <td>Adm-clerical</td>\n",
       "      <td>White</td>\n",
       "      <td>Male</td>\n",
       "      <td>40</td>\n",
       "      <td>United-States</td>\n",
       "      <td>0</td>\n",
       "    </tr>\n",
       "    <tr>\n",
       "      <th>1</th>\n",
       "      <td>50</td>\n",
       "      <td>Self-emp-not-inc</td>\n",
       "      <td>13</td>\n",
       "      <td>Married</td>\n",
       "      <td>Exec-managerial</td>\n",
       "      <td>White</td>\n",
       "      <td>Male</td>\n",
       "      <td>13</td>\n",
       "      <td>United-States</td>\n",
       "      <td>0</td>\n",
       "    </tr>\n",
       "    <tr>\n",
       "      <th>2</th>\n",
       "      <td>38</td>\n",
       "      <td>Private</td>\n",
       "      <td>9</td>\n",
       "      <td>Separated</td>\n",
       "      <td>Handlers-cleaners</td>\n",
       "      <td>White</td>\n",
       "      <td>Male</td>\n",
       "      <td>40</td>\n",
       "      <td>United-States</td>\n",
       "      <td>0</td>\n",
       "    </tr>\n",
       "    <tr>\n",
       "      <th>3</th>\n",
       "      <td>53</td>\n",
       "      <td>Private</td>\n",
       "      <td>7</td>\n",
       "      <td>Married</td>\n",
       "      <td>Handlers-cleaners</td>\n",
       "      <td>Black</td>\n",
       "      <td>Male</td>\n",
       "      <td>40</td>\n",
       "      <td>United-States</td>\n",
       "      <td>0</td>\n",
       "    </tr>\n",
       "    <tr>\n",
       "      <th>4</th>\n",
       "      <td>28</td>\n",
       "      <td>Private</td>\n",
       "      <td>13</td>\n",
       "      <td>Married</td>\n",
       "      <td>Prof-specialty</td>\n",
       "      <td>Black</td>\n",
       "      <td>Female</td>\n",
       "      <td>40</td>\n",
       "      <td>Cuba</td>\n",
       "      <td>0</td>\n",
       "    </tr>\n",
       "    <tr>\n",
       "      <th>...</th>\n",
       "      <td>...</td>\n",
       "      <td>...</td>\n",
       "      <td>...</td>\n",
       "      <td>...</td>\n",
       "      <td>...</td>\n",
       "      <td>...</td>\n",
       "      <td>...</td>\n",
       "      <td>...</td>\n",
       "      <td>...</td>\n",
       "      <td>...</td>\n",
       "    </tr>\n",
       "    <tr>\n",
       "      <th>32556</th>\n",
       "      <td>27</td>\n",
       "      <td>Private</td>\n",
       "      <td>12</td>\n",
       "      <td>Married</td>\n",
       "      <td>Tech-support</td>\n",
       "      <td>White</td>\n",
       "      <td>Female</td>\n",
       "      <td>38</td>\n",
       "      <td>United-States</td>\n",
       "      <td>0</td>\n",
       "    </tr>\n",
       "    <tr>\n",
       "      <th>32557</th>\n",
       "      <td>40</td>\n",
       "      <td>Private</td>\n",
       "      <td>9</td>\n",
       "      <td>Married</td>\n",
       "      <td>Machine-op-inspct</td>\n",
       "      <td>White</td>\n",
       "      <td>Male</td>\n",
       "      <td>40</td>\n",
       "      <td>United-States</td>\n",
       "      <td>1</td>\n",
       "    </tr>\n",
       "    <tr>\n",
       "      <th>32558</th>\n",
       "      <td>58</td>\n",
       "      <td>Private</td>\n",
       "      <td>9</td>\n",
       "      <td>Widowed</td>\n",
       "      <td>Adm-clerical</td>\n",
       "      <td>White</td>\n",
       "      <td>Female</td>\n",
       "      <td>40</td>\n",
       "      <td>United-States</td>\n",
       "      <td>0</td>\n",
       "    </tr>\n",
       "    <tr>\n",
       "      <th>32559</th>\n",
       "      <td>22</td>\n",
       "      <td>Private</td>\n",
       "      <td>9</td>\n",
       "      <td>NotMarried</td>\n",
       "      <td>Adm-clerical</td>\n",
       "      <td>White</td>\n",
       "      <td>Male</td>\n",
       "      <td>20</td>\n",
       "      <td>United-States</td>\n",
       "      <td>0</td>\n",
       "    </tr>\n",
       "    <tr>\n",
       "      <th>32560</th>\n",
       "      <td>52</td>\n",
       "      <td>Self-emp-inc</td>\n",
       "      <td>9</td>\n",
       "      <td>Married</td>\n",
       "      <td>Exec-managerial</td>\n",
       "      <td>White</td>\n",
       "      <td>Female</td>\n",
       "      <td>40</td>\n",
       "      <td>United-States</td>\n",
       "      <td>1</td>\n",
       "    </tr>\n",
       "  </tbody>\n",
       "</table>\n",
       "<p>29421 rows × 10 columns</p>\n",
       "</div>"
      ],
      "text/plain": [
       "       age          workclass   education-num  marital-status  \\\n",
       "0       39          State-gov              13      NotMarried   \n",
       "1       50   Self-emp-not-inc              13         Married   \n",
       "2       38            Private               9       Separated   \n",
       "3       53            Private               7         Married   \n",
       "4       28            Private              13         Married   \n",
       "...    ...                ...             ...             ...   \n",
       "32556   27            Private              12         Married   \n",
       "32557   40            Private               9         Married   \n",
       "32558   58            Private               9         Widowed   \n",
       "32559   22            Private               9      NotMarried   \n",
       "32560   52       Self-emp-inc               9         Married   \n",
       "\n",
       "               occupation    race      sex   hours-per-week  native-country  \\\n",
       "0            Adm-clerical   White     Male               40   United-States   \n",
       "1         Exec-managerial   White     Male               13   United-States   \n",
       "2       Handlers-cleaners   White     Male               40   United-States   \n",
       "3       Handlers-cleaners   Black     Male               40   United-States   \n",
       "4          Prof-specialty   Black   Female               40            Cuba   \n",
       "...                   ...     ...      ...              ...             ...   \n",
       "32556        Tech-support   White   Female               38   United-States   \n",
       "32557   Machine-op-inspct   White     Male               40   United-States   \n",
       "32558        Adm-clerical   White   Female               40   United-States   \n",
       "32559        Adm-clerical   White     Male               20   United-States   \n",
       "32560     Exec-managerial   White   Female               40   United-States   \n",
       "\n",
       "       target  \n",
       "0           0  \n",
       "1           0  \n",
       "2           0  \n",
       "3           0  \n",
       "4           0  \n",
       "...       ...  \n",
       "32556       0  \n",
       "32557       1  \n",
       "32558       0  \n",
       "32559       0  \n",
       "32560       1  \n",
       "\n",
       "[29421 rows x 10 columns]"
      ]
     },
     "execution_count": 156,
     "metadata": {},
     "output_type": "execute_result"
    }
   ],
   "source": [
    "temp_ds=dset\n",
    "temp_ds"
   ]
  },
  {
   "cell_type": "code",
   "execution_count": 75,
   "metadata": {},
   "outputs": [
    {
     "data": {
      "text/html": [
       "<div>\n",
       "<style scoped>\n",
       "    .dataframe tbody tr th:only-of-type {\n",
       "        vertical-align: middle;\n",
       "    }\n",
       "\n",
       "    .dataframe tbody tr th {\n",
       "        vertical-align: top;\n",
       "    }\n",
       "\n",
       "    .dataframe thead th {\n",
       "        text-align: right;\n",
       "    }\n",
       "</style>\n",
       "<table border=\"1\" class=\"dataframe\">\n",
       "  <thead>\n",
       "    <tr style=\"text-align: right;\">\n",
       "      <th></th>\n",
       "      <th>age</th>\n",
       "      <th>education-num</th>\n",
       "      <th>hours-per-week</th>\n",
       "      <th>target</th>\n",
       "      <th>age_bin</th>\n",
       "      <th>hours-per-week-bins</th>\n",
       "      <th>workclass_ Federal-gov</th>\n",
       "      <th>workclass_ Local-gov</th>\n",
       "      <th>workclass_ Private</th>\n",
       "      <th>workclass_ Self-emp-inc</th>\n",
       "      <th>...</th>\n",
       "      <th>native-country_ Portugal</th>\n",
       "      <th>native-country_ Puerto-Rico</th>\n",
       "      <th>native-country_ Scotland</th>\n",
       "      <th>native-country_ South</th>\n",
       "      <th>native-country_ Taiwan</th>\n",
       "      <th>native-country_ Thailand</th>\n",
       "      <th>native-country_ Trinadad&amp;Tobago</th>\n",
       "      <th>native-country_ United-States</th>\n",
       "      <th>native-country_ Vietnam</th>\n",
       "      <th>native-country_ Yugoslavia</th>\n",
       "    </tr>\n",
       "  </thead>\n",
       "  <tbody>\n",
       "    <tr>\n",
       "      <th>0</th>\n",
       "      <td>39</td>\n",
       "      <td>13</td>\n",
       "      <td>40</td>\n",
       "      <td>0</td>\n",
       "      <td>(38.9, 42.55]</td>\n",
       "      <td>(35.3, 40.2]</td>\n",
       "      <td>0</td>\n",
       "      <td>0</td>\n",
       "      <td>0</td>\n",
       "      <td>0</td>\n",
       "      <td>...</td>\n",
       "      <td>0</td>\n",
       "      <td>0</td>\n",
       "      <td>0</td>\n",
       "      <td>0</td>\n",
       "      <td>0</td>\n",
       "      <td>0</td>\n",
       "      <td>0</td>\n",
       "      <td>1</td>\n",
       "      <td>0</td>\n",
       "      <td>0</td>\n",
       "    </tr>\n",
       "    <tr>\n",
       "      <th>1</th>\n",
       "      <td>50</td>\n",
       "      <td>13</td>\n",
       "      <td>13</td>\n",
       "      <td>0</td>\n",
       "      <td>(49.85, 53.5]</td>\n",
       "      <td>(10.8, 15.7]</td>\n",
       "      <td>0</td>\n",
       "      <td>0</td>\n",
       "      <td>0</td>\n",
       "      <td>0</td>\n",
       "      <td>...</td>\n",
       "      <td>0</td>\n",
       "      <td>0</td>\n",
       "      <td>0</td>\n",
       "      <td>0</td>\n",
       "      <td>0</td>\n",
       "      <td>0</td>\n",
       "      <td>0</td>\n",
       "      <td>1</td>\n",
       "      <td>0</td>\n",
       "      <td>0</td>\n",
       "    </tr>\n",
       "    <tr>\n",
       "      <th>2</th>\n",
       "      <td>38</td>\n",
       "      <td>9</td>\n",
       "      <td>40</td>\n",
       "      <td>0</td>\n",
       "      <td>(35.25, 38.9]</td>\n",
       "      <td>(35.3, 40.2]</td>\n",
       "      <td>0</td>\n",
       "      <td>0</td>\n",
       "      <td>1</td>\n",
       "      <td>0</td>\n",
       "      <td>...</td>\n",
       "      <td>0</td>\n",
       "      <td>0</td>\n",
       "      <td>0</td>\n",
       "      <td>0</td>\n",
       "      <td>0</td>\n",
       "      <td>0</td>\n",
       "      <td>0</td>\n",
       "      <td>1</td>\n",
       "      <td>0</td>\n",
       "      <td>0</td>\n",
       "    </tr>\n",
       "    <tr>\n",
       "      <th>3</th>\n",
       "      <td>53</td>\n",
       "      <td>7</td>\n",
       "      <td>40</td>\n",
       "      <td>0</td>\n",
       "      <td>(49.85, 53.5]</td>\n",
       "      <td>(35.3, 40.2]</td>\n",
       "      <td>0</td>\n",
       "      <td>0</td>\n",
       "      <td>1</td>\n",
       "      <td>0</td>\n",
       "      <td>...</td>\n",
       "      <td>0</td>\n",
       "      <td>0</td>\n",
       "      <td>0</td>\n",
       "      <td>0</td>\n",
       "      <td>0</td>\n",
       "      <td>0</td>\n",
       "      <td>0</td>\n",
       "      <td>1</td>\n",
       "      <td>0</td>\n",
       "      <td>0</td>\n",
       "    </tr>\n",
       "    <tr>\n",
       "      <th>4</th>\n",
       "      <td>28</td>\n",
       "      <td>13</td>\n",
       "      <td>40</td>\n",
       "      <td>0</td>\n",
       "      <td>(27.95, 31.6]</td>\n",
       "      <td>(35.3, 40.2]</td>\n",
       "      <td>0</td>\n",
       "      <td>0</td>\n",
       "      <td>1</td>\n",
       "      <td>0</td>\n",
       "      <td>...</td>\n",
       "      <td>0</td>\n",
       "      <td>0</td>\n",
       "      <td>0</td>\n",
       "      <td>0</td>\n",
       "      <td>0</td>\n",
       "      <td>0</td>\n",
       "      <td>0</td>\n",
       "      <td>0</td>\n",
       "      <td>0</td>\n",
       "      <td>0</td>\n",
       "    </tr>\n",
       "  </tbody>\n",
       "</table>\n",
       "<p>5 rows × 79 columns</p>\n",
       "</div>"
      ],
      "text/plain": [
       "   age   education-num   hours-per-week  target        age_bin  \\\n",
       "0   39              13               40       0  (38.9, 42.55]   \n",
       "1   50              13               13       0  (49.85, 53.5]   \n",
       "2   38               9               40       0  (35.25, 38.9]   \n",
       "3   53               7               40       0  (49.85, 53.5]   \n",
       "4   28              13               40       0  (27.95, 31.6]   \n",
       "\n",
       "  hours-per-week-bins   workclass_ Federal-gov   workclass_ Local-gov  \\\n",
       "0        (35.3, 40.2]                        0                      0   \n",
       "1        (10.8, 15.7]                        0                      0   \n",
       "2        (35.3, 40.2]                        0                      0   \n",
       "3        (35.3, 40.2]                        0                      0   \n",
       "4        (35.3, 40.2]                        0                      0   \n",
       "\n",
       "    workclass_ Private   workclass_ Self-emp-inc  ...  \\\n",
       "0                    0                         0  ...   \n",
       "1                    0                         0  ...   \n",
       "2                    1                         0  ...   \n",
       "3                    1                         0  ...   \n",
       "4                    1                         0  ...   \n",
       "\n",
       "    native-country_ Portugal   native-country_ Puerto-Rico  \\\n",
       "0                          0                             0   \n",
       "1                          0                             0   \n",
       "2                          0                             0   \n",
       "3                          0                             0   \n",
       "4                          0                             0   \n",
       "\n",
       "    native-country_ Scotland   native-country_ South   native-country_ Taiwan  \\\n",
       "0                          0                       0                        0   \n",
       "1                          0                       0                        0   \n",
       "2                          0                       0                        0   \n",
       "3                          0                       0                        0   \n",
       "4                          0                       0                        0   \n",
       "\n",
       "    native-country_ Thailand   native-country_ Trinadad&Tobago  \\\n",
       "0                          0                                 0   \n",
       "1                          0                                 0   \n",
       "2                          0                                 0   \n",
       "3                          0                                 0   \n",
       "4                          0                                 0   \n",
       "\n",
       "    native-country_ United-States   native-country_ Vietnam  \\\n",
       "0                               1                         0   \n",
       "1                               1                         0   \n",
       "2                               1                         0   \n",
       "3                               1                         0   \n",
       "4                               0                         0   \n",
       "\n",
       "    native-country_ Yugoslavia  \n",
       "0                            0  \n",
       "1                            0  \n",
       "2                            0  \n",
       "3                            0  \n",
       "4                            0  \n",
       "\n",
       "[5 rows x 79 columns]"
      ]
     },
     "execution_count": 75,
     "metadata": {},
     "output_type": "execute_result"
    }
   ],
   "source": [
    "dataset.head()"
   ]
  },
  {
   "cell_type": "code",
   "execution_count": 157,
   "metadata": {},
   "outputs": [
    {
     "name": "stdout",
     "output_type": "stream",
     "text": [
      "       age          workclass   education-num  marital-status  \\\n",
      "0       39          State-gov              13      NotMarried   \n",
      "1       50   Self-emp-not-inc              13         Married   \n",
      "2       38            Private               9       Separated   \n",
      "3       53            Private               7         Married   \n",
      "4       28            Private              13         Married   \n",
      "...    ...                ...             ...             ...   \n",
      "32556   27            Private              12         Married   \n",
      "32557   40            Private               9         Married   \n",
      "32558   58            Private               9         Widowed   \n",
      "32559   22            Private               9      NotMarried   \n",
      "32560   52       Self-emp-inc               9         Married   \n",
      "\n",
      "               occupation    race      sex   hours-per-week  native-country  \n",
      "0            Adm-clerical   White     Male               40   United-States  \n",
      "1         Exec-managerial   White     Male               13   United-States  \n",
      "2       Handlers-cleaners   White     Male               40   United-States  \n",
      "3       Handlers-cleaners   Black     Male               40   United-States  \n",
      "4          Prof-specialty   Black   Female               40            Cuba  \n",
      "...                   ...     ...      ...              ...             ...  \n",
      "32556        Tech-support   White   Female               38   United-States  \n",
      "32557   Machine-op-inspct   White     Male               40   United-States  \n",
      "32558        Adm-clerical   White   Female               40   United-States  \n",
      "32559        Adm-clerical   White     Male               20   United-States  \n",
      "32560     Exec-managerial   White   Female               40   United-States  \n",
      "\n",
      "[29421 rows x 9 columns]\n"
     ]
    }
   ],
   "source": [
    "temp_ds.drop(['target'],inplace=True,axis=1)\n",
    "print(temp_ds)"
   ]
  },
  {
   "cell_type": "code",
   "execution_count": 76,
   "metadata": {},
   "outputs": [
    {
     "data": {
      "text/plain": [
       "0        0\n",
       "1        0\n",
       "2        0\n",
       "3        0\n",
       "4        0\n",
       "        ..\n",
       "32556    0\n",
       "32557    1\n",
       "32558    0\n",
       "32559    0\n",
       "32560    1\n",
       "Name: target, Length: 29421, dtype: int64"
      ]
     },
     "execution_count": 76,
     "metadata": {},
     "output_type": "execute_result"
    }
   ],
   "source": [
    "#Feature Selection\n",
    "salary_target=dataset.target\n",
    "dataset.drop(['target'],inplace=True,axis=1)\n",
    "salary_target"
   ]
  },
  {
   "cell_type": "code",
   "execution_count": 87,
   "metadata": {},
   "outputs": [],
   "source": [
    "dataset.drop(['age_bin','hours-per-week-bins'],inplace=True,axis=1)"
   ]
  },
  {
   "cell_type": "code",
   "execution_count": 88,
   "metadata": {},
   "outputs": [],
   "source": [
    "# Train - Test split\n",
    "train_data, test_data, train_target, test_target = train_test_split(dataset,salary_target, test_size  = 0.25,random_state=1)\n"
   ]
  },
  {
   "cell_type": "code",
   "execution_count": 148,
   "metadata": {},
   "outputs": [
    {
     "data": {
      "text/plain": [
       "Index(['age', ' education-num', ' hours-per-week', ' workclass_ Federal-gov',\n",
       "       ' workclass_ Local-gov', ' workclass_ Private',\n",
       "       ' workclass_ Self-emp-inc', ' workclass_ Self-emp-not-inc',\n",
       "       ' workclass_ State-gov', ' workclass_ Without-pay',\n",
       "       ' marital-status_Married', ' marital-status_NotMarried',\n",
       "       ' marital-status_Separated', ' marital-status_Widowed',\n",
       "       ' occupation_ Adm-clerical', ' occupation_ Armed-Forces',\n",
       "       ' occupation_ Craft-repair', ' occupation_ Exec-managerial',\n",
       "       ' occupation_ Farming-fishing', ' occupation_ Handlers-cleaners',\n",
       "       ' occupation_ Machine-op-inspct', ' occupation_ Other-service',\n",
       "       ' occupation_ Priv-house-serv', ' occupation_ Prof-specialty',\n",
       "       ' occupation_ Protective-serv', ' occupation_ Sales',\n",
       "       ' occupation_ Tech-support', ' occupation_ Transport-moving',\n",
       "       ' race_ Amer-Indian-Eskimo', ' race_ Asian-Pac-Islander',\n",
       "       ' race_ Black', ' race_ Other', ' race_ White', ' sex_ Female',\n",
       "       ' sex_ Male', ' native-country_ Cambodia', ' native-country_ Canada',\n",
       "       ' native-country_ China', ' native-country_ Columbia',\n",
       "       ' native-country_ Cuba', ' native-country_ Dominican-Republic',\n",
       "       ' native-country_ Ecuador', ' native-country_ El-Salvador',\n",
       "       ' native-country_ England', ' native-country_ France',\n",
       "       ' native-country_ Germany', ' native-country_ Greece',\n",
       "       ' native-country_ Guatemala', ' native-country_ Haiti',\n",
       "       ' native-country_ Holand-Netherlands', ' native-country_ Honduras',\n",
       "       ' native-country_ Hong', ' native-country_ Hungary',\n",
       "       ' native-country_ India', ' native-country_ Iran',\n",
       "       ' native-country_ Ireland', ' native-country_ Italy',\n",
       "       ' native-country_ Jamaica', ' native-country_ Japan',\n",
       "       ' native-country_ Laos', ' native-country_ Mexico',\n",
       "       ' native-country_ Nicaragua',\n",
       "       ' native-country_ Outlying-US(Guam-USVI-etc)', ' native-country_ Peru',\n",
       "       ' native-country_ Philippines', ' native-country_ Poland',\n",
       "       ' native-country_ Portugal', ' native-country_ Puerto-Rico',\n",
       "       ' native-country_ Scotland', ' native-country_ South',\n",
       "       ' native-country_ Taiwan', ' native-country_ Thailand',\n",
       "       ' native-country_ Trinadad&Tobago', ' native-country_ United-States',\n",
       "       ' native-country_ Vietnam', ' native-country_ Yugoslavia'],\n",
       "      dtype='object')"
      ]
     },
     "execution_count": 148,
     "metadata": {},
     "output_type": "execute_result"
    }
   ],
   "source": [
    "dataset.columns"
   ]
  },
  {
   "cell_type": "code",
   "execution_count": 90,
   "metadata": {},
   "outputs": [],
   "source": [
    "# Normalization\n",
    "from sklearn.preprocessing import StandardScaler  \n",
    "scaler = StandardScaler()  \n",
    "\n",
    "# Fitting only on training data\n",
    "scaler.fit(train_data)  \n",
    "train_data = scaler.transform(train_data)  \n",
    "\n",
    "# Applying same transformation to test data\n",
    "test_data = scaler.transform(test_data)"
   ]
  },
  {
   "cell_type": "code",
   "execution_count": 91,
   "metadata": {},
   "outputs": [
    {
     "name": "stdout",
     "output_type": "stream",
     "text": [
      "(22065, 76)\n",
      "(7356, 76)\n",
      "(22065,)\n",
      "(7356,)\n"
     ]
    }
   ],
   "source": [
    "print(train_data.shape)\n",
    "print(test_data.shape)\n",
    "print(train_target.shape)\n",
    "print(test_target.shape)"
   ]
  },
  {
   "cell_type": "markdown",
   "metadata": {},
   "source": [
    "# 1) Applying Logistic Regression"
   ]
  },
  {
   "cell_type": "code",
   "execution_count": 92,
   "metadata": {},
   "outputs": [],
   "source": [
    "\n",
    "from sklearn.linear_model import LogisticRegression\n",
    "from sklearn.metrics import confusion_matrix,accuracy_score"
   ]
  },
  {
   "cell_type": "code",
   "execution_count": 93,
   "metadata": {},
   "outputs": [
    {
     "name": "stderr",
     "output_type": "stream",
     "text": [
      "C:\\Users\\sagrawal\\anaconda3\\lib\\site-packages\\sklearn\\linear_model\\logistic.py:432: FutureWarning: Default solver will be changed to 'lbfgs' in 0.22. Specify a solver to silence this warning.\n",
      "  FutureWarning)\n"
     ]
    },
    {
     "data": {
      "text/plain": [
       "LogisticRegression(C=1.0, class_weight=None, dual=False, fit_intercept=True,\n",
       "                   intercept_scaling=1, l1_ratio=None, max_iter=2000,\n",
       "                   multi_class='warn', n_jobs=None, penalty='l2',\n",
       "                   random_state=None, solver='warn', tol=0.0001, verbose=0,\n",
       "                   warm_start=False)"
      ]
     },
     "execution_count": 93,
     "metadata": {},
     "output_type": "execute_result"
    }
   ],
   "source": [
    "#build model\n",
    "lr=LogisticRegression(max_iter=2000)\n",
    "lr.fit(train_data,train_target)"
   ]
  },
  {
   "cell_type": "code",
   "execution_count": 94,
   "metadata": {},
   "outputs": [],
   "source": [
    "pred_target=lr.predict(test_data)"
   ]
  },
  {
   "cell_type": "code",
   "execution_count": 95,
   "metadata": {},
   "outputs": [
    {
     "name": "stdout",
     "output_type": "stream",
     "text": [
      "0.8300706905927134\n"
     ]
    }
   ],
   "source": [
    "lr_score=accuracy_score(test_target,pred_target)\n",
    "print(lr_score)"
   ]
  },
  {
   "cell_type": "markdown",
   "metadata": {},
   "source": [
    "## The Accuracy of Logistic regression model is found to be 83%"
   ]
  },
  {
   "cell_type": "code",
   "execution_count": 96,
   "metadata": {},
   "outputs": [],
   "source": [
    "def print_heatmap(matrix, score, figsize=(9, 9)):\n",
    "    plt.figure(figsize=figsize)\n",
    "    sns.heatmap(matrix, annot=True,)   \n",
    "    plt.xlabel('Prediction')   \n",
    "    plt.ylabel('Actual') \n",
    "    plt.title(\"Accuracy Score: {0}\".format(score), size=15)\n"
   ]
  },
  {
   "cell_type": "markdown",
   "metadata": {},
   "source": [
    "### Confusion Matrix"
   ]
  },
  {
   "cell_type": "code",
   "execution_count": 97,
   "metadata": {},
   "outputs": [
    {
     "data": {
      "text/plain": [
       "array([[5091,  425],\n",
       "       [ 825, 1015]], dtype=int64)"
      ]
     },
     "execution_count": 97,
     "metadata": {},
     "output_type": "execute_result"
    }
   ],
   "source": [
    "metrix=metrics.confusion_matrix(test_target,pred_target)\n",
    "metrix"
   ]
  },
  {
   "cell_type": "code",
   "execution_count": 98,
   "metadata": {},
   "outputs": [
    {
     "data": {
      "image/png": "[encoded data removed]",
      "text/plain": [
       "<Figure size 648x648 with 2 Axes>"
      ]
     },
     "metadata": {
      "needs_background": "light"
     },
     "output_type": "display_data"
    }
   ],
   "source": [
    "print_heatmap(metrix,lr_score)"
   ]
  },
  {
   "cell_type": "markdown",
   "metadata": {},
   "source": [
    "# 2) Applying decision tree Classifier"
   ]
  },
  {
   "cell_type": "code",
   "execution_count": 99,
   "metadata": {},
   "outputs": [],
   "source": [
    "from sklearn.tree import DecisionTreeClassifier"
   ]
  },
  {
   "cell_type": "code",
   "execution_count": 100,
   "metadata": {},
   "outputs": [
    {
     "data": {
      "text/plain": [
       "DecisionTreeClassifier(class_weight=None, criterion='gini', max_depth=10,\n",
       "                       max_features=None, max_leaf_nodes=None,\n",
       "                       min_impurity_decrease=0.0, min_impurity_split=None,\n",
       "                       min_samples_leaf=1, min_samples_split=2,\n",
       "                       min_weight_fraction_leaf=0.0, presort=False,\n",
       "                       random_state=None, splitter='best')"
      ]
     },
     "execution_count": 100,
     "metadata": {},
     "output_type": "execute_result"
    }
   ],
   "source": [
    "dtc=DecisionTreeClassifier(max_depth=10)\n",
    "dtc"
   ]
  },
  {
   "cell_type": "code",
   "execution_count": 101,
   "metadata": {},
   "outputs": [
    {
     "data": {
      "text/plain": [
       "DecisionTreeClassifier(class_weight=None, criterion='gini', max_depth=10,\n",
       "                       max_features=None, max_leaf_nodes=None,\n",
       "                       min_impurity_decrease=0.0, min_impurity_split=None,\n",
       "                       min_samples_leaf=1, min_samples_split=2,\n",
       "                       min_weight_fraction_leaf=0.0, presort=False,\n",
       "                       random_state=None, splitter='best')"
      ]
     },
     "execution_count": 101,
     "metadata": {},
     "output_type": "execute_result"
    }
   ],
   "source": [
    "dtc.fit(X=train_data,y=train_target)"
   ]
  },
  {
   "cell_type": "code",
   "execution_count": 102,
   "metadata": {},
   "outputs": [],
   "source": [
    "pred_dtc_target=dtc.predict(test_data)"
   ]
  },
  {
   "cell_type": "code",
   "execution_count": 103,
   "metadata": {},
   "outputs": [
    {
     "data": {
      "text/plain": [
       "0.828847199564981"
      ]
     },
     "execution_count": 103,
     "metadata": {},
     "output_type": "execute_result"
    }
   ],
   "source": [
    "dtc_score=accuracy_score(test_target,pred_dtc_target)\n",
    "dtc_score"
   ]
  },
  {
   "cell_type": "markdown",
   "metadata": {},
   "source": [
    "## The accuracy of decision Tree Classifier is found to be 82.87%"
   ]
  },
  {
   "cell_type": "markdown",
   "metadata": {},
   "source": [
    "### Confusion Matrix"
   ]
  },
  {
   "cell_type": "code",
   "execution_count": 104,
   "metadata": {},
   "outputs": [
    {
     "data": {
      "text/plain": [
       "array([[4956,  560],\n",
       "       [ 699, 1141]], dtype=int64)"
      ]
     },
     "execution_count": 104,
     "metadata": {},
     "output_type": "execute_result"
    }
   ],
   "source": [
    "dtc_matrix=metrics.confusion_matrix(test_target,pred_dtc_target)\n",
    "dtc_matrix"
   ]
  },
  {
   "cell_type": "code",
   "execution_count": 105,
   "metadata": {},
   "outputs": [
    {
     "data": {
      "image/png": "[encoded data removed]",
      "text/plain": [
       "<Figure size 648x648 with 2 Axes>"
      ]
     },
     "metadata": {
      "needs_background": "light"
     },
     "output_type": "display_data"
    }
   ],
   "source": [
    "print_heatmap(dtc_matrix,dtc_score)"
   ]
  },
  {
   "cell_type": "markdown",
   "metadata": {},
   "source": [
    "# 3) Random Forest Classifier "
   ]
  },
  {
   "cell_type": "code",
   "execution_count": 106,
   "metadata": {},
   "outputs": [],
   "source": [
    "def train_model(X_train, y_train, X_test, y_test, classifier, **kwargs):\n",
    "    # instantiate model\n",
    "    model=classifier(**kwargs)\n",
    "    model.fit(X_train,y_train)\n",
    "    \n",
    "    # check accuracy and print out the results \n",
    "    fit_accuracy=model.score(X_train,y_train)\n",
    "    test_accuracy=model.score(X_test,y_test)\n",
    "    print(f\"Train Accuracy : {fit_accuracy:0.2%}\")\n",
    "    print(f\"Test Accuracy: {test_accuracy:0.2%}\")\n",
    "    return model\n",
    "    "
   ]
  },
  {
   "cell_type": "code",
   "execution_count": 107,
   "metadata": {},
   "outputs": [],
   "source": [
    "from sklearn.ensemble import RandomForestClassifier"
   ]
  },
  {
   "cell_type": "code",
   "execution_count": 108,
   "metadata": {},
   "outputs": [],
   "source": [
    "rfc=RandomForestClassifier(random_state=10)"
   ]
  },
  {
   "cell_type": "code",
   "execution_count": 109,
   "metadata": {},
   "outputs": [
    {
     "name": "stderr",
     "output_type": "stream",
     "text": [
      "C:\\Users\\sagrawal\\anaconda3\\lib\\site-packages\\sklearn\\ensemble\\forest.py:245: FutureWarning: The default value of n_estimators will change from 10 in version 0.20 to 100 in 0.22.\n",
      "  \"10 in version 0.20 to 100 in 0.22.\", FutureWarning)\n"
     ]
    },
    {
     "data": {
      "text/plain": [
       "RandomForestClassifier(bootstrap=True, class_weight=None, criterion='gini',\n",
       "                       max_depth=None, max_features='auto', max_leaf_nodes=None,\n",
       "                       min_impurity_decrease=0.0, min_impurity_split=None,\n",
       "                       min_samples_leaf=1, min_samples_split=2,\n",
       "                       min_weight_fraction_leaf=0.0, n_estimators=10,\n",
       "                       n_jobs=None, oob_score=False, random_state=10, verbose=0,\n",
       "                       warm_start=False)"
      ]
     },
     "execution_count": 109,
     "metadata": {},
     "output_type": "execute_result"
    }
   ],
   "source": [
    "rfc.fit(train_data,train_target)"
   ]
  },
  {
   "cell_type": "code",
   "execution_count": 110,
   "metadata": {},
   "outputs": [],
   "source": [
    "rfc_pred_target=rfc.predict(test_data)"
   ]
  },
  {
   "cell_type": "code",
   "execution_count": 111,
   "metadata": {},
   "outputs": [
    {
     "data": {
      "text/plain": [
       "0.8170201196302338"
      ]
     },
     "execution_count": 111,
     "metadata": {},
     "output_type": "execute_result"
    }
   ],
   "source": [
    "rfc_score=metrics.accuracy_score(test_target,rfc_pred_target)\n",
    "rfc_score"
   ]
  },
  {
   "cell_type": "markdown",
   "metadata": {},
   "source": [
    "rfcm=train_model(train_data,train_target,test_data,test_target,RandomForestClassifier,random_state=10)"
   ]
  },
  {
   "cell_type": "markdown",
   "metadata": {},
   "source": [
    "## The Accuracy of Random Forest Classifier is found to be 81.70%"
   ]
  },
  {
   "cell_type": "markdown",
   "metadata": {},
   "source": [
    "### Confusion Matrix"
   ]
  },
  {
   "cell_type": "code",
   "execution_count": 112,
   "metadata": {},
   "outputs": [
    {
     "data": {
      "text/plain": [
       "array([[4995,  521],\n",
       "       [ 825, 1015]], dtype=int64)"
      ]
     },
     "execution_count": 112,
     "metadata": {},
     "output_type": "execute_result"
    }
   ],
   "source": [
    "rfc_matrix=metrics.confusion_matrix(test_target,rfc_pred_target)\n",
    "rfc_matrix"
   ]
  },
  {
   "cell_type": "code",
   "execution_count": 113,
   "metadata": {},
   "outputs": [
    {
     "data": {
      "image/png": "[encoded data removed]",
      "text/plain": [
       "<Figure size 648x648 with 2 Axes>"
      ]
     },
     "metadata": {
      "needs_background": "light"
     },
     "output_type": "display_data"
    }
   ],
   "source": [
    "print_heatmap(rfc_matrix,rfc_score)"
   ]
  },
  {
   "cell_type": "markdown",
   "metadata": {},
   "source": [
    "# 4) KNN Classifier"
   ]
  },
  {
   "cell_type": "code",
   "execution_count": 114,
   "metadata": {},
   "outputs": [],
   "source": [
    "from sklearn.neighbors import KNeighborsClassifier"
   ]
  },
  {
   "cell_type": "code",
   "execution_count": 115,
   "metadata": {},
   "outputs": [
    {
     "name": "stdout",
     "output_type": "stream",
     "text": [
      "Train Accuracy : 85.09%\n",
      "Test Accuracy: 82.19%\n"
     ]
    }
   ],
   "source": [
    "knn=train_model(train_data,train_target,test_data,test_target,KNeighborsClassifier,n_neighbors=8)"
   ]
  },
  {
   "cell_type": "code",
   "execution_count": 116,
   "metadata": {},
   "outputs": [
    {
     "data": {
      "text/plain": [
       "KNeighborsClassifier(algorithm='auto', leaf_size=30, metric='minkowski',\n",
       "                     metric_params=None, n_jobs=None, n_neighbors=8, p=2,\n",
       "                     weights='uniform')"
      ]
     },
     "execution_count": 116,
     "metadata": {},
     "output_type": "execute_result"
    }
   ],
   "source": [
    "knn.fit(train_data,train_target)"
   ]
  },
  {
   "cell_type": "code",
   "execution_count": 117,
   "metadata": {},
   "outputs": [
    {
     "name": "stdout",
     "output_type": "stream",
     "text": [
      "[0 0 0 ... 1 0 1]\n"
     ]
    }
   ],
   "source": [
    "knn_pred_target=knn.predict(test_data)\n",
    "print(knn_pred_target)"
   ]
  },
  {
   "cell_type": "code",
   "execution_count": 118,
   "metadata": {},
   "outputs": [
    {
     "name": "stdout",
     "output_type": "stream",
     "text": [
      "The accuracy score achieved using KNN is: 82.19 %\n"
     ]
    }
   ],
   "source": [
    "knn_score = round(accuracy_score(test_target,knn_pred_target)*100,2)\n",
    "print(\"The accuracy score achieved using KNN is: \"+str(knn_score)+\" %\")"
   ]
  },
  {
   "cell_type": "markdown",
   "metadata": {},
   "source": [
    "## The accuracy score achieved using KNN is: 82.19 %\n"
   ]
  },
  {
   "cell_type": "markdown",
   "metadata": {},
   "source": [
    "### Confusion Matrix"
   ]
  },
  {
   "cell_type": "code",
   "execution_count": 119,
   "metadata": {},
   "outputs": [
    {
     "data": {
      "text/plain": [
       "array([[5103,  413],\n",
       "       [ 897,  943]], dtype=int64)"
      ]
     },
     "execution_count": 119,
     "metadata": {},
     "output_type": "execute_result"
    }
   ],
   "source": [
    "knn_matrix=metrics.confusion_matrix(test_target,knn_pred_target)\n",
    "knn_matrix"
   ]
  },
  {
   "cell_type": "code",
   "execution_count": 120,
   "metadata": {},
   "outputs": [
    {
     "data": {
      "image/png": "[encoded data removed]",
      "text/plain": [
       "<Figure size 648x648 with 2 Axes>"
      ]
     },
     "metadata": {
      "needs_background": "light"
     },
     "output_type": "display_data"
    }
   ],
   "source": [
    "print_heatmap(knn_matrix,knn_score)"
   ]
  },
  {
   "cell_type": "markdown",
   "metadata": {},
   "source": [
    "# Selecting Best Model"
   ]
  },
  {
   "cell_type": "code",
   "execution_count": 121,
   "metadata": {},
   "outputs": [],
   "source": [
    "from sklearn.metrics import classification_report"
   ]
  },
  {
   "cell_type": "code",
   "execution_count": 122,
   "metadata": {},
   "outputs": [],
   "source": [
    "target_names=['<=50K','>50K']\n",
    "lr_report=classification_report(test_target,pred_target,target_names=target_names)\n",
    "dtc_report=classification_report(test_target,pred_dtc_target,target_names=target_names)\n",
    "rfc_report=classification_report(test_target,rfc_pred_target,target_names=target_names)\n",
    "knn_report=classification_report(test_target,knn_pred_target,target_names=target_names)"
   ]
  },
  {
   "cell_type": "code",
   "execution_count": 123,
   "metadata": {},
   "outputs": [
    {
     "name": "stdout",
     "output_type": "stream",
     "text": [
      "**********************Classification Report Of Logistic Regression**********************\n",
      "              precision    recall  f1-score   support\n",
      "\n",
      "       <=50K       0.86      0.92      0.89      5516\n",
      "        >50K       0.70      0.55      0.62      1840\n",
      "\n",
      "    accuracy                           0.83      7356\n",
      "   macro avg       0.78      0.74      0.75      7356\n",
      "weighted avg       0.82      0.83      0.82      7356\n",
      "\n",
      "**********************Classification Report Of Decision Tree classifier**********************\n",
      "              precision    recall  f1-score   support\n",
      "\n",
      "       <=50K       0.88      0.90      0.89      5516\n",
      "        >50K       0.67      0.62      0.64      1840\n",
      "\n",
      "    accuracy                           0.83      7356\n",
      "   macro avg       0.77      0.76      0.77      7356\n",
      "weighted avg       0.82      0.83      0.83      7356\n",
      "\n",
      "**********************Classification Report Of Random Forest Classifier**********************\n",
      "              precision    recall  f1-score   support\n",
      "\n",
      "       <=50K       0.86      0.91      0.88      5516\n",
      "        >50K       0.66      0.55      0.60      1840\n",
      "\n",
      "    accuracy                           0.82      7356\n",
      "   macro avg       0.76      0.73      0.74      7356\n",
      "weighted avg       0.81      0.82      0.81      7356\n",
      "\n",
      "**********************Classification Report Of KNN Classifier**********************\n",
      "              precision    recall  f1-score   support\n",
      "\n",
      "       <=50K       0.85      0.93      0.89      5516\n",
      "        >50K       0.70      0.51      0.59      1840\n",
      "\n",
      "    accuracy                           0.82      7356\n",
      "   macro avg       0.77      0.72      0.74      7356\n",
      "weighted avg       0.81      0.82      0.81      7356\n",
      "\n",
      "*************************************************************************************\n"
     ]
    }
   ],
   "source": [
    "print(\"**********************Classification Report Of Logistic Regression**********************\")\n",
    "print(lr_report)\n",
    "print(\"**********************Classification Report Of Decision Tree classifier**********************\")\n",
    "print(dtc_report)\n",
    "print(\"**********************Classification Report Of Random Forest Classifier**********************\")\n",
    "print(rfc_report)\n",
    "print(\"**********************Classification Report Of KNN Classifier**********************\")\n",
    "print(knn_report)\n",
    "print(\"*************************************************************************************\")"
   ]
  },
  {
   "cell_type": "markdown",
   "metadata": {},
   "source": [
    "## Accuracies of All the Classifiers used"
   ]
  },
  {
   "cell_type": "code",
   "execution_count": 124,
   "metadata": {},
   "outputs": [
    {
     "name": "stdout",
     "output_type": "stream",
     "text": [
      "LOGISTIC REGRESSION CLASSIFIER :  83.00706905927134 %\n",
      "DECISION TREE CLASSIFIER :  82.8847199564981 %\n",
      "RANDOM FOEREST CLASSIFIER :  81.70201196302338 %\n",
      "KNN CLASSIFIER :  8219.0 %\n"
     ]
    }
   ],
   "source": [
    "print(\"LOGISTIC REGRESSION CLASSIFIER : \",lr_score*100,\"%\")\n",
    "print(\"DECISION TREE CLASSIFIER : \",dtc_score*100,\"%\")\n",
    "print(\"RANDOM FOEREST CLASSIFIER : \",rfc_score*100,\"%\")\n",
    "print(\"KNN CLASSIFIER : \",knn_score*100,\"%\")"
   ]
  },
  {
   "cell_type": "markdown",
   "metadata": {},
   "source": [
    "## Recall, Precision and F1 scores"
   ]
  },
  {
   "cell_type": "code",
   "execution_count": 125,
   "metadata": {},
   "outputs": [],
   "source": [
    "from sklearn.metrics import recall_score \n",
    "from sklearn.metrics import precision_score\n",
    "from sklearn.metrics import f1_score"
   ]
  },
  {
   "cell_type": "code",
   "execution_count": 126,
   "metadata": {},
   "outputs": [
    {
     "name": "stdout",
     "output_type": "stream",
     "text": [
      "LOGISTIC REGRESSION CLASSIFIER :  0.5516304347826086\n",
      "DECISION TREE CLASSIFIER :  0.6201086956521739\n",
      "RANDOM FOEREST CLASSIFIER :  0.5516304347826086\n",
      "KNN CLASSIFIER :  0.5125\n"
     ]
    }
   ],
   "source": [
    "lr_recall=recall_score(test_target,pred_target)\n",
    "dtc_recall=recall_score(test_target,pred_dtc_target)\n",
    "rfc_recall=recall_score(test_target,rfc_pred_target)\n",
    "knn_recall=recall_score(test_target,knn_pred_target)\n",
    "print(\"LOGISTIC REGRESSION CLASSIFIER : \",lr_recall)\n",
    "print(\"DECISION TREE CLASSIFIER : \",dtc_recall)\n",
    "print(\"RANDOM FOEREST CLASSIFIER : \",rfc_recall)\n",
    "print(\"KNN CLASSIFIER : \",knn_recall)\n",
    "recall=[]\n",
    "f1=[]\n",
    "recall.append(lr_recall)\n",
    "recall.append(dtc_recall)\n",
    "recall.append(rfc_recall)\n",
    "recall.append(knn_recall)"
   ]
  },
  {
   "cell_type": "code",
   "execution_count": 127,
   "metadata": {},
   "outputs": [
    {
     "name": "stdout",
     "output_type": "stream",
     "text": [
      "LOGISTIC REGRESSION CLASSIFIER :  0.7048611111111112\n",
      "DECISION TREE CLASSIFIER :  0.6707818930041153\n",
      "RANDOM FOEREST CLASSIFIER :  0.6608072916666666\n",
      "KNN CLASSIFIER :  0.6954277286135693\n"
     ]
    }
   ],
   "source": [
    "lr_prec=precision_score(test_target,pred_target)\n",
    "dtc_prec=precision_score(test_target,pred_dtc_target)\n",
    "rfc_prec=precision_score(test_target,rfc_pred_target)\n",
    "knn_prec=precision_score(test_target,knn_pred_target)\n",
    "print(\"LOGISTIC REGRESSION CLASSIFIER : \",lr_prec)\n",
    "print(\"DECISION TREE CLASSIFIER : \",dtc_prec)\n",
    "print(\"RANDOM FOEREST CLASSIFIER : \",rfc_prec)\n",
    "print(\"KNN CLASSIFIER : \",knn_prec)\n",
    "precision=[]\n",
    "precision.append(lr_prec)\n",
    "precision.append(dtc_prec)\n",
    "precision.append(rfc_prec)\n",
    "precision.append(knn_prec)"
   ]
  },
  {
   "cell_type": "code",
   "execution_count": 128,
   "metadata": {},
   "outputs": [
    {
     "name": "stdout",
     "output_type": "stream",
     "text": [
      "LOGISTIC REGRESSION CLASSIFIER :  0.6189024390243902\n",
      "DECISION TREE CLASSIFIER :  0.6444507201355549\n",
      "RANDOM FOEREST CLASSIFIER :  0.6013033175355449\n",
      "KNN CLASSIFIER :  0.5901126408010011\n"
     ]
    }
   ],
   "source": [
    "lr_f1=f1_score(test_target,pred_target)\n",
    "dtc_f1=f1_score(test_target,pred_dtc_target)\n",
    "rfc_f1=f1_score(test_target,rfc_pred_target)\n",
    "knn_f1=f1_score(test_target,knn_pred_target)\n",
    "print(\"LOGISTIC REGRESSION CLASSIFIER : \",lr_f1)\n",
    "print(\"DECISION TREE CLASSIFIER : \",dtc_f1)\n",
    "print(\"RANDOM FOEREST CLASSIFIER : \",rfc_f1)\n",
    "print(\"KNN CLASSIFIER : \",knn_f1)\n",
    "f1=[]\n",
    "f1.append(lr_f1)\n",
    "f1.append(dtc_f1)\n",
    "f1.append(rfc_f1)\n",
    "f1.append(knn_f1)"
   ]
  },
  {
   "cell_type": "markdown",
   "metadata": {},
   "source": [
    "\n",
    "\n",
    "## Visualising Performance of Models"
   ]
  },
  {
   "cell_type": "code",
   "execution_count": 129,
   "metadata": {},
   "outputs": [
    {
     "data": {
      "image/png": "[encoded data removed]",
      "text/plain": [
       "<Figure size 864x504 with 1 Axes>"
      ]
     },
     "metadata": {
      "needs_background": "light"
     },
     "output_type": "display_data"
    }
   ],
   "source": [
    "plt.figure(figsize=(12,7)) \n",
    "barWidth = 0.30\n",
    "classifiers = [\"Logistic Regression\",\"Decision Tree\",\" Radom Forest Classifier\",\"KNN\"]\n",
    "r1 = np.arange(len(recall))\n",
    "r2 = [x + barWidth for x in r1]\n",
    "r3 = [y + barWidth for y in r2]\n",
    "plt.bar(r1, recall, color='purple', width=barWidth,  label='Recall score')\n",
    "plt.bar(r2, precision, color='orange', width=barWidth, label='precision score')\n",
    "plt.bar(r3, f1, color='cyan', width=barWidth, label='F1-Score')\n",
    "plt.xlabel('MODELS ', fontweight='bold')\n",
    "plt.xticks([r + barWidth for r in range(len(recall))], classifiers)\n",
    " \n",
    "plt.legend()\n",
    "plt.show()"
   ]
  },
  {
   "cell_type": "markdown",
   "metadata": {},
   "source": [
    "# CONCLUSION"
   ]
  },
  {
   "cell_type": "markdown",
   "metadata": {},
   "source": [
    "## As the Accuracy of Logistic Regression is better than the other three viz. Decision tree classifier , Random forest Classifier,and KNN Classifier.\n",
    "## So, for this project, logistic regression is the best classifier"
   ]
  },
  {
   "cell_type": "code",
   "execution_count": 286,
   "metadata": {},
   "outputs": [
    {
     "data": {
      "text/plain": [
       "array([' United-States', ' Cuba', ' Jamaica', ' India', ' Mexico',\n",
       "       ' Puerto-Rico', ' Honduras', ' England', ' Canada', ' Germany',\n",
       "       ' Iran', ' Philippines', ' Poland', ' Columbia', ' Cambodia',\n",
       "       ' Thailand', ' Ecuador', ' Laos', ' Taiwan', ' Haiti', ' Portugal',\n",
       "       ' Dominican-Republic', ' El-Salvador', ' France', ' Guatemala',\n",
       "       ' Italy', ' China', ' South', ' Japan', ' Yugoslavia', ' Peru',\n",
       "       ' Outlying-US(Guam-USVI-etc)', ' Scotland', ' Trinadad&Tobago',\n",
       "       ' Greece', ' Nicaragua', ' Vietnam', ' Hong', ' Ireland',\n",
       "       ' Hungary', ' Holand-Netherlands'], dtype=object)"
      ]
     },
     "execution_count": 286,
     "metadata": {},
     "output_type": "execute_result"
    }
   ],
   "source": [
    "income_ds[' native-country'].unique()"
   ]
  },
  {
   "cell_type": "code",
   "execution_count": 265,
   "metadata": {},
   "outputs": [],
   "source": [
    "import tkinter as tk\n",
    "from tkinter import ttk"
   ]
  },
  {
   "cell_type": "code",
   "execution_count": 299,
   "metadata": {},
   "outputs": [],
   "source": [
    "def take_input():\n",
    "    inputval=[]\n",
    "    Age=int(age.get())\n",
    "\n",
    "    edu=int(eduNum.get())\n",
    "\n",
    "    hpw=int(hourspweek.get())\n",
    "  \n",
    "    inputval.append(Age)\n",
    "    \n",
    "    inputval.append(edu)\n",
    "    inputval.append(hpw)\n",
    "    inputval.append(workclass.get())\n",
    "    inputval.append(maritalstatus.get())\n",
    "    inputval.append(occupation.get())\n",
    "    inputval.append(race.get())\n",
    "    inputval.append(gender.get())\n",
    "    inputval.append(nativecountry.get())\n",
    "    \n",
    "    \n",
    "    \n",
    "    \n",
    " \n",
    "    print(inputval)\n",
    "    lst=[]\n",
    "    lst.append(inputval)\n",
    "    test_df=pd.DataFrame(lst,columns=['age', ' education-num', ' hours-per-week', ' workclass', ' marital-status', ' occupation',\n",
    "       ' race', ' sex', ' native-country'])\n",
    "    #print(test_df)\n",
    "    temp_ds2=pd.concat([temp_ds,test_df],axis=0,join=\"inner\")\n",
    "    temp_ds.append(test_df,ignore_index=True)\n",
    "    #print(temp_ds2.tail())\n",
    "    temp_ds3=oneHot(temp_ds2,temp_ds2.select_dtypes('object').columns)\n",
    "    temp_ds3=scaler.transform(temp_ds3)\n",
    "    \n",
    "  \n",
    "    pred_ans=lr.predict(temp_ds3)\n",
    "    #print(pred_ans[-1])\n",
    "    substituteWindow = tk.Tk()\n",
    "    substituteWindow.geometry('640x480-8-200')\n",
    "    substituteWindow.title(\"RESULT PREDICTION\")\n",
    "    substituteWindow.configure(bg='orange')\n",
    "\n",
    "\n",
    "    \n",
    "    substituteWindow.columnconfigure(0, weight=2)\n",
    "    substituteWindow.columnconfigure(1, weight=1)\n",
    "    substituteWindow.columnconfigure(2, weight=2)\n",
    "    substituteWindow.columnconfigure(3, weight=2)\n",
    "    substituteWindow.rowconfigure(0, weight=1)\n",
    "    substituteWindow.rowconfigure(1, weight=10)\n",
    "    substituteWindow.rowconfigure(2, weight=10)\n",
    "    substituteWindow.rowconfigure(3, weight=1)\n",
    "    substituteWindow.rowconfigure(4, weight=1)\n",
    "    substituteWindow.rowconfigure(5, weight=1)\n",
    "    if pred_ans[-1] == 1:\n",
    "        label1 = tk.Label(substituteWindow, text=\"Income is >50K\", font=('Impact', -45), fg='purple',bg=\"yellow\")\n",
    "        label1.grid(row=0, column=1, columnspan=6)\n",
    "        label2 = tk.Label(substituteWindow, text=\"THANK YOU \\n FROM \\n --THE Ultimates-- \", font=('Impact', -30), fg='blue',bg='pink')\n",
    "        label2.grid(row=3, column=1, columnspan=6)      \n",
    "    else: \n",
    "        label1 = tk.Label(substituteWindow, text=\"Income is <=50K\", font=('Impact', -45),fg='purple',bg='yellow' )\n",
    "        label1.grid(row=0, column=1, columnspan=6)\n",
    "        label2 = tk.Label(substituteWindow, text=\"THANK YOU \\n FROM \\n --THE Ultimates-- \", font=('Impact', -30), fg='blue',bg=\"pink\")\n",
    "        label2.grid(row=3, column=1, columnspan=6)      \n",
    "        \n",
    "    substituteWindow.mainloop()\n",
    "    \n",
    "\n",
    "\n",
    "\n"
   ]
  },
  {
   "cell_type": "code",
   "execution_count": 301,
   "metadata": {},
   "outputs": [
    {
     "name": "stdout",
     "output_type": "stream",
     "text": [
      "[39, 13, 40, ' State-gov', 'NotMarried', ' Adm-clerical', ' White', ' Male', ' United-States']\n"
     ]
    }
   ],
   "source": [
    "mainWindow=tk.Tk()\n",
    "mainWindow.geometry('740x580+200-100')\n",
    "mainWindow.title(\"INCOME CLASSIFICATION \")\n",
    "mainWindow.configure(bg=\"blue\")\n",
    "mainWindow.columnconfigure(0, weight=2)\n",
    "mainWindow.columnconfigure(1, weight=1)\n",
    "mainWindow.columnconfigure(2, weight=2)\n",
    "mainWindow.columnconfigure(3, weight=2)\n",
    "#mainWindow.columnconfigure(4, weight=2)\n",
    "mainWindow.rowconfigure(0, weight=0)\n",
    "mainWindow.rowconfigure(1, weight=0)\n",
    "mainWindow.rowconfigure(2, weight=1)\n",
    "mainWindow.rowconfigure(3, weight=1)\n",
    "mainWindow.rowconfigure(4, weight=1)\n",
    "mainWindow.rowconfigure(5, weight=1)\n",
    "mainWindow.rowconfigure(6, weight=1)\n",
    "mainWindow.rowconfigure(7, weight=1)\n",
    "mainWindow.rowconfigure(8, weight=10)\n",
    "mainWindow.rowconfigure(9, weight=10)\n",
    "mainWindow.rowconfigure(10, weight=10)\n",
    "mainWindow.rowconfigure(11, weight=10)\n",
    "label1=tk.Label(mainWindow,text=\"PREDICTING INCOME CLASS\",font=('Impact', -35),bg=\"red\")\n",
    "label1.grid(row=0,column=0,columnspan=6)\n",
    "\n",
    "label2=tk.Label(mainWindow,text=\" BY \\n THE ULTIMATES\",font=('Impact', -20),bg=\"purple\",fg=\"white\")\n",
    "label2.grid(row=1,column=0,columnspan=6)\n",
    "\n",
    "#frame for the feature inputs\n",
    "ageFrame=tk.LabelFrame(mainWindow,text=\"Age(in yrs)\")\n",
    "ageFrame.grid(row=2,column=0)\n",
    "ageFrame.config(font=(\"Courier\",-15))\n",
    "age=tk.Entry(ageFrame)\n",
    "age.grid(row=2,column=2,sticky='nw')\n",
    "\n",
    "eduNumFrame=tk.LabelFrame(mainWindow,text=\"Education number\")\n",
    "eduNumFrame.grid(row=2,column=1)\n",
    "eduNumFrame.config(font=(\"Courier\",-15))\n",
    "eduvar=tk.StringVar()\n",
    "eduNum=ttk.Combobox(eduNumFrame,width=27,textvariable=eduvar)\n",
    "eduNum['values']=['1','2','3','4','5','6','7','8','9','10','11','12','13','14','15','16']\n",
    "eduNum.grid(row=2,column=2,sticky='nw')\n",
    "\n",
    "hourspweekFrame=tk.LabelFrame(mainWindow,text=\"Hours per week\")\n",
    "hourspweekFrame.grid(row=2,column=2)\n",
    "hourspweekFrame.config(font=(\"Courier\",-15))\n",
    "hourspweek=tk.Entry(hourspweekFrame)\n",
    "hourspweek.grid(row=2,column=2,sticky='nw')\n",
    "\n",
    "workclassFrame=tk.LabelFrame(mainWindow,text=\"Workclass\")\n",
    "workclassFrame.grid(row=3,column=0)\n",
    "workclassFrame.config(font=(\"Courier\",-15))\n",
    "wcvar=tk.StringVar()\n",
    "workclass=ttk.Combobox(workclassFrame,width=27,textvariable=wcvar)\n",
    "workclass['values']=[' State-gov', ' Self-emp-not-inc', ' Private', ' Federal-gov',' Local-gov', ' Self-emp-inc', ' Without-pay']\n",
    "workclass.grid(row=2,column=2,sticky='nw')\n",
    "\n",
    "maritalstatusFrame=tk.LabelFrame(mainWindow,text=\"Marital status\")\n",
    "maritalstatusFrame.grid(row=3,column=1)\n",
    "maritalstatusFrame.config(font=(\"Courier\",-15))\n",
    "msvar=tk.StringVar()\n",
    "maritalstatus=ttk.Combobox(maritalstatusFrame,width=27,textvariable=msvar)\n",
    "maritalstatus['values']=['NotMarried', 'Married', 'Separated', 'Widowed']\n",
    "maritalstatus.grid(row=2,column=2,sticky='nw')\n",
    "\n",
    "occupationFrame=tk.LabelFrame(mainWindow,text=\"Occupation\")\n",
    "occupationFrame.grid(row=3,column=2)\n",
    "occupationFrame.config(font=(\"Courier\",-15))\n",
    "occvar=tk.StringVar()\n",
    "occupation=ttk.Combobox(occupationFrame,width=27,textvariable=occvar)\n",
    "occupation['values']=[' Adm-clerical', ' Exec-managerial', ' Handlers-cleaners',' Prof-specialty', ' Other-service', ' Sales', ' Transport-moving', ' Farming-fishing', ' Machine-op-inspct', ' Tech-support',' Craft-repair', ' Protective-serv', ' Armed-Forces',' Priv-house-serv']\n",
    "occupation.grid(row=2,column=2,sticky='nw')\n",
    "\n",
    "\n",
    "raceFrame=tk.LabelFrame(mainWindow,text=\"Race\")\n",
    "raceFrame.grid(row=4,column=0)\n",
    "raceFrame.config(font=(\"Courier\",-15))\n",
    "racevar=tk.StringVar()\n",
    "race=ttk.Combobox(raceFrame,width=27,textvariable=racevar)\n",
    "race['values']=[' White', ' Black', ' Asian-Pac-Islander', ' Amer-Indian-Eskimo',' Other']\n",
    "race.grid(row=2,column=2,sticky='nw')\n",
    "\n",
    "genderFrame=tk.LabelFrame(mainWindow,text=\"Gender\")\n",
    "genderFrame.grid(row=4,column=1)\n",
    "genderFrame.config(font=(\"Courier\",-15))\n",
    "gendervar=tk.StringVar()\n",
    "gender=ttk.Combobox(genderFrame,width=27,textvariable=gendervar)\n",
    "gender['values']=[' Male', ' Female']\n",
    "gender.grid(row=2,column=2,sticky='nw')\n",
    "\n",
    "nativecountryFrame=tk.LabelFrame(mainWindow,text=\"Native country\")\n",
    "nativecountryFrame.grid(row=4,column=2)\n",
    "nativecountryFrame.config(font=(\"Courier\",-15))\n",
    "ncvar=tk.StringVar()\n",
    "nativecountry=ttk.Combobox(nativecountryFrame,width=27,textvariable=ncvar)\n",
    "nativecountry['values']=[' United-States', ' Cuba', ' Jamaica', ' India', ' Mexico',' Puerto-Rico', ' Honduras', ' England', ' Canada', ' Germany',' Iran', ' Philippines', ' Poland', ' Columbia', ' Cambodia',' Thailand', ' Ecuador', ' Laos', ' Taiwan', ' Haiti', ' Portugal',' Dominican-Republic', ' El-Salvador', ' France', ' Guatemala',' Italy', ' China', ' South', ' Japan', ' Yugoslavia', ' Peru',' Outlying-US(Guam-USVI-etc)', ' Scotland', ' Trinadad&Tobago',' Greece', ' Nicaragua', ' Vietnam', ' Hong', ' Ireland',' Hungary', ' Holand-Netherlands']\n",
    "nativecountry.grid(row=2,column=2,sticky='nw')\n",
    "\n",
    "\n",
    "\n",
    "\n",
    "\n",
    "\n",
    "\n",
    "\n",
    "\n",
    "finalButton=tk.Button(mainWindow,text=\"SUBMIT\",font=(\"Impact\",-15),bg=\"grey\",fg=\"white\",command=take_input)\n",
    "finalButton.grid(row=9,column=0,columnspan=10)\n",
    "mylabel=tk.Label(mainWindow,text=\"Designed By Priyank garg \", font=(\"Impact\",-35),bg=\"Cyan\")\n",
    "mylabel.grid(row=11,column=0,columnspan=6)\n",
    "\n",
    "mainWindow.mainloop()"
   ]
  },
  {
   "cell_type": "code",
   "execution_count": null,
   "metadata": {},
   "outputs": [],
   "source": []
  }
 ],
 "metadata": {
  "kernelspec": {
   "display_name": "Python 3",
   "language": "python",
   "name": "python3"
  },
  "language_info": {
   "codemirror_mode": {
    "name": "ipython",
    "version": 3
   },
   "file_extension": ".py",
   "mimetype": "text/x-python",
   "name": "python",
   "nbconvert_exporter": "python",
   "pygments_lexer": "ipython3",
   "version": "3.7.6"
  }
 },
 "nbformat": 4,
 "nbformat_minor": 4
}
